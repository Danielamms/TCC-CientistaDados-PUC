{
 "cells": [
  {
   "cell_type": "markdown",
   "id": "47f94f1b",
   "metadata": {},
   "source": [
    "#                                       TRABALHO CONCLUSAO DE CURSO \n",
    "                                               \n",
    "    \n"
   ]
  },
  {
   "cell_type": "markdown",
   "id": "c1177add",
   "metadata": {},
   "source": [
    "## PUC MINAS\n",
    "## CIENCIA DE DADO \n",
    "\n",
    "## Aluno: Daniela Matta Machado"
   ]
  },
  {
   "cell_type": "code",
   "execution_count": 1,
   "id": "ce47d23f",
   "metadata": {},
   "outputs": [],
   "source": [
    "\n",
    "#Importe das bibliotecas e pacotes necessarios para o projeto\n",
    "\n",
    "#forma a base para o trabalho de ciencia de dados\n",
    "import numpy as np\n",
    "import pandas as pd\n",
    "\n",
    "import datetime\n",
    "\n",
    "#Matplotlib usado nas visualizacoes:\n",
    "import matplotlib\n",
    "import matplotlib.pyplot as plt\n",
    "from matplotlib import colors\n",
    "import pylab as pl\n",
    "import seaborn as sns\n",
    "\n",
    "#Algoritmo Kmeans e metricas\n",
    "from sklearn.cluster import KMeans\n",
    "from sklearn.preprocessing import LabelEncoder\n",
    "from sklearn.preprocessing import StandardScaler\n",
    "from sklearn.metrics import silhouette_score\n",
    "from sklearn.decomposition import PCA\n",
    "from sklearn.model_selection import train_test_split\n",
    "from yellowbrick.cluster import KElbowVisualizer\n",
    "from scipy.spatial.distance import cdist, pdist\n",
    "\n",
    "#Para algoritmo DBSCAN\n",
    "from sklearn.cluster import DBSCAN\n",
    "from sklearn.datasets import make_moons\n",
    "%matplotlib inline\n",
    "\n",
    "#Imports para algoritmo MeanShift\n",
    "from sklearn.cluster import MeanShift, estimate_bandwidth\n",
    "from itertools import cycle\n",
    "\n",
    "\n",
    "from mpl_toolkits.mplot3d import Axes3D\n",
    "from sklearn.cluster import AgglomerativeClustering\n",
    "from matplotlib.colors import ListedColormap\n",
    "from sklearn import metrics\n",
    "import warnings\n",
    "import sys\n",
    "if not sys.warnoptions:\n",
    "    warnings.simplefilter(\"ignore\")\n",
    "np.random.seed(42)\n",
    "import warnings\n",
    "warnings.filterwarnings(\"ignore\")\n",
    "\n",
    "\n",
    "\n",
    "\n"
   ]
  },
  {
   "cell_type": "code",
   "execution_count": 2,
   "id": "b2419e44",
   "metadata": {},
   "outputs": [
    {
     "data": {
      "text/html": [
       "<div>\n",
       "<style scoped>\n",
       "    .dataframe tbody tr th:only-of-type {\n",
       "        vertical-align: middle;\n",
       "    }\n",
       "\n",
       "    .dataframe tbody tr th {\n",
       "        vertical-align: top;\n",
       "    }\n",
       "\n",
       "    .dataframe thead th {\n",
       "        text-align: right;\n",
       "    }\n",
       "</style>\n",
       "<table border=\"1\" class=\"dataframe\">\n",
       "  <thead>\n",
       "    <tr style=\"text-align: right;\">\n",
       "      <th></th>\n",
       "      <th>Order ID</th>\n",
       "      <th>Product</th>\n",
       "      <th>Quantity Ordered</th>\n",
       "      <th>Price Each</th>\n",
       "      <th>Order Date</th>\n",
       "      <th>Purchase Address</th>\n",
       "    </tr>\n",
       "  </thead>\n",
       "  <tbody>\n",
       "    <tr>\n",
       "      <th>0</th>\n",
       "      <td>141234</td>\n",
       "      <td>iPhone</td>\n",
       "      <td>1</td>\n",
       "      <td>700</td>\n",
       "      <td>01/22/19 21:25</td>\n",
       "      <td>944 Walnut St, Boston, MA 02215</td>\n",
       "    </tr>\n",
       "    <tr>\n",
       "      <th>1</th>\n",
       "      <td>141235</td>\n",
       "      <td>Lightning Charging Cable</td>\n",
       "      <td>1</td>\n",
       "      <td>14.95</td>\n",
       "      <td>01/28/19 14:15</td>\n",
       "      <td>185 Maple St, Portland, OR 97035</td>\n",
       "    </tr>\n",
       "    <tr>\n",
       "      <th>2</th>\n",
       "      <td>141236</td>\n",
       "      <td>Wired Headphones</td>\n",
       "      <td>2</td>\n",
       "      <td>11.99</td>\n",
       "      <td>01/17/19 13:33</td>\n",
       "      <td>538 Adams St, San Francisco, CA 94016</td>\n",
       "    </tr>\n",
       "    <tr>\n",
       "      <th>3</th>\n",
       "      <td>141237</td>\n",
       "      <td>27in FHD Monitor</td>\n",
       "      <td>1</td>\n",
       "      <td>149.99</td>\n",
       "      <td>01/05/19 20:33</td>\n",
       "      <td>738 10th St, Los Angeles, CA 90001</td>\n",
       "    </tr>\n",
       "    <tr>\n",
       "      <th>4</th>\n",
       "      <td>141238</td>\n",
       "      <td>Wired Headphones</td>\n",
       "      <td>1</td>\n",
       "      <td>11.99</td>\n",
       "      <td>01/25/19 11:59</td>\n",
       "      <td>387 10th St, Austin, TX 73301</td>\n",
       "    </tr>\n",
       "  </tbody>\n",
       "</table>\n",
       "</div>"
      ],
      "text/plain": [
       "  Order ID                   Product Quantity Ordered Price Each  \\\n",
       "0   141234                    iPhone                1        700   \n",
       "1   141235  Lightning Charging Cable                1      14.95   \n",
       "2   141236          Wired Headphones                2      11.99   \n",
       "3   141237          27in FHD Monitor                1     149.99   \n",
       "4   141238          Wired Headphones                1      11.99   \n",
       "\n",
       "       Order Date                       Purchase Address  \n",
       "0  01/22/19 21:25        944 Walnut St, Boston, MA 02215  \n",
       "1  01/28/19 14:15       185 Maple St, Portland, OR 97035  \n",
       "2  01/17/19 13:33  538 Adams St, San Francisco, CA 94016  \n",
       "3  01/05/19 20:33     738 10th St, Los Angeles, CA 90001  \n",
       "4  01/25/19 11:59          387 10th St, Austin, TX 73301  "
      ]
     },
     "execution_count": 2,
     "metadata": {},
     "output_type": "execute_result"
    }
   ],
   "source": [
    "# Conhecer a primeira planilha com os dados de venda janeiro 2019\n",
    "\n",
    "VendasJan = pd.read_csv(\"Sales_January_2019.csv\")\n",
    "VendasJan.head()"
   ]
  },
  {
   "cell_type": "code",
   "execution_count": 3,
   "id": "3f134cfd",
   "metadata": {},
   "outputs": [
    {
     "data": {
      "text/html": [
       "<div>\n",
       "<style scoped>\n",
       "    .dataframe tbody tr th:only-of-type {\n",
       "        vertical-align: middle;\n",
       "    }\n",
       "\n",
       "    .dataframe tbody tr th {\n",
       "        vertical-align: top;\n",
       "    }\n",
       "\n",
       "    .dataframe thead th {\n",
       "        text-align: right;\n",
       "    }\n",
       "</style>\n",
       "<table border=\"1\" class=\"dataframe\">\n",
       "  <thead>\n",
       "    <tr style=\"text-align: right;\">\n",
       "      <th></th>\n",
       "      <th>Order ID</th>\n",
       "      <th>Product</th>\n",
       "      <th>Quantity Ordered</th>\n",
       "      <th>Price Each</th>\n",
       "      <th>Order Date</th>\n",
       "      <th>Purchase Address</th>\n",
       "    </tr>\n",
       "  </thead>\n",
       "  <tbody>\n",
       "    <tr>\n",
       "      <th>0</th>\n",
       "      <td>141234</td>\n",
       "      <td>iPhone</td>\n",
       "      <td>1</td>\n",
       "      <td>700</td>\n",
       "      <td>01/22/19 21:25</td>\n",
       "      <td>944 Walnut St, Boston, MA 02215</td>\n",
       "    </tr>\n",
       "    <tr>\n",
       "      <th>1</th>\n",
       "      <td>141235</td>\n",
       "      <td>Lightning Charging Cable</td>\n",
       "      <td>1</td>\n",
       "      <td>14.95</td>\n",
       "      <td>01/28/19 14:15</td>\n",
       "      <td>185 Maple St, Portland, OR 97035</td>\n",
       "    </tr>\n",
       "    <tr>\n",
       "      <th>2</th>\n",
       "      <td>141236</td>\n",
       "      <td>Wired Headphones</td>\n",
       "      <td>2</td>\n",
       "      <td>11.99</td>\n",
       "      <td>01/17/19 13:33</td>\n",
       "      <td>538 Adams St, San Francisco, CA 94016</td>\n",
       "    </tr>\n",
       "    <tr>\n",
       "      <th>3</th>\n",
       "      <td>141237</td>\n",
       "      <td>27in FHD Monitor</td>\n",
       "      <td>1</td>\n",
       "      <td>149.99</td>\n",
       "      <td>01/05/19 20:33</td>\n",
       "      <td>738 10th St, Los Angeles, CA 90001</td>\n",
       "    </tr>\n",
       "    <tr>\n",
       "      <th>4</th>\n",
       "      <td>141238</td>\n",
       "      <td>Wired Headphones</td>\n",
       "      <td>1</td>\n",
       "      <td>11.99</td>\n",
       "      <td>01/25/19 11:59</td>\n",
       "      <td>387 10th St, Austin, TX 73301</td>\n",
       "    </tr>\n",
       "  </tbody>\n",
       "</table>\n",
       "</div>"
      ],
      "text/plain": [
       "  Order ID                   Product Quantity Ordered Price Each  \\\n",
       "0   141234                    iPhone                1        700   \n",
       "1   141235  Lightning Charging Cable                1      14.95   \n",
       "2   141236          Wired Headphones                2      11.99   \n",
       "3   141237          27in FHD Monitor                1     149.99   \n",
       "4   141238          Wired Headphones                1      11.99   \n",
       "\n",
       "       Order Date                       Purchase Address  \n",
       "0  01/22/19 21:25        944 Walnut St, Boston, MA 02215  \n",
       "1  01/28/19 14:15       185 Maple St, Portland, OR 97035  \n",
       "2  01/17/19 13:33  538 Adams St, San Francisco, CA 94016  \n",
       "3  01/05/19 20:33     738 10th St, Los Angeles, CA 90001  \n",
       "4  01/25/19 11:59          387 10th St, Austin, TX 73301  "
      ]
     },
     "execution_count": 3,
     "metadata": {},
     "output_type": "execute_result"
    }
   ],
   "source": [
    "#Consolidar todas as planilhas em um DataFrame unico\n",
    "\n",
    "VendasFev = pd.read_csv(\"Sales_February_2019.csv\")\n",
    "VendasMarc = pd.read_csv(\"Sales_March_2019.csv.zip\")\n",
    "VendasAbri = pd.read_csv(\"Sales_April_2019.csv.zip\")\n",
    "VendasMai = pd.read_csv(\"Sales_May_2019.csv.zip\")\n",
    "VendasJun = pd.read_csv(\"Sales_June_2019.csv.zip\")\n",
    "VendasJul = pd.read_csv(\"Sales_July_2019.csv.zip\")\n",
    "VendasAgo = pd.read_csv(\"Sales_August_2019.csv\")\n",
    "VendasSet = pd.read_csv(\"Sales_September_2019.csv\")\n",
    "VendasOut = pd.read_csv(\"Sales_October_2019.csv.zip\")\n",
    "VendasNov = pd.read_csv(\"Sales_November_2019.csv.zip\")\n",
    "VendasDez = pd.read_csv(\"Sales_December_2019.csv.zip\")\n",
    "\n",
    "frames = [VendasJan, VendasFev, VendasMarc,VendasAbri,VendasMai,VendasJun, VendasJul, VendasAgo, VendasSet,VendasOut,VendasNov,VendasDez ]\n",
    "VendasConsolidado = pd.concat(frames)\n",
    "VendasConsolidado.head()"
   ]
  },
  {
   "cell_type": "code",
   "execution_count": 4,
   "id": "a3df9764",
   "metadata": {},
   "outputs": [
    {
     "name": "stdout",
     "output_type": "stream",
     "text": [
      "<class 'pandas.core.frame.DataFrame'>\n",
      "Int64Index: 186850 entries, 0 to 25116\n",
      "Data columns (total 6 columns):\n",
      " #   Column            Non-Null Count   Dtype \n",
      "---  ------            --------------   ----- \n",
      " 0   Order ID          186305 non-null  object\n",
      " 1   Product           186305 non-null  object\n",
      " 2   Quantity Ordered  186305 non-null  object\n",
      " 3   Price Each        186305 non-null  object\n",
      " 4   Order Date        186305 non-null  object\n",
      " 5   Purchase Address  186305 non-null  object\n",
      "dtypes: object(6)\n",
      "memory usage: 10.0+ MB\n"
     ]
    }
   ],
   "source": [
    "#Conhecer os dados importados\n",
    "VendasConsolidado.info()"
   ]
  },
  {
   "cell_type": "code",
   "execution_count": 5,
   "id": "8a459332",
   "metadata": {},
   "outputs": [
    {
     "data": {
      "text/plain": [
       "Order ID            545\n",
       "Product             545\n",
       "Quantity Ordered    545\n",
       "Price Each          545\n",
       "Order Date          545\n",
       "Purchase Address    545\n",
       "dtype: int64"
      ]
     },
     "execution_count": 5,
     "metadata": {},
     "output_type": "execute_result"
    }
   ],
   "source": [
    "# Conhecer e trabalhar os dados missing\n",
    "ValoresMissing = VendasConsolidado.isnull().sum()\n",
    "ValoresMissing"
   ]
  },
  {
   "cell_type": "code",
   "execution_count": 6,
   "id": "651328bc",
   "metadata": {},
   "outputs": [
    {
     "data": {
      "text/plain": [
       "Order ID            0\n",
       "Product             0\n",
       "Quantity Ordered    0\n",
       "Price Each          0\n",
       "Order Date          0\n",
       "Purchase Address    0\n",
       "dtype: int64"
      ]
     },
     "execution_count": 6,
     "metadata": {},
     "output_type": "execute_result"
    }
   ],
   "source": [
    "VendasConsolidado = VendasConsolidado.dropna(how='all')\n",
    "VendasConsolidado.isnull().sum()"
   ]
  },
  {
   "cell_type": "code",
   "execution_count": 7,
   "id": "e2d0edd1",
   "metadata": {},
   "outputs": [
    {
     "name": "stdout",
     "output_type": "stream",
     "text": [
      "Order ID : 178438 valores unicos\n",
      "Product : 20 valores unicos\n",
      "Quantity Ordered : 10 valores unicos\n",
      "Price Each : 24 valores unicos\n",
      "Order Date : 142396 valores unicos\n",
      "Purchase Address : 140788 valores unicos\n"
     ]
    }
   ],
   "source": [
    "#Descobrir os valores unicos\n",
    "ValoresUnicos = VendasConsolidado.select_dtypes(['category', 'object']).columns\n",
    "for uniq in ValoresUnicos:\n",
    "    print('{} : {} valores unicos'.format(uniq, VendasConsolidado[uniq].nunique()))"
   ]
  },
  {
   "cell_type": "code",
   "execution_count": 8,
   "id": "dafdea1a",
   "metadata": {},
   "outputs": [
    {
     "data": {
      "text/html": [
       "<div>\n",
       "<style scoped>\n",
       "    .dataframe tbody tr th:only-of-type {\n",
       "        vertical-align: middle;\n",
       "    }\n",
       "\n",
       "    .dataframe tbody tr th {\n",
       "        vertical-align: top;\n",
       "    }\n",
       "\n",
       "    .dataframe thead th {\n",
       "        text-align: right;\n",
       "    }\n",
       "</style>\n",
       "<table border=\"1\" class=\"dataframe\">\n",
       "  <thead>\n",
       "    <tr style=\"text-align: right;\">\n",
       "      <th></th>\n",
       "      <th>Order ID</th>\n",
       "      <th>Product</th>\n",
       "      <th>Quantity Ordered</th>\n",
       "      <th>Price Each</th>\n",
       "      <th>Order Date</th>\n",
       "      <th>Purchase Address</th>\n",
       "    </tr>\n",
       "  </thead>\n",
       "  <tbody>\n",
       "    <tr>\n",
       "      <th>0</th>\n",
       "      <td>141234</td>\n",
       "      <td>iPhone</td>\n",
       "      <td>1</td>\n",
       "      <td>700</td>\n",
       "      <td>01/22/19 21:25</td>\n",
       "      <td>944 Walnut St, Boston, MA 02215</td>\n",
       "    </tr>\n",
       "    <tr>\n",
       "      <th>1</th>\n",
       "      <td>141235</td>\n",
       "      <td>Lightning Charging Cable</td>\n",
       "      <td>1</td>\n",
       "      <td>14.95</td>\n",
       "      <td>01/28/19 14:15</td>\n",
       "      <td>185 Maple St, Portland, OR 97035</td>\n",
       "    </tr>\n",
       "    <tr>\n",
       "      <th>2</th>\n",
       "      <td>141236</td>\n",
       "      <td>Wired Headphones</td>\n",
       "      <td>2</td>\n",
       "      <td>11.99</td>\n",
       "      <td>01/17/19 13:33</td>\n",
       "      <td>538 Adams St, San Francisco, CA 94016</td>\n",
       "    </tr>\n",
       "    <tr>\n",
       "      <th>3</th>\n",
       "      <td>141237</td>\n",
       "      <td>27in FHD Monitor</td>\n",
       "      <td>1</td>\n",
       "      <td>149.99</td>\n",
       "      <td>01/05/19 20:33</td>\n",
       "      <td>738 10th St, Los Angeles, CA 90001</td>\n",
       "    </tr>\n",
       "    <tr>\n",
       "      <th>4</th>\n",
       "      <td>141238</td>\n",
       "      <td>Wired Headphones</td>\n",
       "      <td>1</td>\n",
       "      <td>11.99</td>\n",
       "      <td>01/25/19 11:59</td>\n",
       "      <td>387 10th St, Austin, TX 73301</td>\n",
       "    </tr>\n",
       "  </tbody>\n",
       "</table>\n",
       "</div>"
      ],
      "text/plain": [
       "  Order ID                   Product Quantity Ordered Price Each  \\\n",
       "0   141234                    iPhone                1        700   \n",
       "1   141235  Lightning Charging Cable                1      14.95   \n",
       "2   141236          Wired Headphones                2      11.99   \n",
       "3   141237          27in FHD Monitor                1     149.99   \n",
       "4   141238          Wired Headphones                1      11.99   \n",
       "\n",
       "       Order Date                       Purchase Address  \n",
       "0  01/22/19 21:25        944 Walnut St, Boston, MA 02215  \n",
       "1  01/28/19 14:15       185 Maple St, Portland, OR 97035  \n",
       "2  01/17/19 13:33  538 Adams St, San Francisco, CA 94016  \n",
       "3  01/05/19 20:33     738 10th St, Los Angeles, CA 90001  \n",
       "4  01/25/19 11:59          387 10th St, Austin, TX 73301  "
      ]
     },
     "execution_count": 8,
     "metadata": {},
     "output_type": "execute_result"
    }
   ],
   "source": [
    "VendasConsolidado[VendasConsolidado.isna().any(axis=1)]\n",
    "VendasConsolidado = VendasConsolidado[VendasConsolidado['Order Date'].str[0:2] != 'Or']\n",
    "VendasConsolidado.head()"
   ]
  },
  {
   "cell_type": "code",
   "execution_count": 9,
   "id": "8865d5a2",
   "metadata": {},
   "outputs": [
    {
     "data": {
      "text/html": [
       "<div>\n",
       "<style scoped>\n",
       "    .dataframe tbody tr th:only-of-type {\n",
       "        vertical-align: middle;\n",
       "    }\n",
       "\n",
       "    .dataframe tbody tr th {\n",
       "        vertical-align: top;\n",
       "    }\n",
       "\n",
       "    .dataframe thead th {\n",
       "        text-align: right;\n",
       "    }\n",
       "</style>\n",
       "<table border=\"1\" class=\"dataframe\">\n",
       "  <thead>\n",
       "    <tr style=\"text-align: right;\">\n",
       "      <th></th>\n",
       "      <th>Order ID</th>\n",
       "      <th>Product</th>\n",
       "      <th>Order Date</th>\n",
       "      <th>Purchase Address</th>\n",
       "      <th>Qtd produto</th>\n",
       "      <th>Preco unitario</th>\n",
       "    </tr>\n",
       "  </thead>\n",
       "  <tbody>\n",
       "    <tr>\n",
       "      <th>0</th>\n",
       "      <td>141234</td>\n",
       "      <td>iPhone</td>\n",
       "      <td>01/22/19 21:25</td>\n",
       "      <td>944 Walnut St, Boston, MA 02215</td>\n",
       "      <td>1</td>\n",
       "      <td>700.00</td>\n",
       "    </tr>\n",
       "    <tr>\n",
       "      <th>1</th>\n",
       "      <td>141235</td>\n",
       "      <td>Lightning Charging Cable</td>\n",
       "      <td>01/28/19 14:15</td>\n",
       "      <td>185 Maple St, Portland, OR 97035</td>\n",
       "      <td>1</td>\n",
       "      <td>14.95</td>\n",
       "    </tr>\n",
       "    <tr>\n",
       "      <th>2</th>\n",
       "      <td>141236</td>\n",
       "      <td>Wired Headphones</td>\n",
       "      <td>01/17/19 13:33</td>\n",
       "      <td>538 Adams St, San Francisco, CA 94016</td>\n",
       "      <td>2</td>\n",
       "      <td>11.99</td>\n",
       "    </tr>\n",
       "    <tr>\n",
       "      <th>3</th>\n",
       "      <td>141237</td>\n",
       "      <td>27in FHD Monitor</td>\n",
       "      <td>01/05/19 20:33</td>\n",
       "      <td>738 10th St, Los Angeles, CA 90001</td>\n",
       "      <td>1</td>\n",
       "      <td>149.99</td>\n",
       "    </tr>\n",
       "    <tr>\n",
       "      <th>4</th>\n",
       "      <td>141238</td>\n",
       "      <td>Wired Headphones</td>\n",
       "      <td>01/25/19 11:59</td>\n",
       "      <td>387 10th St, Austin, TX 73301</td>\n",
       "      <td>1</td>\n",
       "      <td>11.99</td>\n",
       "    </tr>\n",
       "  </tbody>\n",
       "</table>\n",
       "</div>"
      ],
      "text/plain": [
       "  Order ID                   Product      Order Date  \\\n",
       "0   141234                    iPhone  01/22/19 21:25   \n",
       "1   141235  Lightning Charging Cable  01/28/19 14:15   \n",
       "2   141236          Wired Headphones  01/17/19 13:33   \n",
       "3   141237          27in FHD Monitor  01/05/19 20:33   \n",
       "4   141238          Wired Headphones  01/25/19 11:59   \n",
       "\n",
       "                        Purchase Address  Qtd produto  Preco unitario  \n",
       "0        944 Walnut St, Boston, MA 02215            1          700.00  \n",
       "1       185 Maple St, Portland, OR 97035            1           14.95  \n",
       "2  538 Adams St, San Francisco, CA 94016            2           11.99  \n",
       "3     738 10th St, Los Angeles, CA 90001            1          149.99  \n",
       "4          387 10th St, Austin, TX 73301            1           11.99  "
      ]
     },
     "execution_count": 9,
     "metadata": {},
     "output_type": "execute_result"
    }
   ],
   "source": [
    "#Trabalhar os tipos dos dados em 'Quantidade Pedida' e 'Preco' . Transformar as unidades para int e float\n",
    "VendasConsolidado['Qtd produto'] = VendasConsolidado['Quantity Ordered'].astype(str).astype(int)\n",
    "VendasConsolidado['Preco unitario'] = VendasConsolidado['Price Each'].astype(float, errors = 'raise')\n",
    "\n",
    "#Excluir colunas repetidas e coluna de ID\n",
    "del VendasConsolidado['Quantity Ordered']\n",
    "del VendasConsolidado['Price Each']\n",
    "\n",
    "#Checar novamente a planilha \n",
    "VendasConsolidado.head()\n"
   ]
  },
  {
   "cell_type": "code",
   "execution_count": 10,
   "id": "156dabea",
   "metadata": {},
   "outputs": [
    {
     "data": {
      "text/html": [
       "<div>\n",
       "<style scoped>\n",
       "    .dataframe tbody tr th:only-of-type {\n",
       "        vertical-align: middle;\n",
       "    }\n",
       "\n",
       "    .dataframe tbody tr th {\n",
       "        vertical-align: top;\n",
       "    }\n",
       "\n",
       "    .dataframe thead th {\n",
       "        text-align: right;\n",
       "    }\n",
       "</style>\n",
       "<table border=\"1\" class=\"dataframe\">\n",
       "  <thead>\n",
       "    <tr style=\"text-align: right;\">\n",
       "      <th></th>\n",
       "      <th>Order ID</th>\n",
       "      <th>Product</th>\n",
       "      <th>Order Date</th>\n",
       "      <th>Purchase Address</th>\n",
       "      <th>Qtd produto</th>\n",
       "      <th>Preco unitario</th>\n",
       "      <th>ValorVenda</th>\n",
       "    </tr>\n",
       "  </thead>\n",
       "  <tbody>\n",
       "    <tr>\n",
       "      <th>0</th>\n",
       "      <td>141234</td>\n",
       "      <td>iPhone</td>\n",
       "      <td>01/22/19 21:25</td>\n",
       "      <td>944 Walnut St, Boston, MA 02215</td>\n",
       "      <td>1</td>\n",
       "      <td>700.00</td>\n",
       "      <td>700.00</td>\n",
       "    </tr>\n",
       "    <tr>\n",
       "      <th>1</th>\n",
       "      <td>141235</td>\n",
       "      <td>Lightning Charging Cable</td>\n",
       "      <td>01/28/19 14:15</td>\n",
       "      <td>185 Maple St, Portland, OR 97035</td>\n",
       "      <td>1</td>\n",
       "      <td>14.95</td>\n",
       "      <td>14.95</td>\n",
       "    </tr>\n",
       "    <tr>\n",
       "      <th>2</th>\n",
       "      <td>141236</td>\n",
       "      <td>Wired Headphones</td>\n",
       "      <td>01/17/19 13:33</td>\n",
       "      <td>538 Adams St, San Francisco, CA 94016</td>\n",
       "      <td>2</td>\n",
       "      <td>11.99</td>\n",
       "      <td>23.98</td>\n",
       "    </tr>\n",
       "    <tr>\n",
       "      <th>3</th>\n",
       "      <td>141237</td>\n",
       "      <td>27in FHD Monitor</td>\n",
       "      <td>01/05/19 20:33</td>\n",
       "      <td>738 10th St, Los Angeles, CA 90001</td>\n",
       "      <td>1</td>\n",
       "      <td>149.99</td>\n",
       "      <td>149.99</td>\n",
       "    </tr>\n",
       "    <tr>\n",
       "      <th>4</th>\n",
       "      <td>141238</td>\n",
       "      <td>Wired Headphones</td>\n",
       "      <td>01/25/19 11:59</td>\n",
       "      <td>387 10th St, Austin, TX 73301</td>\n",
       "      <td>1</td>\n",
       "      <td>11.99</td>\n",
       "      <td>11.99</td>\n",
       "    </tr>\n",
       "  </tbody>\n",
       "</table>\n",
       "</div>"
      ],
      "text/plain": [
       "  Order ID                   Product      Order Date  \\\n",
       "0   141234                    iPhone  01/22/19 21:25   \n",
       "1   141235  Lightning Charging Cable  01/28/19 14:15   \n",
       "2   141236          Wired Headphones  01/17/19 13:33   \n",
       "3   141237          27in FHD Monitor  01/05/19 20:33   \n",
       "4   141238          Wired Headphones  01/25/19 11:59   \n",
       "\n",
       "                        Purchase Address  Qtd produto  Preco unitario  \\\n",
       "0        944 Walnut St, Boston, MA 02215            1          700.00   \n",
       "1       185 Maple St, Portland, OR 97035            1           14.95   \n",
       "2  538 Adams St, San Francisco, CA 94016            2           11.99   \n",
       "3     738 10th St, Los Angeles, CA 90001            1          149.99   \n",
       "4          387 10th St, Austin, TX 73301            1           11.99   \n",
       "\n",
       "   ValorVenda  \n",
       "0      700.00  \n",
       "1       14.95  \n",
       "2       23.98  \n",
       "3      149.99  \n",
       "4       11.99  "
      ]
     },
     "execution_count": 10,
     "metadata": {},
     "output_type": "execute_result"
    }
   ],
   "source": [
    "VendasConsolidado['ValorVenda'] = VendasConsolidado['Qtd produto'] * VendasConsolidado['Preco unitario']\n",
    "VendasConsolidado['ValorVenda'].round(decimals=2)\n",
    "VendasConsolidado.head()"
   ]
  },
  {
   "cell_type": "code",
   "execution_count": 11,
   "id": "be5253e6",
   "metadata": {},
   "outputs": [
    {
     "data": {
      "text/html": [
       "<div>\n",
       "<style scoped>\n",
       "    .dataframe tbody tr th:only-of-type {\n",
       "        vertical-align: middle;\n",
       "    }\n",
       "\n",
       "    .dataframe tbody tr th {\n",
       "        vertical-align: top;\n",
       "    }\n",
       "\n",
       "    .dataframe thead th {\n",
       "        text-align: right;\n",
       "    }\n",
       "</style>\n",
       "<table border=\"1\" class=\"dataframe\">\n",
       "  <thead>\n",
       "    <tr style=\"text-align: right;\">\n",
       "      <th></th>\n",
       "      <th>Order ID</th>\n",
       "      <th>Product</th>\n",
       "      <th>Order Date</th>\n",
       "      <th>Purchase Address</th>\n",
       "      <th>Qtd produto</th>\n",
       "      <th>Preco unitario</th>\n",
       "      <th>ValorVenda</th>\n",
       "      <th>Ano</th>\n",
       "      <th>Mes</th>\n",
       "      <th>Dia</th>\n",
       "    </tr>\n",
       "  </thead>\n",
       "  <tbody>\n",
       "    <tr>\n",
       "      <th>0</th>\n",
       "      <td>141234</td>\n",
       "      <td>iPhone</td>\n",
       "      <td>2019-01-22 21:25:00</td>\n",
       "      <td>944 Walnut St, Boston, MA 02215</td>\n",
       "      <td>1</td>\n",
       "      <td>700.00</td>\n",
       "      <td>700.00</td>\n",
       "      <td>2019</td>\n",
       "      <td>1</td>\n",
       "      <td>22</td>\n",
       "    </tr>\n",
       "    <tr>\n",
       "      <th>1</th>\n",
       "      <td>141235</td>\n",
       "      <td>Lightning Charging Cable</td>\n",
       "      <td>2019-01-28 14:15:00</td>\n",
       "      <td>185 Maple St, Portland, OR 97035</td>\n",
       "      <td>1</td>\n",
       "      <td>14.95</td>\n",
       "      <td>14.95</td>\n",
       "      <td>2019</td>\n",
       "      <td>1</td>\n",
       "      <td>28</td>\n",
       "    </tr>\n",
       "    <tr>\n",
       "      <th>2</th>\n",
       "      <td>141236</td>\n",
       "      <td>Wired Headphones</td>\n",
       "      <td>2019-01-17 13:33:00</td>\n",
       "      <td>538 Adams St, San Francisco, CA 94016</td>\n",
       "      <td>2</td>\n",
       "      <td>11.99</td>\n",
       "      <td>23.98</td>\n",
       "      <td>2019</td>\n",
       "      <td>1</td>\n",
       "      <td>17</td>\n",
       "    </tr>\n",
       "    <tr>\n",
       "      <th>3</th>\n",
       "      <td>141237</td>\n",
       "      <td>27in FHD Monitor</td>\n",
       "      <td>2019-01-05 20:33:00</td>\n",
       "      <td>738 10th St, Los Angeles, CA 90001</td>\n",
       "      <td>1</td>\n",
       "      <td>149.99</td>\n",
       "      <td>149.99</td>\n",
       "      <td>2019</td>\n",
       "      <td>1</td>\n",
       "      <td>5</td>\n",
       "    </tr>\n",
       "    <tr>\n",
       "      <th>4</th>\n",
       "      <td>141238</td>\n",
       "      <td>Wired Headphones</td>\n",
       "      <td>2019-01-25 11:59:00</td>\n",
       "      <td>387 10th St, Austin, TX 73301</td>\n",
       "      <td>1</td>\n",
       "      <td>11.99</td>\n",
       "      <td>11.99</td>\n",
       "      <td>2019</td>\n",
       "      <td>1</td>\n",
       "      <td>25</td>\n",
       "    </tr>\n",
       "  </tbody>\n",
       "</table>\n",
       "</div>"
      ],
      "text/plain": [
       "  Order ID                   Product          Order Date  \\\n",
       "0   141234                    iPhone 2019-01-22 21:25:00   \n",
       "1   141235  Lightning Charging Cable 2019-01-28 14:15:00   \n",
       "2   141236          Wired Headphones 2019-01-17 13:33:00   \n",
       "3   141237          27in FHD Monitor 2019-01-05 20:33:00   \n",
       "4   141238          Wired Headphones 2019-01-25 11:59:00   \n",
       "\n",
       "                        Purchase Address  Qtd produto  Preco unitario  \\\n",
       "0        944 Walnut St, Boston, MA 02215            1          700.00   \n",
       "1       185 Maple St, Portland, OR 97035            1           14.95   \n",
       "2  538 Adams St, San Francisco, CA 94016            2           11.99   \n",
       "3     738 10th St, Los Angeles, CA 90001            1          149.99   \n",
       "4          387 10th St, Austin, TX 73301            1           11.99   \n",
       "\n",
       "   ValorVenda   Ano  Mes  Dia  \n",
       "0      700.00  2019    1   22  \n",
       "1       14.95  2019    1   28  \n",
       "2       23.98  2019    1   17  \n",
       "3      149.99  2019    1    5  \n",
       "4       11.99  2019    1   25  "
      ]
     },
     "execution_count": 11,
     "metadata": {},
     "output_type": "execute_result"
    }
   ],
   "source": [
    "#Separar a coluna 'Order date' em ano, mes e dia para melhor responder as perguntas do negocio\n",
    "\n",
    "VendasConsolidado['Order Date'] = pd.to_datetime(VendasConsolidado['Order Date'])\n",
    "VendasConsolidado['Ano'] =  VendasConsolidado['Order Date'].dt.year\n",
    "VendasConsolidado['Mes'] = VendasConsolidado['Order Date'].dt.month\n",
    "VendasConsolidado['Dia'] = VendasConsolidado['Order Date'].dt.day\n",
    "\n",
    "VendasConsolidado.head()\n"
   ]
  },
  {
   "cell_type": "code",
   "execution_count": 12,
   "id": "8bba60af",
   "metadata": {},
   "outputs": [
    {
     "data": {
      "text/html": [
       "<div>\n",
       "<style scoped>\n",
       "    .dataframe tbody tr th:only-of-type {\n",
       "        vertical-align: middle;\n",
       "    }\n",
       "\n",
       "    .dataframe tbody tr th {\n",
       "        vertical-align: top;\n",
       "    }\n",
       "\n",
       "    .dataframe thead th {\n",
       "        text-align: right;\n",
       "    }\n",
       "</style>\n",
       "<table border=\"1\" class=\"dataframe\">\n",
       "  <thead>\n",
       "    <tr style=\"text-align: right;\">\n",
       "      <th></th>\n",
       "      <th>Order ID</th>\n",
       "      <th>Product</th>\n",
       "      <th>Order Date</th>\n",
       "      <th>Purchase Address</th>\n",
       "      <th>Qtd produto</th>\n",
       "      <th>Preco unitario</th>\n",
       "      <th>ValorVenda</th>\n",
       "      <th>Ano</th>\n",
       "      <th>Mes</th>\n",
       "      <th>Dia</th>\n",
       "      <th>Cidade</th>\n",
       "      <th>Rua</th>\n",
       "      <th>Estado</th>\n",
       "    </tr>\n",
       "  </thead>\n",
       "  <tbody>\n",
       "    <tr>\n",
       "      <th>0</th>\n",
       "      <td>141234</td>\n",
       "      <td>iPhone</td>\n",
       "      <td>2019-01-22 21:25:00</td>\n",
       "      <td>944 Walnut St, Boston, MA 02215</td>\n",
       "      <td>1</td>\n",
       "      <td>700.00</td>\n",
       "      <td>700.00</td>\n",
       "      <td>2019</td>\n",
       "      <td>1</td>\n",
       "      <td>22</td>\n",
       "      <td>Boston</td>\n",
       "      <td>944 Walnut St</td>\n",
       "      <td>MA</td>\n",
       "    </tr>\n",
       "    <tr>\n",
       "      <th>1</th>\n",
       "      <td>141235</td>\n",
       "      <td>Lightning Charging Cable</td>\n",
       "      <td>2019-01-28 14:15:00</td>\n",
       "      <td>185 Maple St, Portland, OR 97035</td>\n",
       "      <td>1</td>\n",
       "      <td>14.95</td>\n",
       "      <td>14.95</td>\n",
       "      <td>2019</td>\n",
       "      <td>1</td>\n",
       "      <td>28</td>\n",
       "      <td>Portland</td>\n",
       "      <td>185 Maple St</td>\n",
       "      <td>OR</td>\n",
       "    </tr>\n",
       "    <tr>\n",
       "      <th>2</th>\n",
       "      <td>141236</td>\n",
       "      <td>Wired Headphones</td>\n",
       "      <td>2019-01-17 13:33:00</td>\n",
       "      <td>538 Adams St, San Francisco, CA 94016</td>\n",
       "      <td>2</td>\n",
       "      <td>11.99</td>\n",
       "      <td>23.98</td>\n",
       "      <td>2019</td>\n",
       "      <td>1</td>\n",
       "      <td>17</td>\n",
       "      <td>San Francisco</td>\n",
       "      <td>538 Adams St</td>\n",
       "      <td>CA</td>\n",
       "    </tr>\n",
       "    <tr>\n",
       "      <th>3</th>\n",
       "      <td>141237</td>\n",
       "      <td>27in FHD Monitor</td>\n",
       "      <td>2019-01-05 20:33:00</td>\n",
       "      <td>738 10th St, Los Angeles, CA 90001</td>\n",
       "      <td>1</td>\n",
       "      <td>149.99</td>\n",
       "      <td>149.99</td>\n",
       "      <td>2019</td>\n",
       "      <td>1</td>\n",
       "      <td>5</td>\n",
       "      <td>Los Angeles</td>\n",
       "      <td>738 10th St</td>\n",
       "      <td>CA</td>\n",
       "    </tr>\n",
       "    <tr>\n",
       "      <th>4</th>\n",
       "      <td>141238</td>\n",
       "      <td>Wired Headphones</td>\n",
       "      <td>2019-01-25 11:59:00</td>\n",
       "      <td>387 10th St, Austin, TX 73301</td>\n",
       "      <td>1</td>\n",
       "      <td>11.99</td>\n",
       "      <td>11.99</td>\n",
       "      <td>2019</td>\n",
       "      <td>1</td>\n",
       "      <td>25</td>\n",
       "      <td>Austin</td>\n",
       "      <td>387 10th St</td>\n",
       "      <td>TX</td>\n",
       "    </tr>\n",
       "  </tbody>\n",
       "</table>\n",
       "</div>"
      ],
      "text/plain": [
       "  Order ID                   Product          Order Date  \\\n",
       "0   141234                    iPhone 2019-01-22 21:25:00   \n",
       "1   141235  Lightning Charging Cable 2019-01-28 14:15:00   \n",
       "2   141236          Wired Headphones 2019-01-17 13:33:00   \n",
       "3   141237          27in FHD Monitor 2019-01-05 20:33:00   \n",
       "4   141238          Wired Headphones 2019-01-25 11:59:00   \n",
       "\n",
       "                        Purchase Address  Qtd produto  Preco unitario  \\\n",
       "0        944 Walnut St, Boston, MA 02215            1          700.00   \n",
       "1       185 Maple St, Portland, OR 97035            1           14.95   \n",
       "2  538 Adams St, San Francisco, CA 94016            2           11.99   \n",
       "3     738 10th St, Los Angeles, CA 90001            1          149.99   \n",
       "4          387 10th St, Austin, TX 73301            1           11.99   \n",
       "\n",
       "   ValorVenda   Ano  Mes  Dia          Cidade            Rua Estado  \n",
       "0      700.00  2019    1   22          Boston  944 Walnut St     MA  \n",
       "1       14.95  2019    1   28        Portland   185 Maple St     OR  \n",
       "2       23.98  2019    1   17   San Francisco   538 Adams St     CA  \n",
       "3      149.99  2019    1    5     Los Angeles    738 10th St     CA  \n",
       "4       11.99  2019    1   25          Austin    387 10th St     TX  "
      ]
     },
     "execution_count": 12,
     "metadata": {},
     "output_type": "execute_result"
    }
   ],
   "source": [
    "VendasConsolidado['Cidade'] = VendasConsolidado['Purchase Address'].apply(lambda x: x.split(',')[1])\n",
    "VendasConsolidado['Rua'] = VendasConsolidado['Purchase Address'].apply(lambda x: x.split(',')[0])\n",
    "VendasConsolidado['Estado'] = VendasConsolidado['Purchase Address'].apply(lambda x: x.split()[-2])\n",
    "\n",
    "VendasConsolidado.head()"
   ]
  },
  {
   "cell_type": "markdown",
   "id": "2ca003b3",
   "metadata": {},
   "source": [
    "# Qual foi o melhor ano/mes que teve maior total de vendas?\n"
   ]
  },
  {
   "cell_type": "code",
   "execution_count": 13,
   "id": "22a7bb5c",
   "metadata": {},
   "outputs": [
    {
     "data": {
      "text/html": [
       "<div>\n",
       "<style scoped>\n",
       "    .dataframe tbody tr th:only-of-type {\n",
       "        vertical-align: middle;\n",
       "    }\n",
       "\n",
       "    .dataframe tbody tr th {\n",
       "        vertical-align: top;\n",
       "    }\n",
       "\n",
       "    .dataframe thead th {\n",
       "        text-align: right;\n",
       "    }\n",
       "</style>\n",
       "<table border=\"1\" class=\"dataframe\">\n",
       "  <thead>\n",
       "    <tr style=\"text-align: right;\">\n",
       "      <th></th>\n",
       "      <th>ValorVenda</th>\n",
       "    </tr>\n",
       "    <tr>\n",
       "      <th>Ano</th>\n",
       "      <th></th>\n",
       "    </tr>\n",
       "  </thead>\n",
       "  <tbody>\n",
       "    <tr>\n",
       "      <th>2019</th>\n",
       "      <td>34483365</td>\n",
       "    </tr>\n",
       "    <tr>\n",
       "      <th>2020</th>\n",
       "      <td>8670</td>\n",
       "    </tr>\n",
       "  </tbody>\n",
       "</table>\n",
       "</div>"
      ],
      "text/plain": [
       "      ValorVenda\n",
       "Ano             \n",
       "2019    34483365\n",
       "2020        8670"
      ]
     },
     "execution_count": 13,
     "metadata": {},
     "output_type": "execute_result"
    }
   ],
   "source": [
    "QtdVendidaAno = VendasConsolidado[['Ano','ValorVenda']]\n",
    "QtdVendidaAno.groupby(['Ano']).sum().astype('int64')"
   ]
  },
  {
   "cell_type": "markdown",
   "id": "c54bf6c0",
   "metadata": {},
   "source": [
    "#O ano que teve melhor valor em vendas foi 2019 comparado com 2020 (34.483.365 milhoes dolares) "
   ]
  },
  {
   "cell_type": "code",
   "execution_count": 14,
   "id": "c3beb647",
   "metadata": {},
   "outputs": [
    {
     "data": {
      "text/html": [
       "<div>\n",
       "<style scoped>\n",
       "    .dataframe tbody tr th:only-of-type {\n",
       "        vertical-align: middle;\n",
       "    }\n",
       "\n",
       "    .dataframe tbody tr th {\n",
       "        vertical-align: top;\n",
       "    }\n",
       "\n",
       "    .dataframe thead th {\n",
       "        text-align: right;\n",
       "    }\n",
       "</style>\n",
       "<table border=\"1\" class=\"dataframe\">\n",
       "  <thead>\n",
       "    <tr style=\"text-align: right;\">\n",
       "      <th></th>\n",
       "      <th>Mes</th>\n",
       "      <th>Qtd produto</th>\n",
       "      <th>Preco unitario</th>\n",
       "      <th>ValorVenda</th>\n",
       "      <th>Ano</th>\n",
       "      <th>Dia</th>\n",
       "    </tr>\n",
       "  </thead>\n",
       "  <tbody>\n",
       "    <tr>\n",
       "      <th>0</th>\n",
       "      <td>1</td>\n",
       "      <td>10903</td>\n",
       "      <td>1811768</td>\n",
       "      <td>1822256</td>\n",
       "      <td>19602505</td>\n",
       "      <td>155814</td>\n",
       "    </tr>\n",
       "    <tr>\n",
       "      <th>1</th>\n",
       "      <td>2</td>\n",
       "      <td>13449</td>\n",
       "      <td>2188884</td>\n",
       "      <td>2202022</td>\n",
       "      <td>24177525</td>\n",
       "      <td>174408</td>\n",
       "    </tr>\n",
       "    <tr>\n",
       "      <th>2</th>\n",
       "      <td>3</td>\n",
       "      <td>17005</td>\n",
       "      <td>2791207</td>\n",
       "      <td>2807100</td>\n",
       "      <td>30593907</td>\n",
       "      <td>241774</td>\n",
       "    </tr>\n",
       "    <tr>\n",
       "      <th>3</th>\n",
       "      <td>4</td>\n",
       "      <td>20558</td>\n",
       "      <td>3367671</td>\n",
       "      <td>3390670</td>\n",
       "      <td>36905301</td>\n",
       "      <td>282960</td>\n",
       "    </tr>\n",
       "    <tr>\n",
       "      <th>4</th>\n",
       "      <td>5</td>\n",
       "      <td>18667</td>\n",
       "      <td>3135125</td>\n",
       "      <td>3152606</td>\n",
       "      <td>33446754</td>\n",
       "      <td>264875</td>\n",
       "    </tr>\n",
       "    <tr>\n",
       "      <th>5</th>\n",
       "      <td>6</td>\n",
       "      <td>15253</td>\n",
       "      <td>2562025</td>\n",
       "      <td>2577802</td>\n",
       "      <td>27365526</td>\n",
       "      <td>209880</td>\n",
       "    </tr>\n",
       "    <tr>\n",
       "      <th>6</th>\n",
       "      <td>7</td>\n",
       "      <td>16072</td>\n",
       "      <td>2632539</td>\n",
       "      <td>2647775</td>\n",
       "      <td>28857567</td>\n",
       "      <td>227910</td>\n",
       "    </tr>\n",
       "    <tr>\n",
       "      <th>7</th>\n",
       "      <td>8</td>\n",
       "      <td>13448</td>\n",
       "      <td>2230345</td>\n",
       "      <td>2244467</td>\n",
       "      <td>24149259</td>\n",
       "      <td>192315</td>\n",
       "    </tr>\n",
       "    <tr>\n",
       "      <th>8</th>\n",
       "      <td>9</td>\n",
       "      <td>13109</td>\n",
       "      <td>2084992</td>\n",
       "      <td>2097560</td>\n",
       "      <td>23462799</td>\n",
       "      <td>180101</td>\n",
       "    </tr>\n",
       "    <tr>\n",
       "      <th>9</th>\n",
       "      <td>10</td>\n",
       "      <td>22703</td>\n",
       "      <td>3715554</td>\n",
       "      <td>3736726</td>\n",
       "      <td>40949358</td>\n",
       "      <td>326141</td>\n",
       "    </tr>\n",
       "    <tr>\n",
       "      <th>10</th>\n",
       "      <td>11</td>\n",
       "      <td>19798</td>\n",
       "      <td>3180600</td>\n",
       "      <td>3199603</td>\n",
       "      <td>35479887</td>\n",
       "      <td>272854</td>\n",
       "    </tr>\n",
       "    <tr>\n",
       "      <th>11</th>\n",
       "      <td>12</td>\n",
       "      <td>28114</td>\n",
       "      <td>4588415</td>\n",
       "      <td>4613443</td>\n",
       "      <td>50442696</td>\n",
       "      <td>401453</td>\n",
       "    </tr>\n",
       "  </tbody>\n",
       "</table>\n",
       "</div>"
      ],
      "text/plain": [
       "    Mes  Qtd produto  Preco unitario  ValorVenda       Ano     Dia\n",
       "0     1        10903         1811768     1822256  19602505  155814\n",
       "1     2        13449         2188884     2202022  24177525  174408\n",
       "2     3        17005         2791207     2807100  30593907  241774\n",
       "3     4        20558         3367671     3390670  36905301  282960\n",
       "4     5        18667         3135125     3152606  33446754  264875\n",
       "5     6        15253         2562025     2577802  27365526  209880\n",
       "6     7        16072         2632539     2647775  28857567  227910\n",
       "7     8        13448         2230345     2244467  24149259  192315\n",
       "8     9        13109         2084992     2097560  23462799  180101\n",
       "9    10        22703         3715554     3736726  40949358  326141\n",
       "10   11        19798         3180600     3199603  35479887  272854\n",
       "11   12        28114         4588415     4613443  50442696  401453"
      ]
     },
     "execution_count": 14,
     "metadata": {},
     "output_type": "execute_result"
    }
   ],
   "source": [
    "MelhorMes = VendasConsolidado.groupby(['Mes']).sum().reset_index().astype('int64')\n",
    "MelhorMes"
   ]
  },
  {
   "cell_type": "code",
   "execution_count": 15,
   "id": "7c3a23de",
   "metadata": {},
   "outputs": [
    {
     "data": {
      "text/plain": [
       "Text(0.5, 1.0, 'Quantidade produtos vendidos no mes')"
      ]
     },
     "execution_count": 15,
     "metadata": {},
     "output_type": "execute_result"
    },
    {
     "data": {
      "image/png": "[encoded data removed]",
      "text/plain": [
       "<Figure size 2880x1800 with 2 Axes>"
      ]
     },
     "metadata": {
      "needs_background": "light"
     },
     "output_type": "display_data"
    }
   ],
   "source": [
    "fig, axes = plt.subplots(2, 1, figsize = (40,25))\n",
    "fig.subplots_adjust(hspace=.3)\n",
    "\n",
    "sns.barplot(x='Mes', y='ValorVenda', data=MelhorMes, ax=axes[0])\n",
    "axes[0].set_xlabel(axes[0].get_xlabel(), size=30)\n",
    "axes[0].set_ylabel(axes[0].get_ylabel(), size=30)\n",
    "axes[0].set_xticklabels(axes[0].get_xticklabels(), size=30)\n",
    "\n",
    "axes[0].set_title('Total Vendas no  mes', size= 40)\n",
    "\n",
    "\n",
    "\n",
    "sns.barplot(x='Mes', y='Qtd produto', data=MelhorMes, ax=axes[1])\n",
    "axes[1].set_xlabel(axes[1].get_xlabel(), size=30)\n",
    "axes[1].set_ylabel(axes[1].get_ylabel(), size=30)\n",
    "axes[1].set_xticklabels(axes[1].get_xticklabels(), size=30)\n",
    "\n",
    "axes[1].set_title('Quantidade produtos vendidos no mes', size= 40)\n"
   ]
  },
  {
   "cell_type": "markdown",
   "id": "200de670",
   "metadata": {},
   "source": [
    "#Quais foram os produto mais vendidos?"
   ]
  },
  {
   "cell_type": "code",
   "execution_count": 16,
   "id": "c0d8f076",
   "metadata": {},
   "outputs": [
    {
     "data": {
      "text/plain": [
       "Product\n",
       "AAA Batteries (4-pack)      31017\n",
       "AA Batteries (4-pack)       27635\n",
       "USB-C Charging Cable        23975\n",
       "Lightning Charging Cable    23217\n",
       "Wired Headphones            20557\n",
       "Name: Qtd produto, dtype: int32"
      ]
     },
     "execution_count": 16,
     "metadata": {},
     "output_type": "execute_result"
    }
   ],
   "source": [
    "Produtos = VendasConsolidado.groupby('Product')\n",
    "QuantidadesProdutos = Produtos.sum()['Qtd produto']\n",
    "QuantidadesProdutos.nlargest(5)"
   ]
  },
  {
   "cell_type": "markdown",
   "id": "21a14eb5",
   "metadata": {},
   "source": [
    "Os melhores meses, tanto em valores de venda quanto quantidades vendidas foram os meses 10,11 e 12. A melhor conclusao seria a proximidade do Natal bem como outros feriados de fim de ano."
   ]
  },
  {
   "cell_type": "markdown",
   "id": "d851a783",
   "metadata": {},
   "source": [
    "#### Quais os produtos TOP5 em precos?"
   ]
  },
  {
   "cell_type": "code",
   "execution_count": 17,
   "id": "9431a552",
   "metadata": {},
   "outputs": [
    {
     "data": {
      "text/plain": [
       "Product\n",
       "Macbook Pro Laptop    1700.00\n",
       "ThinkPad Laptop        999.99\n",
       "iPhone                 700.00\n",
       "Google Phone           600.00\n",
       "LG Dryer               600.00\n",
       "Name: Preco unitario, dtype: float64"
      ]
     },
     "execution_count": 17,
     "metadata": {},
     "output_type": "execute_result"
    }
   ],
   "source": [
    "Produtos = VendasConsolidado.groupby('Product')\n",
    "PrecosProdutos = Produtos.mean()['Preco unitario']\n",
    "PrecosProdutos.nlargest(5)"
   ]
  },
  {
   "cell_type": "markdown",
   "id": "93f324de",
   "metadata": {},
   "source": [
    "#### Quais sao as cidades que tiveram maior volume em vendas?"
   ]
  },
  {
   "cell_type": "code",
   "execution_count": 18,
   "id": "a81642ec",
   "metadata": {},
   "outputs": [
    {
     "data": {
      "text/plain": [
       "Cidade\n",
       " Atlanta          187.856903\n",
       " New York City    187.502711\n",
       " Dallas           186.772969\n",
       " Seattle          186.516120\n",
       " Portland         186.160498\n",
       "Name: ValorVenda, dtype: float64"
      ]
     },
     "execution_count": 18,
     "metadata": {},
     "output_type": "execute_result"
    }
   ],
   "source": [
    "Cidades = VendasConsolidado.groupby('Cidade')\n",
    "CidadesVendas = Cidades.mean()['ValorVenda']\n",
    "CidadesVendas.nlargest(5)"
   ]
  },
  {
   "cell_type": "code",
   "execution_count": 19,
   "id": "e0f99ecb",
   "metadata": {
    "scrolled": true
   },
   "outputs": [
    {
     "data": {
      "image/png": "[encoded data removed]",
      "text/plain": [
       "<Figure size 1728x432 with 1 Axes>"
      ]
     },
     "metadata": {
      "needs_background": "light"
     },
     "output_type": "display_data"
    }
   ],
   "source": [
    "CidadesMaiorVendas = VendasConsolidado.groupby('Cidade').sum().astype('int')\n",
    "\n",
    "plt.figure(figsize=(24, 6)) \n",
    "\n",
    "sns.barplot(\n",
    "    x=CidadesMaiorVendas.index, \n",
    "    y=CidadesMaiorVendas['ValorVenda'], \n",
    "    data=CidadesMaiorVendas, palette='deep')\n",
    "plt.title(\n",
    "    'Cidades com maior volume em vendas - Total', \n",
    "    fontname='monospace', weight='bold')\n",
    "plt.xlabel('Cidades')\n",
    "plt.ylabel('Total vendas ($)');"
   ]
  },
  {
   "cell_type": "code",
   "execution_count": 20,
   "id": "b3f30c56",
   "metadata": {},
   "outputs": [],
   "source": [
    "#Sao Francisco,Los Angeles e NYCity sao as cidades campeas em vendas "
   ]
  },
  {
   "cell_type": "markdown",
   "id": "4342aae7",
   "metadata": {},
   "source": [
    "## Cluster - agrupamento de clientes "
   ]
  },
  {
   "cell_type": "markdown",
   "id": "65173964",
   "metadata": {},
   "source": [
    "Os agrupamentos de clientes serao realizados com base em 3 caracteristicas:\n",
    "F - Frequencia com que os clientes fazem suas compras;\n",
    "R - Numero de dias desde a ultima compra realizada;\n",
    "M - Montante comprado \n",
    "\n",
    "Os clientes serao analisados apartir dos enderecos residenciais"
   ]
  },
  {
   "cell_type": "code",
   "execution_count": 21,
   "id": "67a87e53",
   "metadata": {},
   "outputs": [
    {
     "data": {
      "text/html": [
       "<div>\n",
       "<style scoped>\n",
       "    .dataframe tbody tr th:only-of-type {\n",
       "        vertical-align: middle;\n",
       "    }\n",
       "\n",
       "    .dataframe tbody tr th {\n",
       "        vertical-align: top;\n",
       "    }\n",
       "\n",
       "    .dataframe thead th {\n",
       "        text-align: right;\n",
       "    }\n",
       "</style>\n",
       "<table border=\"1\" class=\"dataframe\">\n",
       "  <thead>\n",
       "    <tr style=\"text-align: right;\">\n",
       "      <th></th>\n",
       "      <th>Order ID</th>\n",
       "      <th>Product</th>\n",
       "      <th>Order Date</th>\n",
       "      <th>Purchase Address</th>\n",
       "      <th>Qtd produto</th>\n",
       "      <th>Preco unitario</th>\n",
       "      <th>ValorVenda</th>\n",
       "      <th>Ano</th>\n",
       "      <th>Mes</th>\n",
       "      <th>Dia</th>\n",
       "      <th>Cidade</th>\n",
       "      <th>Rua</th>\n",
       "      <th>Estado</th>\n",
       "    </tr>\n",
       "  </thead>\n",
       "  <tbody>\n",
       "    <tr>\n",
       "      <th>0</th>\n",
       "      <td>141234</td>\n",
       "      <td>iPhone</td>\n",
       "      <td>2019-01-22 21:25:00</td>\n",
       "      <td>944 Walnut St, Boston, MA 02215</td>\n",
       "      <td>1</td>\n",
       "      <td>700.00</td>\n",
       "      <td>700.00</td>\n",
       "      <td>2019</td>\n",
       "      <td>1</td>\n",
       "      <td>22</td>\n",
       "      <td>Boston</td>\n",
       "      <td>944 Walnut St</td>\n",
       "      <td>MA</td>\n",
       "    </tr>\n",
       "    <tr>\n",
       "      <th>1</th>\n",
       "      <td>141235</td>\n",
       "      <td>Lightning Charging Cable</td>\n",
       "      <td>2019-01-28 14:15:00</td>\n",
       "      <td>185 Maple St, Portland, OR 97035</td>\n",
       "      <td>1</td>\n",
       "      <td>14.95</td>\n",
       "      <td>14.95</td>\n",
       "      <td>2019</td>\n",
       "      <td>1</td>\n",
       "      <td>28</td>\n",
       "      <td>Portland</td>\n",
       "      <td>185 Maple St</td>\n",
       "      <td>OR</td>\n",
       "    </tr>\n",
       "    <tr>\n",
       "      <th>2</th>\n",
       "      <td>141236</td>\n",
       "      <td>Wired Headphones</td>\n",
       "      <td>2019-01-17 13:33:00</td>\n",
       "      <td>538 Adams St, San Francisco, CA 94016</td>\n",
       "      <td>2</td>\n",
       "      <td>11.99</td>\n",
       "      <td>23.98</td>\n",
       "      <td>2019</td>\n",
       "      <td>1</td>\n",
       "      <td>17</td>\n",
       "      <td>San Francisco</td>\n",
       "      <td>538 Adams St</td>\n",
       "      <td>CA</td>\n",
       "    </tr>\n",
       "    <tr>\n",
       "      <th>3</th>\n",
       "      <td>141237</td>\n",
       "      <td>27in FHD Monitor</td>\n",
       "      <td>2019-01-05 20:33:00</td>\n",
       "      <td>738 10th St, Los Angeles, CA 90001</td>\n",
       "      <td>1</td>\n",
       "      <td>149.99</td>\n",
       "      <td>149.99</td>\n",
       "      <td>2019</td>\n",
       "      <td>1</td>\n",
       "      <td>5</td>\n",
       "      <td>Los Angeles</td>\n",
       "      <td>738 10th St</td>\n",
       "      <td>CA</td>\n",
       "    </tr>\n",
       "    <tr>\n",
       "      <th>4</th>\n",
       "      <td>141238</td>\n",
       "      <td>Wired Headphones</td>\n",
       "      <td>2019-01-25 11:59:00</td>\n",
       "      <td>387 10th St, Austin, TX 73301</td>\n",
       "      <td>1</td>\n",
       "      <td>11.99</td>\n",
       "      <td>11.99</td>\n",
       "      <td>2019</td>\n",
       "      <td>1</td>\n",
       "      <td>25</td>\n",
       "      <td>Austin</td>\n",
       "      <td>387 10th St</td>\n",
       "      <td>TX</td>\n",
       "    </tr>\n",
       "  </tbody>\n",
       "</table>\n",
       "</div>"
      ],
      "text/plain": [
       "  Order ID                   Product          Order Date  \\\n",
       "0   141234                    iPhone 2019-01-22 21:25:00   \n",
       "1   141235  Lightning Charging Cable 2019-01-28 14:15:00   \n",
       "2   141236          Wired Headphones 2019-01-17 13:33:00   \n",
       "3   141237          27in FHD Monitor 2019-01-05 20:33:00   \n",
       "4   141238          Wired Headphones 2019-01-25 11:59:00   \n",
       "\n",
       "                        Purchase Address  Qtd produto  Preco unitario  \\\n",
       "0        944 Walnut St, Boston, MA 02215            1          700.00   \n",
       "1       185 Maple St, Portland, OR 97035            1           14.95   \n",
       "2  538 Adams St, San Francisco, CA 94016            2           11.99   \n",
       "3     738 10th St, Los Angeles, CA 90001            1          149.99   \n",
       "4          387 10th St, Austin, TX 73301            1           11.99   \n",
       "\n",
       "   ValorVenda   Ano  Mes  Dia          Cidade            Rua Estado  \n",
       "0      700.00  2019    1   22          Boston  944 Walnut St     MA  \n",
       "1       14.95  2019    1   28        Portland   185 Maple St     OR  \n",
       "2       23.98  2019    1   17   San Francisco   538 Adams St     CA  \n",
       "3      149.99  2019    1    5     Los Angeles    738 10th St     CA  \n",
       "4       11.99  2019    1   25          Austin    387 10th St     TX  "
      ]
     },
     "execution_count": 21,
     "metadata": {},
     "output_type": "execute_result"
    }
   ],
   "source": [
    "VendasConsolidado.head()"
   ]
  },
  {
   "cell_type": "code",
   "execution_count": 22,
   "id": "49627507",
   "metadata": {},
   "outputs": [],
   "source": [
    "# Fazer uma copia de seguranca dos dados \n",
    "VendasConsolidado_copy = VendasConsolidado.copy()"
   ]
  },
  {
   "cell_type": "code",
   "execution_count": 23,
   "id": "2b655842",
   "metadata": {},
   "outputs": [
    {
     "data": {
      "text/html": [
       "<div>\n",
       "<style scoped>\n",
       "    .dataframe tbody tr th:only-of-type {\n",
       "        vertical-align: middle;\n",
       "    }\n",
       "\n",
       "    .dataframe tbody tr th {\n",
       "        vertical-align: top;\n",
       "    }\n",
       "\n",
       "    .dataframe thead th {\n",
       "        text-align: right;\n",
       "    }\n",
       "</style>\n",
       "<table border=\"1\" class=\"dataframe\">\n",
       "  <thead>\n",
       "    <tr style=\"text-align: right;\">\n",
       "      <th></th>\n",
       "      <th>Purchase Address</th>\n",
       "      <th>ValorVenda</th>\n",
       "    </tr>\n",
       "  </thead>\n",
       "  <tbody>\n",
       "    <tr>\n",
       "      <th>0</th>\n",
       "      <td>1 11th St, Atlanta, GA 30301</td>\n",
       "      <td>11.95</td>\n",
       "    </tr>\n",
       "    <tr>\n",
       "      <th>1</th>\n",
       "      <td>1 11th St, Los Angeles, CA 90001</td>\n",
       "      <td>1700.00</td>\n",
       "    </tr>\n",
       "    <tr>\n",
       "      <th>2</th>\n",
       "      <td>1 11th St, San Francisco, CA 94016</td>\n",
       "      <td>700.00</td>\n",
       "    </tr>\n",
       "    <tr>\n",
       "      <th>3</th>\n",
       "      <td>1 12th St, Los Angeles, CA 90001</td>\n",
       "      <td>150.00</td>\n",
       "    </tr>\n",
       "    <tr>\n",
       "      <th>4</th>\n",
       "      <td>1 12th St, New York City, NY 10001</td>\n",
       "      <td>11.99</td>\n",
       "    </tr>\n",
       "  </tbody>\n",
       "</table>\n",
       "</div>"
      ],
      "text/plain": [
       "                     Purchase Address  ValorVenda\n",
       "0        1 11th St, Atlanta, GA 30301       11.95\n",
       "1    1 11th St, Los Angeles, CA 90001     1700.00\n",
       "2  1 11th St, San Francisco, CA 94016      700.00\n",
       "3    1 12th St, Los Angeles, CA 90001      150.00\n",
       "4  1 12th St, New York City, NY 10001       11.99"
      ]
     },
     "execution_count": 23,
     "metadata": {},
     "output_type": "execute_result"
    }
   ],
   "source": [
    "#Visualizar endereco consumidor e o total gasto\n",
    "#O endereco consumidor sera o novo ID consumidor \n",
    "M = VendasConsolidado_copy.groupby('Purchase Address')['ValorVenda'].sum()\n",
    "M = M.reset_index()\n",
    "M.head()"
   ]
  },
  {
   "cell_type": "code",
   "execution_count": 24,
   "id": "bdd8e600",
   "metadata": {},
   "outputs": [
    {
     "data": {
      "text/html": [
       "<div>\n",
       "<style scoped>\n",
       "    .dataframe tbody tr th:only-of-type {\n",
       "        vertical-align: middle;\n",
       "    }\n",
       "\n",
       "    .dataframe tbody tr th {\n",
       "        vertical-align: top;\n",
       "    }\n",
       "\n",
       "    .dataframe thead th {\n",
       "        text-align: right;\n",
       "    }\n",
       "</style>\n",
       "<table border=\"1\" class=\"dataframe\">\n",
       "  <thead>\n",
       "    <tr style=\"text-align: right;\">\n",
       "      <th></th>\n",
       "      <th>Purchase Address</th>\n",
       "      <th>Frequencia</th>\n",
       "    </tr>\n",
       "  </thead>\n",
       "  <tbody>\n",
       "    <tr>\n",
       "      <th>0</th>\n",
       "      <td>1 11th St, Atlanta, GA 30301</td>\n",
       "      <td>1</td>\n",
       "    </tr>\n",
       "    <tr>\n",
       "      <th>1</th>\n",
       "      <td>1 11th St, Los Angeles, CA 90001</td>\n",
       "      <td>1</td>\n",
       "    </tr>\n",
       "    <tr>\n",
       "      <th>2</th>\n",
       "      <td>1 11th St, San Francisco, CA 94016</td>\n",
       "      <td>1</td>\n",
       "    </tr>\n",
       "    <tr>\n",
       "      <th>3</th>\n",
       "      <td>1 12th St, Los Angeles, CA 90001</td>\n",
       "      <td>1</td>\n",
       "    </tr>\n",
       "    <tr>\n",
       "      <th>4</th>\n",
       "      <td>1 12th St, New York City, NY 10001</td>\n",
       "      <td>1</td>\n",
       "    </tr>\n",
       "    <tr>\n",
       "      <th>5</th>\n",
       "      <td>1 12th St, San Francisco, CA 94016</td>\n",
       "      <td>2</td>\n",
       "    </tr>\n",
       "    <tr>\n",
       "      <th>6</th>\n",
       "      <td>1 13th St, San Francisco, CA 94016</td>\n",
       "      <td>1</td>\n",
       "    </tr>\n",
       "    <tr>\n",
       "      <th>7</th>\n",
       "      <td>1 14th St, New York City, NY 10001</td>\n",
       "      <td>2</td>\n",
       "    </tr>\n",
       "    <tr>\n",
       "      <th>8</th>\n",
       "      <td>1 14th St, Portland, OR 97035</td>\n",
       "      <td>2</td>\n",
       "    </tr>\n",
       "    <tr>\n",
       "      <th>9</th>\n",
       "      <td>1 14th St, San Francisco, CA 94016</td>\n",
       "      <td>1</td>\n",
       "    </tr>\n",
       "    <tr>\n",
       "      <th>10</th>\n",
       "      <td>1 14th St, Seattle, WA 98101</td>\n",
       "      <td>1</td>\n",
       "    </tr>\n",
       "    <tr>\n",
       "      <th>11</th>\n",
       "      <td>1 1st St, Austin, TX 73301</td>\n",
       "      <td>1</td>\n",
       "    </tr>\n",
       "    <tr>\n",
       "      <th>12</th>\n",
       "      <td>1 1st St, Dallas, TX 75001</td>\n",
       "      <td>1</td>\n",
       "    </tr>\n",
       "    <tr>\n",
       "      <th>13</th>\n",
       "      <td>1 2nd St, Atlanta, GA 30301</td>\n",
       "      <td>1</td>\n",
       "    </tr>\n",
       "    <tr>\n",
       "      <th>14</th>\n",
       "      <td>1 2nd St, New York City, NY 10001</td>\n",
       "      <td>1</td>\n",
       "    </tr>\n",
       "    <tr>\n",
       "      <th>15</th>\n",
       "      <td>1 4th St, Atlanta, GA 30301</td>\n",
       "      <td>1</td>\n",
       "    </tr>\n",
       "    <tr>\n",
       "      <th>16</th>\n",
       "      <td>1 4th St, Boston, MA 02215</td>\n",
       "      <td>1</td>\n",
       "    </tr>\n",
       "    <tr>\n",
       "      <th>17</th>\n",
       "      <td>1 4th St, Dallas, TX 75001</td>\n",
       "      <td>1</td>\n",
       "    </tr>\n",
       "    <tr>\n",
       "      <th>18</th>\n",
       "      <td>1 4th St, Los Angeles, CA 90001</td>\n",
       "      <td>2</td>\n",
       "    </tr>\n",
       "    <tr>\n",
       "      <th>19</th>\n",
       "      <td>1 4th St, Seattle, WA 98101</td>\n",
       "      <td>1</td>\n",
       "    </tr>\n",
       "  </tbody>\n",
       "</table>\n",
       "</div>"
      ],
      "text/plain": [
       "                      Purchase Address  Frequencia\n",
       "0         1 11th St, Atlanta, GA 30301           1\n",
       "1     1 11th St, Los Angeles, CA 90001           1\n",
       "2   1 11th St, San Francisco, CA 94016           1\n",
       "3     1 12th St, Los Angeles, CA 90001           1\n",
       "4   1 12th St, New York City, NY 10001           1\n",
       "5   1 12th St, San Francisco, CA 94016           2\n",
       "6   1 13th St, San Francisco, CA 94016           1\n",
       "7   1 14th St, New York City, NY 10001           2\n",
       "8        1 14th St, Portland, OR 97035           2\n",
       "9   1 14th St, San Francisco, CA 94016           1\n",
       "10        1 14th St, Seattle, WA 98101           1\n",
       "11          1 1st St, Austin, TX 73301           1\n",
       "12          1 1st St, Dallas, TX 75001           1\n",
       "13         1 2nd St, Atlanta, GA 30301           1\n",
       "14   1 2nd St, New York City, NY 10001           1\n",
       "15         1 4th St, Atlanta, GA 30301           1\n",
       "16          1 4th St, Boston, MA 02215           1\n",
       "17          1 4th St, Dallas, TX 75001           1\n",
       "18     1 4th St, Los Angeles, CA 90001           2\n",
       "19         1 4th St, Seattle, WA 98101           1"
      ]
     },
     "execution_count": 24,
     "metadata": {},
     "output_type": "execute_result"
    }
   ],
   "source": [
    "#Visualizar endereco consumidor e a frequencia de compra\n",
    "\n",
    "F = VendasConsolidado_copy.groupby('Purchase Address')['Qtd produto'].count()\n",
    "F = F.reset_index()\n",
    "F.columns = ['Purchase Address', 'Frequencia']\n",
    "F.head(20)"
   ]
  },
  {
   "cell_type": "code",
   "execution_count": 25,
   "id": "eaa36dbc",
   "metadata": {},
   "outputs": [
    {
     "data": {
      "text/html": [
       "<div>\n",
       "<style scoped>\n",
       "    .dataframe tbody tr th:only-of-type {\n",
       "        vertical-align: middle;\n",
       "    }\n",
       "\n",
       "    .dataframe tbody tr th {\n",
       "        vertical-align: top;\n",
       "    }\n",
       "\n",
       "    .dataframe thead th {\n",
       "        text-align: right;\n",
       "    }\n",
       "</style>\n",
       "<table border=\"1\" class=\"dataframe\">\n",
       "  <thead>\n",
       "    <tr style=\"text-align: right;\">\n",
       "      <th></th>\n",
       "      <th>Purchase Address</th>\n",
       "      <th>ValorVenda</th>\n",
       "      <th>Frequencia</th>\n",
       "    </tr>\n",
       "  </thead>\n",
       "  <tbody>\n",
       "    <tr>\n",
       "      <th>0</th>\n",
       "      <td>1 11th St, Atlanta, GA 30301</td>\n",
       "      <td>11.95</td>\n",
       "      <td>1</td>\n",
       "    </tr>\n",
       "    <tr>\n",
       "      <th>1</th>\n",
       "      <td>1 11th St, Los Angeles, CA 90001</td>\n",
       "      <td>1700.00</td>\n",
       "      <td>1</td>\n",
       "    </tr>\n",
       "    <tr>\n",
       "      <th>2</th>\n",
       "      <td>1 11th St, San Francisco, CA 94016</td>\n",
       "      <td>700.00</td>\n",
       "      <td>1</td>\n",
       "    </tr>\n",
       "    <tr>\n",
       "      <th>3</th>\n",
       "      <td>1 12th St, Los Angeles, CA 90001</td>\n",
       "      <td>150.00</td>\n",
       "      <td>1</td>\n",
       "    </tr>\n",
       "    <tr>\n",
       "      <th>4</th>\n",
       "      <td>1 12th St, New York City, NY 10001</td>\n",
       "      <td>11.99</td>\n",
       "      <td>1</td>\n",
       "    </tr>\n",
       "  </tbody>\n",
       "</table>\n",
       "</div>"
      ],
      "text/plain": [
       "                     Purchase Address  ValorVenda  Frequencia\n",
       "0        1 11th St, Atlanta, GA 30301       11.95           1\n",
       "1    1 11th St, Los Angeles, CA 90001     1700.00           1\n",
       "2  1 11th St, San Francisco, CA 94016      700.00           1\n",
       "3    1 12th St, Los Angeles, CA 90001      150.00           1\n",
       "4  1 12th St, New York City, NY 10001       11.99           1"
      ]
     },
     "execution_count": 25,
     "metadata": {},
     "output_type": "execute_result"
    }
   ],
   "source": [
    "#Fazer um merge inicial dos dois Data frames acima:\n",
    "\n",
    "Consolidado = pd.merge(M, F, on='Purchase Address', how='inner')\n",
    "Consolidado.head()"
   ]
  },
  {
   "cell_type": "code",
   "execution_count": 26,
   "id": "0799f8e3",
   "metadata": {},
   "outputs": [
    {
     "data": {
      "text/plain": [
       "Timestamp('2020-01-01 05:13:00')"
      ]
     },
     "execution_count": 26,
     "metadata": {},
     "output_type": "execute_result"
    }
   ],
   "source": [
    "# Para avaliar qual a ultima data de compra de cada cliente, tem que saber primeiro qual a ultima data conhecida na planilha\n",
    "ultima_data = max(VendasConsolidado_copy['Order Date'])\n",
    "ultima_data"
   ]
  },
  {
   "cell_type": "code",
   "execution_count": 27,
   "id": "9a6ee419",
   "metadata": {},
   "outputs": [
    {
     "data": {
      "text/html": [
       "<div>\n",
       "<style scoped>\n",
       "    .dataframe tbody tr th:only-of-type {\n",
       "        vertical-align: middle;\n",
       "    }\n",
       "\n",
       "    .dataframe tbody tr th {\n",
       "        vertical-align: top;\n",
       "    }\n",
       "\n",
       "    .dataframe thead th {\n",
       "        text-align: right;\n",
       "    }\n",
       "</style>\n",
       "<table border=\"1\" class=\"dataframe\">\n",
       "  <thead>\n",
       "    <tr style=\"text-align: right;\">\n",
       "      <th></th>\n",
       "      <th>Order ID</th>\n",
       "      <th>Product</th>\n",
       "      <th>Order Date</th>\n",
       "      <th>Purchase Address</th>\n",
       "      <th>Qtd produto</th>\n",
       "      <th>Preco unitario</th>\n",
       "      <th>ValorVenda</th>\n",
       "      <th>Ano</th>\n",
       "      <th>Mes</th>\n",
       "      <th>Dia</th>\n",
       "      <th>Cidade</th>\n",
       "      <th>Rua</th>\n",
       "      <th>Estado</th>\n",
       "      <th>Diff</th>\n",
       "    </tr>\n",
       "  </thead>\n",
       "  <tbody>\n",
       "    <tr>\n",
       "      <th>0</th>\n",
       "      <td>141234</td>\n",
       "      <td>iPhone</td>\n",
       "      <td>2019-01-22 21:25:00</td>\n",
       "      <td>944 Walnut St, Boston, MA 02215</td>\n",
       "      <td>1</td>\n",
       "      <td>700.00</td>\n",
       "      <td>700.00</td>\n",
       "      <td>2019</td>\n",
       "      <td>1</td>\n",
       "      <td>22</td>\n",
       "      <td>Boston</td>\n",
       "      <td>944 Walnut St</td>\n",
       "      <td>MA</td>\n",
       "      <td>343 days 07:48:00</td>\n",
       "    </tr>\n",
       "    <tr>\n",
       "      <th>1</th>\n",
       "      <td>141235</td>\n",
       "      <td>Lightning Charging Cable</td>\n",
       "      <td>2019-01-28 14:15:00</td>\n",
       "      <td>185 Maple St, Portland, OR 97035</td>\n",
       "      <td>1</td>\n",
       "      <td>14.95</td>\n",
       "      <td>14.95</td>\n",
       "      <td>2019</td>\n",
       "      <td>1</td>\n",
       "      <td>28</td>\n",
       "      <td>Portland</td>\n",
       "      <td>185 Maple St</td>\n",
       "      <td>OR</td>\n",
       "      <td>337 days 14:58:00</td>\n",
       "    </tr>\n",
       "    <tr>\n",
       "      <th>2</th>\n",
       "      <td>141236</td>\n",
       "      <td>Wired Headphones</td>\n",
       "      <td>2019-01-17 13:33:00</td>\n",
       "      <td>538 Adams St, San Francisco, CA 94016</td>\n",
       "      <td>2</td>\n",
       "      <td>11.99</td>\n",
       "      <td>23.98</td>\n",
       "      <td>2019</td>\n",
       "      <td>1</td>\n",
       "      <td>17</td>\n",
       "      <td>San Francisco</td>\n",
       "      <td>538 Adams St</td>\n",
       "      <td>CA</td>\n",
       "      <td>348 days 15:40:00</td>\n",
       "    </tr>\n",
       "    <tr>\n",
       "      <th>3</th>\n",
       "      <td>141237</td>\n",
       "      <td>27in FHD Monitor</td>\n",
       "      <td>2019-01-05 20:33:00</td>\n",
       "      <td>738 10th St, Los Angeles, CA 90001</td>\n",
       "      <td>1</td>\n",
       "      <td>149.99</td>\n",
       "      <td>149.99</td>\n",
       "      <td>2019</td>\n",
       "      <td>1</td>\n",
       "      <td>5</td>\n",
       "      <td>Los Angeles</td>\n",
       "      <td>738 10th St</td>\n",
       "      <td>CA</td>\n",
       "      <td>360 days 08:40:00</td>\n",
       "    </tr>\n",
       "    <tr>\n",
       "      <th>4</th>\n",
       "      <td>141238</td>\n",
       "      <td>Wired Headphones</td>\n",
       "      <td>2019-01-25 11:59:00</td>\n",
       "      <td>387 10th St, Austin, TX 73301</td>\n",
       "      <td>1</td>\n",
       "      <td>11.99</td>\n",
       "      <td>11.99</td>\n",
       "      <td>2019</td>\n",
       "      <td>1</td>\n",
       "      <td>25</td>\n",
       "      <td>Austin</td>\n",
       "      <td>387 10th St</td>\n",
       "      <td>TX</td>\n",
       "      <td>340 days 17:14:00</td>\n",
       "    </tr>\n",
       "  </tbody>\n",
       "</table>\n",
       "</div>"
      ],
      "text/plain": [
       "  Order ID                   Product          Order Date  \\\n",
       "0   141234                    iPhone 2019-01-22 21:25:00   \n",
       "1   141235  Lightning Charging Cable 2019-01-28 14:15:00   \n",
       "2   141236          Wired Headphones 2019-01-17 13:33:00   \n",
       "3   141237          27in FHD Monitor 2019-01-05 20:33:00   \n",
       "4   141238          Wired Headphones 2019-01-25 11:59:00   \n",
       "\n",
       "                        Purchase Address  Qtd produto  Preco unitario  \\\n",
       "0        944 Walnut St, Boston, MA 02215            1          700.00   \n",
       "1       185 Maple St, Portland, OR 97035            1           14.95   \n",
       "2  538 Adams St, San Francisco, CA 94016            2           11.99   \n",
       "3     738 10th St, Los Angeles, CA 90001            1          149.99   \n",
       "4          387 10th St, Austin, TX 73301            1           11.99   \n",
       "\n",
       "   ValorVenda   Ano  Mes  Dia          Cidade            Rua Estado  \\\n",
       "0      700.00  2019    1   22          Boston  944 Walnut St     MA   \n",
       "1       14.95  2019    1   28        Portland   185 Maple St     OR   \n",
       "2       23.98  2019    1   17   San Francisco   538 Adams St     CA   \n",
       "3      149.99  2019    1    5     Los Angeles    738 10th St     CA   \n",
       "4       11.99  2019    1   25          Austin    387 10th St     TX   \n",
       "\n",
       "               Diff  \n",
       "0 343 days 07:48:00  \n",
       "1 337 days 14:58:00  \n",
       "2 348 days 15:40:00  \n",
       "3 360 days 08:40:00  \n",
       "4 340 days 17:14:00  "
      ]
     },
     "execution_count": 27,
     "metadata": {},
     "output_type": "execute_result"
    }
   ],
   "source": [
    "#Determinar a diferenca entre as datas de transacao e a ultima data na planilha\n",
    "\n",
    "VendasConsolidado_copy['Diff'] = ultima_data - VendasConsolidado_copy['Order Date']\n",
    "VendasConsolidado_copy.head()"
   ]
  },
  {
   "cell_type": "code",
   "execution_count": 28,
   "id": "600cedc0",
   "metadata": {},
   "outputs": [
    {
     "data": {
      "text/html": [
       "<div>\n",
       "<style scoped>\n",
       "    .dataframe tbody tr th:only-of-type {\n",
       "        vertical-align: middle;\n",
       "    }\n",
       "\n",
       "    .dataframe tbody tr th {\n",
       "        vertical-align: top;\n",
       "    }\n",
       "\n",
       "    .dataframe thead th {\n",
       "        text-align: right;\n",
       "    }\n",
       "</style>\n",
       "<table border=\"1\" class=\"dataframe\">\n",
       "  <thead>\n",
       "    <tr style=\"text-align: right;\">\n",
       "      <th></th>\n",
       "      <th>Purchase Address</th>\n",
       "      <th>Diff</th>\n",
       "    </tr>\n",
       "  </thead>\n",
       "  <tbody>\n",
       "    <tr>\n",
       "      <th>0</th>\n",
       "      <td>1 11th St, Atlanta, GA 30301</td>\n",
       "      <td>292 days 21:16:00</td>\n",
       "    </tr>\n",
       "    <tr>\n",
       "      <th>1</th>\n",
       "      <td>1 11th St, Los Angeles, CA 90001</td>\n",
       "      <td>71 days 10:40:00</td>\n",
       "    </tr>\n",
       "    <tr>\n",
       "      <th>2</th>\n",
       "      <td>1 11th St, San Francisco, CA 94016</td>\n",
       "      <td>109 days 23:40:00</td>\n",
       "    </tr>\n",
       "    <tr>\n",
       "      <th>3</th>\n",
       "      <td>1 12th St, Los Angeles, CA 90001</td>\n",
       "      <td>287 days 14:18:00</td>\n",
       "    </tr>\n",
       "    <tr>\n",
       "      <th>4</th>\n",
       "      <td>1 12th St, New York City, NY 10001</td>\n",
       "      <td>66 days 16:52:00</td>\n",
       "    </tr>\n",
       "  </tbody>\n",
       "</table>\n",
       "</div>"
      ],
      "text/plain": [
       "                     Purchase Address              Diff\n",
       "0        1 11th St, Atlanta, GA 30301 292 days 21:16:00\n",
       "1    1 11th St, Los Angeles, CA 90001  71 days 10:40:00\n",
       "2  1 11th St, San Francisco, CA 94016 109 days 23:40:00\n",
       "3    1 12th St, Los Angeles, CA 90001 287 days 14:18:00\n",
       "4  1 12th St, New York City, NY 10001  66 days 16:52:00"
      ]
     },
     "execution_count": 28,
     "metadata": {},
     "output_type": "execute_result"
    }
   ],
   "source": [
    "#Determinar a data da ultima compra de cada endereco de cliente \n",
    "\n",
    "P = VendasConsolidado_copy.groupby('Purchase Address')['Diff'].min()\n",
    "P = P.reset_index()\n",
    "P.head()"
   ]
  },
  {
   "cell_type": "code",
   "execution_count": 29,
   "id": "b6505c8f",
   "metadata": {},
   "outputs": [
    {
     "data": {
      "text/html": [
       "<div>\n",
       "<style scoped>\n",
       "    .dataframe tbody tr th:only-of-type {\n",
       "        vertical-align: middle;\n",
       "    }\n",
       "\n",
       "    .dataframe tbody tr th {\n",
       "        vertical-align: top;\n",
       "    }\n",
       "\n",
       "    .dataframe thead th {\n",
       "        text-align: right;\n",
       "    }\n",
       "</style>\n",
       "<table border=\"1\" class=\"dataframe\">\n",
       "  <thead>\n",
       "    <tr style=\"text-align: right;\">\n",
       "      <th></th>\n",
       "      <th>Purchase Address</th>\n",
       "      <th>Diff</th>\n",
       "    </tr>\n",
       "  </thead>\n",
       "  <tbody>\n",
       "    <tr>\n",
       "      <th>0</th>\n",
       "      <td>1 11th St, Atlanta, GA 30301</td>\n",
       "      <td>292</td>\n",
       "    </tr>\n",
       "    <tr>\n",
       "      <th>1</th>\n",
       "      <td>1 11th St, Los Angeles, CA 90001</td>\n",
       "      <td>71</td>\n",
       "    </tr>\n",
       "    <tr>\n",
       "      <th>2</th>\n",
       "      <td>1 11th St, San Francisco, CA 94016</td>\n",
       "      <td>109</td>\n",
       "    </tr>\n",
       "    <tr>\n",
       "      <th>3</th>\n",
       "      <td>1 12th St, Los Angeles, CA 90001</td>\n",
       "      <td>287</td>\n",
       "    </tr>\n",
       "    <tr>\n",
       "      <th>4</th>\n",
       "      <td>1 12th St, New York City, NY 10001</td>\n",
       "      <td>66</td>\n",
       "    </tr>\n",
       "  </tbody>\n",
       "</table>\n",
       "</div>"
      ],
      "text/plain": [
       "                     Purchase Address  Diff\n",
       "0        1 11th St, Atlanta, GA 30301   292\n",
       "1    1 11th St, Los Angeles, CA 90001    71\n",
       "2  1 11th St, San Francisco, CA 94016   109\n",
       "3    1 12th St, Los Angeles, CA 90001   287\n",
       "4  1 12th St, New York City, NY 10001    66"
      ]
     },
     "execution_count": 29,
     "metadata": {},
     "output_type": "execute_result"
    }
   ],
   "source": [
    "#Extrair apena o numero de dias\n",
    "\n",
    "P['Diff'] = P['Diff'].dt.days\n",
    "P.head()"
   ]
  },
  {
   "cell_type": "code",
   "execution_count": 30,
   "id": "85836064",
   "metadata": {},
   "outputs": [
    {
     "data": {
      "text/html": [
       "<div>\n",
       "<style scoped>\n",
       "    .dataframe tbody tr th:only-of-type {\n",
       "        vertical-align: middle;\n",
       "    }\n",
       "\n",
       "    .dataframe tbody tr th {\n",
       "        vertical-align: top;\n",
       "    }\n",
       "\n",
       "    .dataframe thead th {\n",
       "        text-align: right;\n",
       "    }\n",
       "</style>\n",
       "<table border=\"1\" class=\"dataframe\">\n",
       "  <thead>\n",
       "    <tr style=\"text-align: right;\">\n",
       "      <th></th>\n",
       "      <th>Purchase Address</th>\n",
       "      <th>ValorVenda</th>\n",
       "      <th>Frequencia</th>\n",
       "      <th>Diff</th>\n",
       "    </tr>\n",
       "  </thead>\n",
       "  <tbody>\n",
       "    <tr>\n",
       "      <th>0</th>\n",
       "      <td>1 11th St, Atlanta, GA 30301</td>\n",
       "      <td>11.95</td>\n",
       "      <td>1</td>\n",
       "      <td>292</td>\n",
       "    </tr>\n",
       "    <tr>\n",
       "      <th>1</th>\n",
       "      <td>1 11th St, Los Angeles, CA 90001</td>\n",
       "      <td>1700.00</td>\n",
       "      <td>1</td>\n",
       "      <td>71</td>\n",
       "    </tr>\n",
       "    <tr>\n",
       "      <th>2</th>\n",
       "      <td>1 11th St, San Francisco, CA 94016</td>\n",
       "      <td>700.00</td>\n",
       "      <td>1</td>\n",
       "      <td>109</td>\n",
       "    </tr>\n",
       "    <tr>\n",
       "      <th>3</th>\n",
       "      <td>1 12th St, Los Angeles, CA 90001</td>\n",
       "      <td>150.00</td>\n",
       "      <td>1</td>\n",
       "      <td>287</td>\n",
       "    </tr>\n",
       "    <tr>\n",
       "      <th>4</th>\n",
       "      <td>1 12th St, New York City, NY 10001</td>\n",
       "      <td>11.99</td>\n",
       "      <td>1</td>\n",
       "      <td>66</td>\n",
       "    </tr>\n",
       "  </tbody>\n",
       "</table>\n",
       "</div>"
      ],
      "text/plain": [
       "                     Purchase Address  ValorVenda  Frequencia  Diff\n",
       "0        1 11th St, Atlanta, GA 30301       11.95           1   292\n",
       "1    1 11th St, Los Angeles, CA 90001     1700.00           1    71\n",
       "2  1 11th St, San Francisco, CA 94016      700.00           1   109\n",
       "3    1 12th St, Los Angeles, CA 90001      150.00           1   287\n",
       "4  1 12th St, New York City, NY 10001       11.99           1    66"
      ]
     },
     "execution_count": 30,
     "metadata": {},
     "output_type": "execute_result"
    }
   ],
   "source": [
    "# Merge de todos os 3 data frames \n",
    "\n",
    "Consolidado = pd.merge(Consolidado, P, on='Purchase Address', how='inner')\n",
    "Consolidado.columns = ['Purchase Address', 'ValorVenda', 'Frequencia', 'Diff']\n",
    "Consolidado.head()"
   ]
  },
  {
   "cell_type": "code",
   "execution_count": 31,
   "id": "fb6029d3",
   "metadata": {},
   "outputs": [
    {
     "data": {
      "text/plain": [
       "Text(0.5, 0, 'Attributes')"
      ]
     },
     "execution_count": 31,
     "metadata": {},
     "output_type": "execute_result"
    },
    {
     "data": {
      "image/png": "[encoded data removed]",
      "text/plain": [
       "<Figure size 720x576 with 1 Axes>"
      ]
     },
     "metadata": {
      "needs_background": "light"
     },
     "output_type": "display_data"
    }
   ],
   "source": [
    "# Boxplot\n",
    "\n",
    "attributes = ['ValorVenda','Frequencia','Diff']\n",
    "plt.rcParams['figure.figsize'] = [10,8]\n",
    "sns.boxplot(data = Consolidado[attributes], orient=\"v\", palette=\"Set2\" ,whis=1.5,saturation=1, width=0.7)\n",
    "plt.ylabel(\"Range\", fontweight = 'bold')\n",
    "plt.xlabel(\"Attributes\", fontweight = 'bold')"
   ]
  },
  {
   "cell_type": "code",
   "execution_count": 32,
   "id": "53d2d8ee",
   "metadata": {},
   "outputs": [],
   "source": [
    "# Coleta uma amostra de 1% dos dados. Essa amostra reduzida sera a amostra trabalhada \n",
    "amostra1, amostra2 = train_test_split(Consolidado, train_size = .01)"
   ]
  },
  {
   "cell_type": "code",
   "execution_count": 33,
   "id": "ac69e41a",
   "metadata": {},
   "outputs": [
    {
     "data": {
      "text/plain": [
       "(1407, 4)"
      ]
     },
     "execution_count": 33,
     "metadata": {},
     "output_type": "execute_result"
    }
   ],
   "source": [
    "amostra1.shape"
   ]
  },
  {
   "cell_type": "code",
   "execution_count": 34,
   "id": "46f114c2",
   "metadata": {},
   "outputs": [
    {
     "data": {
      "text/html": [
       "<div>\n",
       "<style scoped>\n",
       "    .dataframe tbody tr th:only-of-type {\n",
       "        vertical-align: middle;\n",
       "    }\n",
       "\n",
       "    .dataframe tbody tr th {\n",
       "        vertical-align: top;\n",
       "    }\n",
       "\n",
       "    .dataframe thead th {\n",
       "        text-align: right;\n",
       "    }\n",
       "</style>\n",
       "<table border=\"1\" class=\"dataframe\">\n",
       "  <thead>\n",
       "    <tr style=\"text-align: right;\">\n",
       "      <th></th>\n",
       "      <th>Purchase Address</th>\n",
       "      <th>ValorVenda</th>\n",
       "      <th>Frequencia</th>\n",
       "      <th>Diff</th>\n",
       "    </tr>\n",
       "  </thead>\n",
       "  <tbody>\n",
       "    <tr>\n",
       "      <th>9078</th>\n",
       "      <td>157 9th St, San Francisco, CA 94016</td>\n",
       "      <td>11.95</td>\n",
       "      <td>1</td>\n",
       "      <td>325</td>\n",
       "    </tr>\n",
       "    <tr>\n",
       "      <th>68577</th>\n",
       "      <td>537 Lincoln St, San Francisco, CA 94016</td>\n",
       "      <td>750.00</td>\n",
       "      <td>2</td>\n",
       "      <td>15</td>\n",
       "    </tr>\n",
       "    <tr>\n",
       "      <th>127118</th>\n",
       "      <td>911 Hickory St, Los Angeles, CA 90001</td>\n",
       "      <td>2.99</td>\n",
       "      <td>1</td>\n",
       "      <td>288</td>\n",
       "    </tr>\n",
       "    <tr>\n",
       "      <th>75897</th>\n",
       "      <td>584 Walnut St, Boston, MA 02215</td>\n",
       "      <td>14.95</td>\n",
       "      <td>1</td>\n",
       "      <td>20</td>\n",
       "    </tr>\n",
       "    <tr>\n",
       "      <th>50861</th>\n",
       "      <td>423 River St, San Francisco, CA 94016</td>\n",
       "      <td>14.95</td>\n",
       "      <td>1</td>\n",
       "      <td>182</td>\n",
       "    </tr>\n",
       "  </tbody>\n",
       "</table>\n",
       "</div>"
      ],
      "text/plain": [
       "                               Purchase Address  ValorVenda  Frequencia  Diff\n",
       "9078        157 9th St, San Francisco, CA 94016       11.95           1   325\n",
       "68577   537 Lincoln St, San Francisco, CA 94016      750.00           2    15\n",
       "127118    911 Hickory St, Los Angeles, CA 90001        2.99           1   288\n",
       "75897           584 Walnut St, Boston, MA 02215       14.95           1    20\n",
       "50861     423 River St, San Francisco, CA 94016       14.95           1   182"
      ]
     },
     "execution_count": 34,
     "metadata": {},
     "output_type": "execute_result"
    }
   ],
   "source": [
    "amostra1.head()"
   ]
  },
  {
   "cell_type": "code",
   "execution_count": 35,
   "id": "ee9b664f",
   "metadata": {},
   "outputs": [
    {
     "data": {
      "text/plain": [
       "(1407, 3)"
      ]
     },
     "execution_count": 35,
     "metadata": {},
     "output_type": "execute_result"
    }
   ],
   "source": [
    "# Fazer uma re-escala dos atributos - Normalizar \n",
    "\n",
    "Consolidado2 = amostra1[['ValorVenda', 'Frequencia', 'Diff']]\n",
    "scaler = StandardScaler()\n",
    "\n",
    "# fit_transform\n",
    "Consolidado2_s = scaler.fit_transform(Consolidado2)\n",
    "Consolidado2_s.shape\n",
    "\n"
   ]
  },
  {
   "cell_type": "code",
   "execution_count": 36,
   "id": "175f7bfc",
   "metadata": {},
   "outputs": [
    {
     "data": {
      "text/html": [
       "<div>\n",
       "<style scoped>\n",
       "    .dataframe tbody tr th:only-of-type {\n",
       "        vertical-align: middle;\n",
       "    }\n",
       "\n",
       "    .dataframe tbody tr th {\n",
       "        vertical-align: top;\n",
       "    }\n",
       "\n",
       "    .dataframe thead th {\n",
       "        text-align: right;\n",
       "    }\n",
       "</style>\n",
       "<table border=\"1\" class=\"dataframe\">\n",
       "  <thead>\n",
       "    <tr style=\"text-align: right;\">\n",
       "      <th></th>\n",
       "      <th>ValorVenda</th>\n",
       "      <th>Frequencia</th>\n",
       "      <th>Diff</th>\n",
       "    </tr>\n",
       "  </thead>\n",
       "  <tbody>\n",
       "    <tr>\n",
       "      <th>0</th>\n",
       "      <td>-0.593571</td>\n",
       "      <td>-0.520464</td>\n",
       "      <td>1.641077</td>\n",
       "    </tr>\n",
       "    <tr>\n",
       "      <th>1</th>\n",
       "      <td>1.273757</td>\n",
       "      <td>1.054360</td>\n",
       "      <td>-1.265277</td>\n",
       "    </tr>\n",
       "    <tr>\n",
       "      <th>2</th>\n",
       "      <td>-0.616241</td>\n",
       "      <td>-0.520464</td>\n",
       "      <td>1.294189</td>\n",
       "    </tr>\n",
       "    <tr>\n",
       "      <th>3</th>\n",
       "      <td>-0.585981</td>\n",
       "      <td>-0.520464</td>\n",
       "      <td>-1.218401</td>\n",
       "    </tr>\n",
       "    <tr>\n",
       "      <th>4</th>\n",
       "      <td>-0.585981</td>\n",
       "      <td>-0.520464</td>\n",
       "      <td>0.300404</td>\n",
       "    </tr>\n",
       "  </tbody>\n",
       "</table>\n",
       "</div>"
      ],
      "text/plain": [
       "   ValorVenda  Frequencia      Diff\n",
       "0   -0.593571   -0.520464  1.641077\n",
       "1    1.273757    1.054360 -1.265277\n",
       "2   -0.616241   -0.520464  1.294189\n",
       "3   -0.585981   -0.520464 -1.218401\n",
       "4   -0.585981   -0.520464  0.300404"
      ]
     },
     "execution_count": 36,
     "metadata": {},
     "output_type": "execute_result"
    }
   ],
   "source": [
    "Consolidado2_s = pd.DataFrame(Consolidado2_s)\n",
    "Consolidado2_s.columns = ['ValorVenda', 'Frequencia', 'Diff']\n",
    "Consolidado2_s.head()"
   ]
  },
  {
   "cell_type": "code",
   "execution_count": 37,
   "id": "a2ae671a",
   "metadata": {},
   "outputs": [
    {
     "data": {
      "text/plain": [
       "ValorVenda    float64\n",
       "Frequencia    float64\n",
       "Diff          float64\n",
       "dtype: object"
      ]
     },
     "execution_count": 37,
     "metadata": {},
     "output_type": "execute_result"
    }
   ],
   "source": [
    "Consolidado2_s.dtypes"
   ]
  },
  {
   "cell_type": "code",
   "execution_count": 38,
   "id": "5b052585",
   "metadata": {},
   "outputs": [
    {
     "data": {
      "text/html": [
       "<div>\n",
       "<style scoped>\n",
       "    .dataframe tbody tr th:only-of-type {\n",
       "        vertical-align: middle;\n",
       "    }\n",
       "\n",
       "    .dataframe tbody tr th {\n",
       "        vertical-align: top;\n",
       "    }\n",
       "\n",
       "    .dataframe thead th {\n",
       "        text-align: right;\n",
       "    }\n",
       "</style>\n",
       "<table border=\"1\" class=\"dataframe\">\n",
       "  <thead>\n",
       "    <tr style=\"text-align: right;\">\n",
       "      <th></th>\n",
       "      <th>ValorVenda</th>\n",
       "      <th>Frequencia</th>\n",
       "      <th>Diff</th>\n",
       "    </tr>\n",
       "  </thead>\n",
       "  <tbody>\n",
       "    <tr>\n",
       "      <th>9078</th>\n",
       "      <td>11.95</td>\n",
       "      <td>1</td>\n",
       "      <td>325</td>\n",
       "    </tr>\n",
       "    <tr>\n",
       "      <th>68577</th>\n",
       "      <td>750.00</td>\n",
       "      <td>2</td>\n",
       "      <td>15</td>\n",
       "    </tr>\n",
       "    <tr>\n",
       "      <th>127118</th>\n",
       "      <td>2.99</td>\n",
       "      <td>1</td>\n",
       "      <td>288</td>\n",
       "    </tr>\n",
       "    <tr>\n",
       "      <th>75897</th>\n",
       "      <td>14.95</td>\n",
       "      <td>1</td>\n",
       "      <td>20</td>\n",
       "    </tr>\n",
       "    <tr>\n",
       "      <th>50861</th>\n",
       "      <td>14.95</td>\n",
       "      <td>1</td>\n",
       "      <td>182</td>\n",
       "    </tr>\n",
       "  </tbody>\n",
       "</table>\n",
       "</div>"
      ],
      "text/plain": [
       "        ValorVenda  Frequencia  Diff\n",
       "9078         11.95           1   325\n",
       "68577       750.00           2    15\n",
       "127118        2.99           1   288\n",
       "75897        14.95           1    20\n",
       "50861        14.95           1   182"
      ]
     },
     "execution_count": 38,
     "metadata": {},
     "output_type": "execute_result"
    }
   ],
   "source": [
    "Consolidado2.head()"
   ]
  },
  {
   "cell_type": "code",
   "execution_count": 39,
   "id": "25470abc",
   "metadata": {},
   "outputs": [],
   "source": [
    "# Fazer uma copia de seguranca do data Frame \n",
    "Copia = Consolidado2_s.copy()"
   ]
  },
  {
   "cell_type": "code",
   "execution_count": 40,
   "id": "e69c57a3",
   "metadata": {},
   "outputs": [],
   "source": [
    "# Extraimos apenas os valores dos atributos.Nao importa aqui quais os seus tipos \n",
    "Atributos = Consolidado2_s.values"
   ]
  },
  {
   "cell_type": "code",
   "execution_count": 41,
   "id": "fe1dfc67",
   "metadata": {},
   "outputs": [
    {
     "data": {
      "text/plain": [
       "array([[-0.59357132, -0.52046449,  1.64107691],\n",
       "       [ 1.27375683,  1.05436033, -1.2652772 ],\n",
       "       [-0.61624087, -0.52046449,  1.29418948],\n",
       "       ...,\n",
       "       [-0.59357132, -0.52046449,  1.20043612],\n",
       "       [-0.24429329, -0.52046449,  1.20043612],\n",
       "       [ 0.00868977,  1.05436033, -0.93714044]])"
      ]
     },
     "execution_count": 41,
     "metadata": {},
     "output_type": "execute_result"
    }
   ],
   "source": [
    "Atributos"
   ]
  },
  {
   "cell_type": "code",
   "execution_count": 42,
   "id": "b8d95bbc",
   "metadata": {},
   "outputs": [],
   "source": [
    "# Aplica redução de dimensionalidade, ou seja, coloca a amostra de dados em 2 dimensoes\n",
    "amostra3 = PCA(n_components = 2).fit_transform(Atributos)"
   ]
  },
  {
   "cell_type": "code",
   "execution_count": 43,
   "id": "1fa909fd",
   "metadata": {},
   "outputs": [
    {
     "data": {
      "text/plain": [
       "(1407, 2)"
      ]
     },
     "execution_count": 43,
     "metadata": {},
     "output_type": "execute_result"
    }
   ],
   "source": [
    "amostra3.shape"
   ]
  },
  {
   "cell_type": "markdown",
   "id": "d2027124",
   "metadata": {},
   "source": [
    "# Algoritmo Kmeans "
   ]
  },
  {
   "cell_type": "code",
   "execution_count": 44,
   "id": "69425218",
   "metadata": {},
   "outputs": [
    {
     "data": {
      "text/plain": [
       "array([[-1.50454456,  0.78053152],\n",
       "       [ 2.03513673, -0.03518267],\n",
       "       [-1.33959407,  0.51277765],\n",
       "       ...,\n",
       "       [-1.27972918,  0.46018228],\n",
       "       [-1.09435036,  0.69998314],\n",
       "       [ 1.19628846, -0.66517112]])"
      ]
     },
     "execution_count": 44,
     "metadata": {},
     "output_type": "execute_result"
    }
   ],
   "source": [
    "#visualizar a amostra que sera trabalhada: amostra3\n",
    "amostra3"
   ]
  },
  {
   "cell_type": "code",
   "execution_count": 45,
   "id": "99f256e2",
   "metadata": {},
   "outputs": [
    {
     "data": {
      "text/plain": [
       "[<matplotlib.lines.Line2D at 0x20079127550>]"
      ]
     },
     "execution_count": 45,
     "metadata": {},
     "output_type": "execute_result"
    },
    {
     "data": {
      "image/png": "[encoded data removed]",
      "text/plain": [
       "<Figure size 720x576 with 1 Axes>"
      ]
     },
     "metadata": {
      "needs_background": "light"
     },
     "output_type": "display_data"
    }
   ],
   "source": [
    "# k-means utilizando um numero aleatorio de clusters k\n",
    "#Estou criando o modelo com Kmeans e aplicando o modelo com o fit no meu conjunto amostra3\n",
    "# range de K\n",
    "# Elbow-curve/SSD\n",
    "\n",
    "lista = []\n",
    "k_r = [1,2,3,4,5,6,7,8,9,10,11,12,13,14,15]\n",
    "\n",
    "for X in k_r:\n",
    "    modelo = KMeans(n_clusters=X, max_iter=50)\n",
    "    modelo.fit(amostra3)\n",
    "    lista.append(modelo.inertia_)\n",
    "    \n",
    "# plot da lista\n",
    "plt.plot(lista)"
   ]
  },
  {
   "cell_type": "code",
   "execution_count": 46,
   "id": "485d236a",
   "metadata": {},
   "outputs": [
    {
     "name": "stdout",
     "output_type": "stream",
     "text": [
      "para X=8, o score de silhoette 0.4475496932566367\n",
      "para X=9, o score de silhoette 0.4534754491132862\n",
      "para X=10, o score de silhoette 0.4581780955853613\n",
      "para X=11, o score de silhoette 0.42798021417616633\n",
      "para X=12, o score de silhoette 0.46978935937380384\n",
      "para X=13, o score de silhoette 0.44186122613555784\n",
      "para X=14, o score de silhoette 0.4573370321144012\n",
      "para X=15, o score de silhoette 0.4588265163226249\n"
     ]
    }
   ],
   "source": [
    "# Analise de Silhouette -usar mesmo range de K do Elbow\n",
    "\n",
    "\n",
    "k_r = [8,9,10,11,12,13,14,15]\n",
    "\n",
    "for X in k_r:\n",
    "    \n",
    "    modelo = KMeans(n_clusters=X, max_iter=50)\n",
    "    modelo.fit(amostra3)\n",
    "    labels = modelo.labels_\n",
    "    silhouette = silhouette_score(amostra3, labels)\n",
    "    print(\"para X={0}, o score de silhoette {1}\".format(X,  silhouette))\n",
    "\n",
    "\n",
    " "
   ]
  },
  {
   "cell_type": "markdown",
   "id": "c4b7d933",
   "metadata": {},
   "source": [
    "#### Modelo com o k=12"
   ]
  },
  {
   "cell_type": "code",
   "execution_count": 47,
   "id": "16db4fd3",
   "metadata": {},
   "outputs": [
    {
     "data": {
      "text/html": [
       "<style>#sk-container-id-1 {color: black;background-color: white;}#sk-container-id-1 pre{padding: 0;}#sk-container-id-1 div.sk-toggleable {background-color: white;}#sk-container-id-1 label.sk-toggleable__label {cursor: pointer;display: block;width: 100%;margin-bottom: 0;padding: 0.3em;box-sizing: border-box;text-align: center;}#sk-container-id-1 label.sk-toggleable__label-arrow:before {content: \"▸\";float: left;margin-right: 0.25em;color: #696969;}#sk-container-id-1 label.sk-toggleable__label-arrow:hover:before {color: black;}#sk-container-id-1 div.sk-estimator:hover label.sk-toggleable__label-arrow:before {color: black;}#sk-container-id-1 div.sk-toggleable__content {max-height: 0;max-width: 0;overflow: hidden;text-align: left;background-color: #f0f8ff;}#sk-container-id-1 div.sk-toggleable__content pre {margin: 0.2em;color: black;border-radius: 0.25em;background-color: #f0f8ff;}#sk-container-id-1 input.sk-toggleable__control:checked~div.sk-toggleable__content {max-height: 200px;max-width: 100%;overflow: auto;}#sk-container-id-1 input.sk-toggleable__control:checked~label.sk-toggleable__label-arrow:before {content: \"▾\";}#sk-container-id-1 div.sk-estimator input.sk-toggleable__control:checked~label.sk-toggleable__label {background-color: #d4ebff;}#sk-container-id-1 div.sk-label input.sk-toggleable__control:checked~label.sk-toggleable__label {background-color: #d4ebff;}#sk-container-id-1 input.sk-hidden--visually {border: 0;clip: rect(1px 1px 1px 1px);clip: rect(1px, 1px, 1px, 1px);height: 1px;margin: -1px;overflow: hidden;padding: 0;position: absolute;width: 1px;}#sk-container-id-1 div.sk-estimator {font-family: monospace;background-color: #f0f8ff;border: 1px dotted black;border-radius: 0.25em;box-sizing: border-box;margin-bottom: 0.5em;}#sk-container-id-1 div.sk-estimator:hover {background-color: #d4ebff;}#sk-container-id-1 div.sk-parallel-item::after {content: \"\";width: 100%;border-bottom: 1px solid gray;flex-grow: 1;}#sk-container-id-1 div.sk-label:hover label.sk-toggleable__label {background-color: #d4ebff;}#sk-container-id-1 div.sk-serial::before {content: \"\";position: absolute;border-left: 1px solid gray;box-sizing: border-box;top: 0;bottom: 0;left: 50%;z-index: 0;}#sk-container-id-1 div.sk-serial {display: flex;flex-direction: column;align-items: center;background-color: white;padding-right: 0.2em;padding-left: 0.2em;position: relative;}#sk-container-id-1 div.sk-item {position: relative;z-index: 1;}#sk-container-id-1 div.sk-parallel {display: flex;align-items: stretch;justify-content: center;background-color: white;position: relative;}#sk-container-id-1 div.sk-item::before, #sk-container-id-1 div.sk-parallel-item::before {content: \"\";position: absolute;border-left: 1px solid gray;box-sizing: border-box;top: 0;bottom: 0;left: 50%;z-index: -1;}#sk-container-id-1 div.sk-parallel-item {display: flex;flex-direction: column;z-index: 1;position: relative;background-color: white;}#sk-container-id-1 div.sk-parallel-item:first-child::after {align-self: flex-end;width: 50%;}#sk-container-id-1 div.sk-parallel-item:last-child::after {align-self: flex-start;width: 50%;}#sk-container-id-1 div.sk-parallel-item:only-child::after {width: 0;}#sk-container-id-1 div.sk-dashed-wrapped {border: 1px dashed gray;margin: 0 0.4em 0.5em 0.4em;box-sizing: border-box;padding-bottom: 0.4em;background-color: white;}#sk-container-id-1 div.sk-label label {font-family: monospace;font-weight: bold;display: inline-block;line-height: 1.2em;}#sk-container-id-1 div.sk-label-container {text-align: center;}#sk-container-id-1 div.sk-container {/* jupyter's `normalize.less` sets `[hidden] { display: none; }` but bootstrap.min.css set `[hidden] { display: none !important; }` so we also need the `!important` here to be able to override the default hidden behavior on the sphinx rendered scikit-learn.org. See: https://github.com/scikit-learn/scikit-learn/issues/21755 */display: inline-block !important;position: relative;}#sk-container-id-1 div.sk-text-repr-fallback {display: none;}</style><div id=\"sk-container-id-1\" class=\"sk-top-container\"><div class=\"sk-text-repr-fallback\"><pre>KMeans(n_clusters=12)</pre><b>In a Jupyter environment, please rerun this cell to show the HTML representation or trust the notebook. <br />On GitHub, the HTML representation is unable to render, please try loading this page with nbviewer.org.</b></div><div class=\"sk-container\" hidden><div class=\"sk-item\"><div class=\"sk-estimator sk-toggleable\"><input class=\"sk-toggleable__control sk-hidden--visually\" id=\"sk-estimator-id-1\" type=\"checkbox\" checked><label for=\"sk-estimator-id-1\" class=\"sk-toggleable__label sk-toggleable__label-arrow\">KMeans</label><div class=\"sk-toggleable__content\"><pre>KMeans(n_clusters=12)</pre></div></div></div></div></div>"
      ],
      "text/plain": [
       "KMeans(n_clusters=12)"
      ]
     },
     "execution_count": 47,
     "metadata": {},
     "output_type": "execute_result"
    }
   ],
   "source": [
    "k12 = KMeans(n_clusters = 12)\n",
    "k12.fit(amostra3)"
   ]
  },
  {
   "cell_type": "code",
   "execution_count": 48,
   "id": "a0211b9a",
   "metadata": {},
   "outputs": [],
   "source": [
    "# Obtém os valores mínimos e máximos e organiza o shape\n",
    "x_min, x_max = amostra3[:, 0].min() - 5, amostra3[:, 0].max() - 1\n",
    "y_min, y_max = amostra3[:, 1].min() + 1, amostra3[:, 1].max() + 5\n",
    "xx, yy = np.meshgrid(np.arange(x_min, x_max, .02), np.arange(y_min, y_max, .02))\n",
    "Z = k12.predict(np.c_[xx.ravel(), yy.ravel()])\n",
    "Z = Z.reshape(xx.shape)"
   ]
  },
  {
   "cell_type": "code",
   "execution_count": 49,
   "id": "ff0ee059",
   "metadata": {},
   "outputs": [
    {
     "data": {
      "text/plain": [
       "<matplotlib.image.AxesImage at 0x2007a2bb640>"
      ]
     },
     "execution_count": 49,
     "metadata": {},
     "output_type": "execute_result"
    },
    {
     "data": {
      "image/png": "[encoded data removed]",
      "text/plain": [
       "<Figure size 720x576 with 1 Axes>"
      ]
     },
     "metadata": {
      "needs_background": "light"
     },
     "output_type": "display_data"
    }
   ],
   "source": [
    "# Plot das áreas dos clusters\n",
    "plt.figure(1)\n",
    "plt.clf()\n",
    "plt.imshow(Z, \n",
    "           interpolation = 'nearest',\n",
    "           extent = (xx.min(), xx.max(), yy.min(), yy.max()),\n",
    "           cmap = plt.cm.Paired,\n",
    "           aspect = 'auto', \n",
    "           origin = 'lower')"
   ]
  },
  {
   "cell_type": "code",
   "execution_count": 50,
   "id": "45037ce7",
   "metadata": {},
   "outputs": [
    {
     "data": {
      "image/png": "[encoded data removed]",
      "text/plain": [
       "<Figure size 720x576 with 1 Axes>"
      ]
     },
     "metadata": {},
     "output_type": "display_data"
    }
   ],
   "source": [
    "# Plot dos centróides\n",
    "plt.plot(amostra3[:, 0], amostra3[:, 1], 'k.', markersize = 4)\n",
    "centroids = k12.cluster_centers_\n",
    "inert = k12.inertia_\n",
    "plt.scatter(centroids[:, 0], centroids[:, 1], marker = 'x', s = 169, linewidths = 3, color = 'r', zorder = 8)\n",
    "plt.xlim(x_min, x_max)\n",
    "plt.ylim(y_min, y_max)\n",
    "plt.xticks(())\n",
    "plt.yticks(())\n",
    "plt.show()"
   ]
  },
  {
   "cell_type": "code",
   "execution_count": 51,
   "id": "432a4846",
   "metadata": {},
   "outputs": [
    {
     "data": {
      "text/html": [
       "<div>\n",
       "<style scoped>\n",
       "    .dataframe tbody tr th:only-of-type {\n",
       "        vertical-align: middle;\n",
       "    }\n",
       "\n",
       "    .dataframe tbody tr th {\n",
       "        vertical-align: top;\n",
       "    }\n",
       "\n",
       "    .dataframe thead th {\n",
       "        text-align: right;\n",
       "    }\n",
       "</style>\n",
       "<table border=\"1\" class=\"dataframe\">\n",
       "  <thead>\n",
       "    <tr style=\"text-align: right;\">\n",
       "      <th></th>\n",
       "      <th>Purchase Address</th>\n",
       "      <th>ValorVenda</th>\n",
       "      <th>Frequencia</th>\n",
       "      <th>Diff</th>\n",
       "    </tr>\n",
       "  </thead>\n",
       "  <tbody>\n",
       "    <tr>\n",
       "      <th>9078</th>\n",
       "      <td>157 9th St, San Francisco, CA 94016</td>\n",
       "      <td>11.95</td>\n",
       "      <td>1</td>\n",
       "      <td>325</td>\n",
       "    </tr>\n",
       "    <tr>\n",
       "      <th>68577</th>\n",
       "      <td>537 Lincoln St, San Francisco, CA 94016</td>\n",
       "      <td>750.00</td>\n",
       "      <td>2</td>\n",
       "      <td>15</td>\n",
       "    </tr>\n",
       "    <tr>\n",
       "      <th>127118</th>\n",
       "      <td>911 Hickory St, Los Angeles, CA 90001</td>\n",
       "      <td>2.99</td>\n",
       "      <td>1</td>\n",
       "      <td>288</td>\n",
       "    </tr>\n",
       "    <tr>\n",
       "      <th>75897</th>\n",
       "      <td>584 Walnut St, Boston, MA 02215</td>\n",
       "      <td>14.95</td>\n",
       "      <td>1</td>\n",
       "      <td>20</td>\n",
       "    </tr>\n",
       "    <tr>\n",
       "      <th>50861</th>\n",
       "      <td>423 River St, San Francisco, CA 94016</td>\n",
       "      <td>14.95</td>\n",
       "      <td>1</td>\n",
       "      <td>182</td>\n",
       "    </tr>\n",
       "  </tbody>\n",
       "</table>\n",
       "</div>"
      ],
      "text/plain": [
       "                               Purchase Address  ValorVenda  Frequencia  Diff\n",
       "9078        157 9th St, San Francisco, CA 94016       11.95           1   325\n",
       "68577   537 Lincoln St, San Francisco, CA 94016      750.00           2    15\n",
       "127118    911 Hickory St, Los Angeles, CA 90001        2.99           1   288\n",
       "75897           584 Walnut St, Boston, MA 02215       14.95           1    20\n",
       "50861     423 River St, San Francisco, CA 94016       14.95           1   182"
      ]
     },
     "execution_count": 51,
     "metadata": {},
     "output_type": "execute_result"
    }
   ],
   "source": [
    "amostra1.head()"
   ]
  },
  {
   "cell_type": "code",
   "execution_count": 52,
   "id": "6929441a",
   "metadata": {},
   "outputs": [],
   "source": [
    "# Lista com nomes das colunas\n",
    "names = ['Purchase Address','ValorVenda', 'Frequencia', 'Diff']"
   ]
  },
  {
   "cell_type": "code",
   "execution_count": 53,
   "id": "562ac657",
   "metadata": {},
   "outputs": [],
   "source": [
    "# Cria o cluster map\n",
    "cluster_map = pd.DataFrame(amostra1, columns = names)"
   ]
  },
  {
   "cell_type": "code",
   "execution_count": 54,
   "id": "b79014ad",
   "metadata": {},
   "outputs": [],
   "source": [
    "cluster_map['cluster'] = k12.labels_"
   ]
  },
  {
   "cell_type": "code",
   "execution_count": 55,
   "id": "e636e982",
   "metadata": {},
   "outputs": [
    {
     "data": {
      "text/html": [
       "<div>\n",
       "<style scoped>\n",
       "    .dataframe tbody tr th:only-of-type {\n",
       "        vertical-align: middle;\n",
       "    }\n",
       "\n",
       "    .dataframe tbody tr th {\n",
       "        vertical-align: top;\n",
       "    }\n",
       "\n",
       "    .dataframe thead th {\n",
       "        text-align: right;\n",
       "    }\n",
       "</style>\n",
       "<table border=\"1\" class=\"dataframe\">\n",
       "  <thead>\n",
       "    <tr style=\"text-align: right;\">\n",
       "      <th></th>\n",
       "      <th>Purchase Address</th>\n",
       "      <th>ValorVenda</th>\n",
       "      <th>Frequencia</th>\n",
       "      <th>Diff</th>\n",
       "      <th>cluster</th>\n",
       "    </tr>\n",
       "  </thead>\n",
       "  <tbody>\n",
       "    <tr>\n",
       "      <th>9078</th>\n",
       "      <td>157 9th St, San Francisco, CA 94016</td>\n",
       "      <td>11.95</td>\n",
       "      <td>1</td>\n",
       "      <td>325</td>\n",
       "      <td>1</td>\n",
       "    </tr>\n",
       "    <tr>\n",
       "      <th>68577</th>\n",
       "      <td>537 Lincoln St, San Francisco, CA 94016</td>\n",
       "      <td>750.00</td>\n",
       "      <td>2</td>\n",
       "      <td>15</td>\n",
       "      <td>6</td>\n",
       "    </tr>\n",
       "    <tr>\n",
       "      <th>127118</th>\n",
       "      <td>911 Hickory St, Los Angeles, CA 90001</td>\n",
       "      <td>2.99</td>\n",
       "      <td>1</td>\n",
       "      <td>288</td>\n",
       "      <td>1</td>\n",
       "    </tr>\n",
       "    <tr>\n",
       "      <th>75897</th>\n",
       "      <td>584 Walnut St, Boston, MA 02215</td>\n",
       "      <td>14.95</td>\n",
       "      <td>1</td>\n",
       "      <td>20</td>\n",
       "      <td>0</td>\n",
       "    </tr>\n",
       "    <tr>\n",
       "      <th>50861</th>\n",
       "      <td>423 River St, San Francisco, CA 94016</td>\n",
       "      <td>14.95</td>\n",
       "      <td>1</td>\n",
       "      <td>182</td>\n",
       "      <td>10</td>\n",
       "    </tr>\n",
       "    <tr>\n",
       "      <th>...</th>\n",
       "      <td>...</td>\n",
       "      <td>...</td>\n",
       "      <td>...</td>\n",
       "      <td>...</td>\n",
       "      <td>...</td>\n",
       "    </tr>\n",
       "    <tr>\n",
       "      <th>110268</th>\n",
       "      <td>803 Pine St, Seattle, WA 98101</td>\n",
       "      <td>379.99</td>\n",
       "      <td>1</td>\n",
       "      <td>178</td>\n",
       "      <td>10</td>\n",
       "    </tr>\n",
       "    <tr>\n",
       "      <th>119879</th>\n",
       "      <td>865 Johnson St, Seattle, WA 98101</td>\n",
       "      <td>11.95</td>\n",
       "      <td>1</td>\n",
       "      <td>152</td>\n",
       "      <td>10</td>\n",
       "    </tr>\n",
       "    <tr>\n",
       "      <th>103694</th>\n",
       "      <td>762 1st St, Seattle, WA 98101</td>\n",
       "      <td>11.95</td>\n",
       "      <td>1</td>\n",
       "      <td>278</td>\n",
       "      <td>1</td>\n",
       "    </tr>\n",
       "    <tr>\n",
       "      <th>131932</th>\n",
       "      <td>942 Jackson St, Dallas, TX 75001</td>\n",
       "      <td>150.00</td>\n",
       "      <td>1</td>\n",
       "      <td>278</td>\n",
       "      <td>1</td>\n",
       "    </tr>\n",
       "    <tr>\n",
       "      <th>121958</th>\n",
       "      <td>879 Main St, Los Angeles, CA 90001</td>\n",
       "      <td>249.99</td>\n",
       "      <td>2</td>\n",
       "      <td>50</td>\n",
       "      <td>8</td>\n",
       "    </tr>\n",
       "  </tbody>\n",
       "</table>\n",
       "<p>1407 rows × 5 columns</p>\n",
       "</div>"
      ],
      "text/plain": [
       "                               Purchase Address  ValorVenda  Frequencia  Diff  \\\n",
       "9078        157 9th St, San Francisco, CA 94016       11.95           1   325   \n",
       "68577   537 Lincoln St, San Francisco, CA 94016      750.00           2    15   \n",
       "127118    911 Hickory St, Los Angeles, CA 90001        2.99           1   288   \n",
       "75897           584 Walnut St, Boston, MA 02215       14.95           1    20   \n",
       "50861     423 River St, San Francisco, CA 94016       14.95           1   182   \n",
       "...                                         ...         ...         ...   ...   \n",
       "110268           803 Pine St, Seattle, WA 98101      379.99           1   178   \n",
       "119879        865 Johnson St, Seattle, WA 98101       11.95           1   152   \n",
       "103694            762 1st St, Seattle, WA 98101       11.95           1   278   \n",
       "131932         942 Jackson St, Dallas, TX 75001      150.00           1   278   \n",
       "121958       879 Main St, Los Angeles, CA 90001      249.99           2    50   \n",
       "\n",
       "        cluster  \n",
       "9078          1  \n",
       "68577         6  \n",
       "127118        1  \n",
       "75897         0  \n",
       "50861        10  \n",
       "...         ...  \n",
       "110268       10  \n",
       "119879       10  \n",
       "103694        1  \n",
       "131932        1  \n",
       "121958        8  \n",
       "\n",
       "[1407 rows x 5 columns]"
      ]
     },
     "execution_count": 55,
     "metadata": {},
     "output_type": "execute_result"
    }
   ],
   "source": [
    "cluster_map"
   ]
  },
  {
   "cell_type": "code",
   "execution_count": 56,
   "id": "83d13184",
   "metadata": {},
   "outputs": [
    {
     "data": {
      "text/plain": [
       "cluster\n",
       "0       45.438234\n",
       "1       46.471269\n",
       "2      618.992500\n",
       "3     1270.472564\n",
       "4      294.652574\n",
       "5      460.748750\n",
       "6      431.423210\n",
       "7     1785.623750\n",
       "8      112.888962\n",
       "9      777.454667\n",
       "10      58.270216\n",
       "11    1726.961579\n",
       "Name: ValorVenda, dtype: float64"
      ]
     },
     "execution_count": 56,
     "metadata": {},
     "output_type": "execute_result"
    }
   ],
   "source": [
    "# Calcula a média ValorVenda por cluster\n",
    "cluster_map.groupby('cluster')['ValorVenda'].mean()"
   ]
  },
  {
   "cell_type": "code",
   "execution_count": 57,
   "id": "0504126b",
   "metadata": {},
   "outputs": [
    {
     "data": {
      "text/plain": [
       "cluster\n",
       "0     334\n",
       "1     260\n",
       "2      28\n",
       "3      39\n",
       "4     136\n",
       "5      96\n",
       "6      81\n",
       "7      16\n",
       "8     106\n",
       "9      60\n",
       "10    232\n",
       "11     19\n",
       "Name: Purchase Address, dtype: int64"
      ]
     },
     "execution_count": 57,
     "metadata": {},
     "output_type": "execute_result"
    }
   ],
   "source": [
    "#Agrupa os clusters por enderecos\n",
    "cluster_enderecos = cluster_map.groupby('cluster')['Purchase Address'].count()\n",
    "cluster_enderecos"
   ]
  },
  {
   "cell_type": "code",
   "execution_count": 58,
   "id": "55725b08",
   "metadata": {},
   "outputs": [
    {
     "data": {
      "text/html": [
       "<div>\n",
       "<style scoped>\n",
       "    .dataframe tbody tr th:only-of-type {\n",
       "        vertical-align: middle;\n",
       "    }\n",
       "\n",
       "    .dataframe tbody tr th {\n",
       "        vertical-align: top;\n",
       "    }\n",
       "\n",
       "    .dataframe thead th {\n",
       "        text-align: right;\n",
       "    }\n",
       "</style>\n",
       "<table border=\"1\" class=\"dataframe\">\n",
       "  <thead>\n",
       "    <tr style=\"text-align: right;\">\n",
       "      <th></th>\n",
       "      <th>Purchase Address</th>\n",
       "      <th>ValorVenda</th>\n",
       "      <th>Frequencia</th>\n",
       "      <th>Diff</th>\n",
       "      <th>cluster</th>\n",
       "    </tr>\n",
       "  </thead>\n",
       "  <tbody>\n",
       "    <tr>\n",
       "      <th>75897</th>\n",
       "      <td>584 Walnut St, Boston, MA 02215</td>\n",
       "      <td>14.95</td>\n",
       "      <td>1</td>\n",
       "      <td>20</td>\n",
       "      <td>0</td>\n",
       "    </tr>\n",
       "    <tr>\n",
       "      <th>22431</th>\n",
       "      <td>241 Jackson St, Boston, MA 02215</td>\n",
       "      <td>14.95</td>\n",
       "      <td>1</td>\n",
       "      <td>36</td>\n",
       "      <td>0</td>\n",
       "    </tr>\n",
       "    <tr>\n",
       "      <th>74441</th>\n",
       "      <td>575 Dogwood St, Seattle, WA 98101</td>\n",
       "      <td>5.98</td>\n",
       "      <td>1</td>\n",
       "      <td>94</td>\n",
       "      <td>0</td>\n",
       "    </tr>\n",
       "    <tr>\n",
       "      <th>48787</th>\n",
       "      <td>41 Wilson St, Portland, ME 04101</td>\n",
       "      <td>23.90</td>\n",
       "      <td>1</td>\n",
       "      <td>80</td>\n",
       "      <td>0</td>\n",
       "    </tr>\n",
       "    <tr>\n",
       "      <th>6154</th>\n",
       "      <td>138 Cedar St, San Francisco, CA 94016</td>\n",
       "      <td>3.84</td>\n",
       "      <td>1</td>\n",
       "      <td>3</td>\n",
       "      <td>0</td>\n",
       "    </tr>\n",
       "  </tbody>\n",
       "</table>\n",
       "</div>"
      ],
      "text/plain": [
       "                            Purchase Address  ValorVenda  Frequencia  Diff  \\\n",
       "75897        584 Walnut St, Boston, MA 02215       14.95           1    20   \n",
       "22431       241 Jackson St, Boston, MA 02215       14.95           1    36   \n",
       "74441      575 Dogwood St, Seattle, WA 98101        5.98           1    94   \n",
       "48787       41 Wilson St, Portland, ME 04101       23.90           1    80   \n",
       "6154   138 Cedar St, San Francisco, CA 94016        3.84           1     3   \n",
       "\n",
       "       cluster  \n",
       "75897        0  \n",
       "22431        0  \n",
       "74441        0  \n",
       "48787        0  \n",
       "6154         0  "
      ]
     },
     "execution_count": 58,
     "metadata": {},
     "output_type": "execute_result"
    }
   ],
   "source": [
    "# Identificar as cidades do cluster 0 - Para futuros trabalhos de marketing\n",
    "\n",
    "cluster0= cluster_map[cluster_map.cluster == 0]\n",
    "cluster0.head()"
   ]
  },
  {
   "cell_type": "code",
   "execution_count": 59,
   "id": "1adc766d",
   "metadata": {},
   "outputs": [
    {
     "data": {
      "text/html": [
       "<div>\n",
       "<style scoped>\n",
       "    .dataframe tbody tr th:only-of-type {\n",
       "        vertical-align: middle;\n",
       "    }\n",
       "\n",
       "    .dataframe tbody tr th {\n",
       "        vertical-align: top;\n",
       "    }\n",
       "\n",
       "    .dataframe thead th {\n",
       "        text-align: right;\n",
       "    }\n",
       "</style>\n",
       "<table border=\"1\" class=\"dataframe\">\n",
       "  <thead>\n",
       "    <tr style=\"text-align: right;\">\n",
       "      <th></th>\n",
       "      <th>ValorVenda</th>\n",
       "      <th>Frequencia</th>\n",
       "      <th>Diff</th>\n",
       "      <th>cluster</th>\n",
       "      <th>Cidade</th>\n",
       "    </tr>\n",
       "  </thead>\n",
       "  <tbody>\n",
       "    <tr>\n",
       "      <th>75897</th>\n",
       "      <td>14.95</td>\n",
       "      <td>1</td>\n",
       "      <td>20</td>\n",
       "      <td>0</td>\n",
       "      <td>Boston</td>\n",
       "    </tr>\n",
       "    <tr>\n",
       "      <th>22431</th>\n",
       "      <td>14.95</td>\n",
       "      <td>1</td>\n",
       "      <td>36</td>\n",
       "      <td>0</td>\n",
       "      <td>Boston</td>\n",
       "    </tr>\n",
       "    <tr>\n",
       "      <th>74441</th>\n",
       "      <td>5.98</td>\n",
       "      <td>1</td>\n",
       "      <td>94</td>\n",
       "      <td>0</td>\n",
       "      <td>Seattle</td>\n",
       "    </tr>\n",
       "    <tr>\n",
       "      <th>48787</th>\n",
       "      <td>23.90</td>\n",
       "      <td>1</td>\n",
       "      <td>80</td>\n",
       "      <td>0</td>\n",
       "      <td>Portland</td>\n",
       "    </tr>\n",
       "    <tr>\n",
       "      <th>6154</th>\n",
       "      <td>3.84</td>\n",
       "      <td>1</td>\n",
       "      <td>3</td>\n",
       "      <td>0</td>\n",
       "      <td>San Francisco</td>\n",
       "    </tr>\n",
       "  </tbody>\n",
       "</table>\n",
       "</div>"
      ],
      "text/plain": [
       "       ValorVenda  Frequencia  Diff  cluster          Cidade\n",
       "75897       14.95           1    20        0          Boston\n",
       "22431       14.95           1    36        0          Boston\n",
       "74441        5.98           1    94        0         Seattle\n",
       "48787       23.90           1    80        0        Portland\n",
       "6154         3.84           1     3        0   San Francisco"
      ]
     },
     "execution_count": 59,
     "metadata": {},
     "output_type": "execute_result"
    }
   ],
   "source": [
    "#Copia de cluster_map\n",
    "cluster0_copy = cluster0.copy()\n",
    "\n",
    "#Extrai as cidades do cluster 2 para avaliar\n",
    "cluster0_copy['Cidade'] = cluster0_copy['Purchase Address'].apply(lambda x: x.split(',')[1])\n",
    "del cluster0_copy['Purchase Address']\n",
    "\n",
    "\n",
    "cluster0_copy.head()"
   ]
  },
  {
   "cell_type": "code",
   "execution_count": 60,
   "id": "d36fc312",
   "metadata": {},
   "outputs": [
    {
     "data": {
      "text/html": [
       "<div>\n",
       "<style scoped>\n",
       "    .dataframe tbody tr th:only-of-type {\n",
       "        vertical-align: middle;\n",
       "    }\n",
       "\n",
       "    .dataframe tbody tr th {\n",
       "        vertical-align: top;\n",
       "    }\n",
       "\n",
       "    .dataframe thead th {\n",
       "        text-align: right;\n",
       "    }\n",
       "</style>\n",
       "<table border=\"1\" class=\"dataframe\">\n",
       "  <thead>\n",
       "    <tr style=\"text-align: right;\">\n",
       "      <th></th>\n",
       "      <th>ValorVenda</th>\n",
       "      <th>Frequencia</th>\n",
       "      <th>Diff</th>\n",
       "      <th>cluster</th>\n",
       "    </tr>\n",
       "    <tr>\n",
       "      <th>Cidade</th>\n",
       "      <th></th>\n",
       "      <th></th>\n",
       "      <th></th>\n",
       "      <th></th>\n",
       "    </tr>\n",
       "  </thead>\n",
       "  <tbody>\n",
       "    <tr>\n",
       "      <th>Atlanta</th>\n",
       "      <td>31</td>\n",
       "      <td>31</td>\n",
       "      <td>31</td>\n",
       "      <td>31</td>\n",
       "    </tr>\n",
       "    <tr>\n",
       "      <th>Austin</th>\n",
       "      <td>21</td>\n",
       "      <td>21</td>\n",
       "      <td>21</td>\n",
       "      <td>21</td>\n",
       "    </tr>\n",
       "    <tr>\n",
       "      <th>Boston</th>\n",
       "      <td>43</td>\n",
       "      <td>43</td>\n",
       "      <td>43</td>\n",
       "      <td>43</td>\n",
       "    </tr>\n",
       "    <tr>\n",
       "      <th>Dallas</th>\n",
       "      <td>40</td>\n",
       "      <td>40</td>\n",
       "      <td>40</td>\n",
       "      <td>40</td>\n",
       "    </tr>\n",
       "    <tr>\n",
       "      <th>Los Angeles</th>\n",
       "      <td>47</td>\n",
       "      <td>47</td>\n",
       "      <td>47</td>\n",
       "      <td>47</td>\n",
       "    </tr>\n",
       "    <tr>\n",
       "      <th>New York City</th>\n",
       "      <td>40</td>\n",
       "      <td>40</td>\n",
       "      <td>40</td>\n",
       "      <td>40</td>\n",
       "    </tr>\n",
       "    <tr>\n",
       "      <th>Portland</th>\n",
       "      <td>34</td>\n",
       "      <td>34</td>\n",
       "      <td>34</td>\n",
       "      <td>34</td>\n",
       "    </tr>\n",
       "    <tr>\n",
       "      <th>San Francisco</th>\n",
       "      <td>49</td>\n",
       "      <td>49</td>\n",
       "      <td>49</td>\n",
       "      <td>49</td>\n",
       "    </tr>\n",
       "    <tr>\n",
       "      <th>Seattle</th>\n",
       "      <td>29</td>\n",
       "      <td>29</td>\n",
       "      <td>29</td>\n",
       "      <td>29</td>\n",
       "    </tr>\n",
       "  </tbody>\n",
       "</table>\n",
       "</div>"
      ],
      "text/plain": [
       "                ValorVenda  Frequencia  Diff  cluster\n",
       "Cidade                                               \n",
       " Atlanta                31          31    31       31\n",
       " Austin                 21          21    21       21\n",
       " Boston                 43          43    43       43\n",
       " Dallas                 40          40    40       40\n",
       " Los Angeles            47          47    47       47\n",
       " New York City          40          40    40       40\n",
       " Portland               34          34    34       34\n",
       " San Francisco          49          49    49       49\n",
       " Seattle                29          29    29       29"
      ]
     },
     "execution_count": 60,
     "metadata": {},
     "output_type": "execute_result"
    }
   ],
   "source": [
    "cluster0_copy.groupby(['Cidade']).count()\n"
   ]
  },
  {
   "cell_type": "markdown",
   "id": "cc0cd7f8",
   "metadata": {},
   "source": [
    "# Algoritmo DBSCAN"
   ]
  },
  {
   "cell_type": "code",
   "execution_count": 61,
   "id": "27fcd6f7",
   "metadata": {},
   "outputs": [],
   "source": [
    "# Construção do modelo\n",
    "# Estes parametros eps e min_samples sao padroes \n",
    "# Primeira versão do modelo\n",
    "modelo = DBSCAN(eps = 0.2, min_samples = 5, metric = 'euclidean')"
   ]
  },
  {
   "cell_type": "code",
   "execution_count": 62,
   "id": "f6b4d440",
   "metadata": {},
   "outputs": [],
   "source": [
    "# Fit do modelo\n",
    "y_db = modelo.fit_predict(amostra3)"
   ]
  },
  {
   "cell_type": "code",
   "execution_count": 63,
   "id": "61499603",
   "metadata": {},
   "outputs": [
    {
     "data": {
      "text/plain": [
       "array([0, 1, 0, ..., 0, 0, 1], dtype=int64)"
      ]
     },
     "execution_count": 63,
     "metadata": {},
     "output_type": "execute_result"
    }
   ],
   "source": [
    "modelo.labels_"
   ]
  },
  {
   "cell_type": "code",
   "execution_count": 64,
   "id": "de74ac8d",
   "metadata": {},
   "outputs": [
    {
     "data": {
      "image/png": "[encoded data removed]",
      "text/plain": [
       "<Figure size 720x576 with 1 Axes>"
      ]
     },
     "metadata": {
      "needs_background": "light"
     },
     "output_type": "display_data"
    }
   ],
   "source": [
    "# Plot\n",
    "plt.scatter(amostra3[y_db==0,0], amostra3[y_db==0,1], c = 'blue', marker = 'o', s = 40, label = 'Cluster 1')\n",
    "plt.scatter(amostra3[y_db==1,0], amostra3[y_db==1,1], c = 'red', marker = 's', s = 40, label = 'Cluster 2')\n",
    "plt.legend()\n",
    "plt.tight_layout()\n",
    "plt.show()"
   ]
  },
  {
   "cell_type": "code",
   "execution_count": 65,
   "id": "ef79a1f8",
   "metadata": {},
   "outputs": [
    {
     "data": {
      "text/html": [
       "<style>#sk-container-id-2 {color: black;background-color: white;}#sk-container-id-2 pre{padding: 0;}#sk-container-id-2 div.sk-toggleable {background-color: white;}#sk-container-id-2 label.sk-toggleable__label {cursor: pointer;display: block;width: 100%;margin-bottom: 0;padding: 0.3em;box-sizing: border-box;text-align: center;}#sk-container-id-2 label.sk-toggleable__label-arrow:before {content: \"▸\";float: left;margin-right: 0.25em;color: #696969;}#sk-container-id-2 label.sk-toggleable__label-arrow:hover:before {color: black;}#sk-container-id-2 div.sk-estimator:hover label.sk-toggleable__label-arrow:before {color: black;}#sk-container-id-2 div.sk-toggleable__content {max-height: 0;max-width: 0;overflow: hidden;text-align: left;background-color: #f0f8ff;}#sk-container-id-2 div.sk-toggleable__content pre {margin: 0.2em;color: black;border-radius: 0.25em;background-color: #f0f8ff;}#sk-container-id-2 input.sk-toggleable__control:checked~div.sk-toggleable__content {max-height: 200px;max-width: 100%;overflow: auto;}#sk-container-id-2 input.sk-toggleable__control:checked~label.sk-toggleable__label-arrow:before {content: \"▾\";}#sk-container-id-2 div.sk-estimator input.sk-toggleable__control:checked~label.sk-toggleable__label {background-color: #d4ebff;}#sk-container-id-2 div.sk-label input.sk-toggleable__control:checked~label.sk-toggleable__label {background-color: #d4ebff;}#sk-container-id-2 input.sk-hidden--visually {border: 0;clip: rect(1px 1px 1px 1px);clip: rect(1px, 1px, 1px, 1px);height: 1px;margin: -1px;overflow: hidden;padding: 0;position: absolute;width: 1px;}#sk-container-id-2 div.sk-estimator {font-family: monospace;background-color: #f0f8ff;border: 1px dotted black;border-radius: 0.25em;box-sizing: border-box;margin-bottom: 0.5em;}#sk-container-id-2 div.sk-estimator:hover {background-color: #d4ebff;}#sk-container-id-2 div.sk-parallel-item::after {content: \"\";width: 100%;border-bottom: 1px solid gray;flex-grow: 1;}#sk-container-id-2 div.sk-label:hover label.sk-toggleable__label {background-color: #d4ebff;}#sk-container-id-2 div.sk-serial::before {content: \"\";position: absolute;border-left: 1px solid gray;box-sizing: border-box;top: 0;bottom: 0;left: 50%;z-index: 0;}#sk-container-id-2 div.sk-serial {display: flex;flex-direction: column;align-items: center;background-color: white;padding-right: 0.2em;padding-left: 0.2em;position: relative;}#sk-container-id-2 div.sk-item {position: relative;z-index: 1;}#sk-container-id-2 div.sk-parallel {display: flex;align-items: stretch;justify-content: center;background-color: white;position: relative;}#sk-container-id-2 div.sk-item::before, #sk-container-id-2 div.sk-parallel-item::before {content: \"\";position: absolute;border-left: 1px solid gray;box-sizing: border-box;top: 0;bottom: 0;left: 50%;z-index: -1;}#sk-container-id-2 div.sk-parallel-item {display: flex;flex-direction: column;z-index: 1;position: relative;background-color: white;}#sk-container-id-2 div.sk-parallel-item:first-child::after {align-self: flex-end;width: 50%;}#sk-container-id-2 div.sk-parallel-item:last-child::after {align-self: flex-start;width: 50%;}#sk-container-id-2 div.sk-parallel-item:only-child::after {width: 0;}#sk-container-id-2 div.sk-dashed-wrapped {border: 1px dashed gray;margin: 0 0.4em 0.5em 0.4em;box-sizing: border-box;padding-bottom: 0.4em;background-color: white;}#sk-container-id-2 div.sk-label label {font-family: monospace;font-weight: bold;display: inline-block;line-height: 1.2em;}#sk-container-id-2 div.sk-label-container {text-align: center;}#sk-container-id-2 div.sk-container {/* jupyter's `normalize.less` sets `[hidden] { display: none; }` but bootstrap.min.css set `[hidden] { display: none !important; }` so we also need the `!important` here to be able to override the default hidden behavior on the sphinx rendered scikit-learn.org. See: https://github.com/scikit-learn/scikit-learn/issues/21755 */display: inline-block !important;position: relative;}#sk-container-id-2 div.sk-text-repr-fallback {display: none;}</style><div id=\"sk-container-id-2\" class=\"sk-top-container\"><div class=\"sk-text-repr-fallback\"><pre>KMeans(n_clusters=2)</pre><b>In a Jupyter environment, please rerun this cell to show the HTML representation or trust the notebook. <br />On GitHub, the HTML representation is unable to render, please try loading this page with nbviewer.org.</b></div><div class=\"sk-container\" hidden><div class=\"sk-item\"><div class=\"sk-estimator sk-toggleable\"><input class=\"sk-toggleable__control sk-hidden--visually\" id=\"sk-estimator-id-2\" type=\"checkbox\" checked><label for=\"sk-estimator-id-2\" class=\"sk-toggleable__label sk-toggleable__label-arrow\">KMeans</label><div class=\"sk-toggleable__content\"><pre>KMeans(n_clusters=2)</pre></div></div></div></div></div>"
      ],
      "text/plain": [
       "KMeans(n_clusters=2)"
      ]
     },
     "execution_count": 65,
     "metadata": {},
     "output_type": "execute_result"
    }
   ],
   "source": [
    "# Modelo Kmeans com amostra3 com K = 2\n",
    "k2 = KMeans(n_clusters = 2)\n",
    "k2.fit(amostra3)"
   ]
  },
  {
   "cell_type": "code",
   "execution_count": 66,
   "id": "cd0bf05a",
   "metadata": {},
   "outputs": [
    {
     "data": {
      "text/plain": [
       "array([0, 1, 0, ..., 0, 0, 1])"
      ]
     },
     "execution_count": 66,
     "metadata": {},
     "output_type": "execute_result"
    }
   ],
   "source": [
    "k2.labels_"
   ]
  },
  {
   "cell_type": "code",
   "execution_count": 67,
   "id": "466cb97b",
   "metadata": {},
   "outputs": [
    {
     "data": {
      "text/plain": [
       "(1407, 2)"
      ]
     },
     "execution_count": 67,
     "metadata": {},
     "output_type": "execute_result"
    }
   ],
   "source": [
    "amostra3.shape"
   ]
  },
  {
   "cell_type": "code",
   "execution_count": 68,
   "id": "fa1be6e4",
   "metadata": {},
   "outputs": [
    {
     "data": {
      "text/plain": [
       "1407"
      ]
     },
     "execution_count": 68,
     "metadata": {},
     "output_type": "execute_result"
    }
   ],
   "source": [
    "amostra3.shape[0]"
   ]
  },
  {
   "cell_type": "code",
   "execution_count": 69,
   "id": "94ec31ef",
   "metadata": {},
   "outputs": [
    {
     "data": {
      "image/png": "[encoded data removed]",
      "text/plain": [
       "<Figure size 720x576 with 1 Axes>"
      ]
     },
     "metadata": {
      "needs_background": "light"
     },
     "output_type": "display_data"
    }
   ],
   "source": [
    "# Gerando \"labels\" para os resultados dos clusters\n",
    "for i in range(0, amostra3.shape[0]):\n",
    "    \n",
    "    if k2.labels_[i] == 0:\n",
    "        c0 = pl.scatter(amostra3[i,0],amostra3[i,1], c ='r', marker = '+')\n",
    "        \n",
    "    elif k2.labels_[i] == 1:\n",
    "        c1 = pl.scatter(amostra3[i,0],amostra3[i,1], c ='g', marker = 'o')\n",
    "\n",
    "        pl.legend([c0, c1],['Cluster 0', 'Cluster 1'])\n",
    "       \n",
    "pl.show()"
   ]
  },
  {
   "cell_type": "markdown",
   "id": "988cdb82",
   "metadata": {},
   "source": [
    "# Algoritmo KMeanShift"
   ]
  },
  {
   "cell_type": "code",
   "execution_count": 70,
   "id": "8a22dc89",
   "metadata": {},
   "outputs": [
    {
     "data": {
      "text/html": [
       "<style>#sk-container-id-3 {color: black;background-color: white;}#sk-container-id-3 pre{padding: 0;}#sk-container-id-3 div.sk-toggleable {background-color: white;}#sk-container-id-3 label.sk-toggleable__label {cursor: pointer;display: block;width: 100%;margin-bottom: 0;padding: 0.3em;box-sizing: border-box;text-align: center;}#sk-container-id-3 label.sk-toggleable__label-arrow:before {content: \"▸\";float: left;margin-right: 0.25em;color: #696969;}#sk-container-id-3 label.sk-toggleable__label-arrow:hover:before {color: black;}#sk-container-id-3 div.sk-estimator:hover label.sk-toggleable__label-arrow:before {color: black;}#sk-container-id-3 div.sk-toggleable__content {max-height: 0;max-width: 0;overflow: hidden;text-align: left;background-color: #f0f8ff;}#sk-container-id-3 div.sk-toggleable__content pre {margin: 0.2em;color: black;border-radius: 0.25em;background-color: #f0f8ff;}#sk-container-id-3 input.sk-toggleable__control:checked~div.sk-toggleable__content {max-height: 200px;max-width: 100%;overflow: auto;}#sk-container-id-3 input.sk-toggleable__control:checked~label.sk-toggleable__label-arrow:before {content: \"▾\";}#sk-container-id-3 div.sk-estimator input.sk-toggleable__control:checked~label.sk-toggleable__label {background-color: #d4ebff;}#sk-container-id-3 div.sk-label input.sk-toggleable__control:checked~label.sk-toggleable__label {background-color: #d4ebff;}#sk-container-id-3 input.sk-hidden--visually {border: 0;clip: rect(1px 1px 1px 1px);clip: rect(1px, 1px, 1px, 1px);height: 1px;margin: -1px;overflow: hidden;padding: 0;position: absolute;width: 1px;}#sk-container-id-3 div.sk-estimator {font-family: monospace;background-color: #f0f8ff;border: 1px dotted black;border-radius: 0.25em;box-sizing: border-box;margin-bottom: 0.5em;}#sk-container-id-3 div.sk-estimator:hover {background-color: #d4ebff;}#sk-container-id-3 div.sk-parallel-item::after {content: \"\";width: 100%;border-bottom: 1px solid gray;flex-grow: 1;}#sk-container-id-3 div.sk-label:hover label.sk-toggleable__label {background-color: #d4ebff;}#sk-container-id-3 div.sk-serial::before {content: \"\";position: absolute;border-left: 1px solid gray;box-sizing: border-box;top: 0;bottom: 0;left: 50%;z-index: 0;}#sk-container-id-3 div.sk-serial {display: flex;flex-direction: column;align-items: center;background-color: white;padding-right: 0.2em;padding-left: 0.2em;position: relative;}#sk-container-id-3 div.sk-item {position: relative;z-index: 1;}#sk-container-id-3 div.sk-parallel {display: flex;align-items: stretch;justify-content: center;background-color: white;position: relative;}#sk-container-id-3 div.sk-item::before, #sk-container-id-3 div.sk-parallel-item::before {content: \"\";position: absolute;border-left: 1px solid gray;box-sizing: border-box;top: 0;bottom: 0;left: 50%;z-index: -1;}#sk-container-id-3 div.sk-parallel-item {display: flex;flex-direction: column;z-index: 1;position: relative;background-color: white;}#sk-container-id-3 div.sk-parallel-item:first-child::after {align-self: flex-end;width: 50%;}#sk-container-id-3 div.sk-parallel-item:last-child::after {align-self: flex-start;width: 50%;}#sk-container-id-3 div.sk-parallel-item:only-child::after {width: 0;}#sk-container-id-3 div.sk-dashed-wrapped {border: 1px dashed gray;margin: 0 0.4em 0.5em 0.4em;box-sizing: border-box;padding-bottom: 0.4em;background-color: white;}#sk-container-id-3 div.sk-label label {font-family: monospace;font-weight: bold;display: inline-block;line-height: 1.2em;}#sk-container-id-3 div.sk-label-container {text-align: center;}#sk-container-id-3 div.sk-container {/* jupyter's `normalize.less` sets `[hidden] { display: none; }` but bootstrap.min.css set `[hidden] { display: none !important; }` so we also need the `!important` here to be able to override the default hidden behavior on the sphinx rendered scikit-learn.org. See: https://github.com/scikit-learn/scikit-learn/issues/21755 */display: inline-block !important;position: relative;}#sk-container-id-3 div.sk-text-repr-fallback {display: none;}</style><div id=\"sk-container-id-3\" class=\"sk-top-container\"><div class=\"sk-text-repr-fallback\"><pre>MeanShift(bandwidth=0.6535935644674339, bin_seeding=True)</pre><b>In a Jupyter environment, please rerun this cell to show the HTML representation or trust the notebook. <br />On GitHub, the HTML representation is unable to render, please try loading this page with nbviewer.org.</b></div><div class=\"sk-container\" hidden><div class=\"sk-item\"><div class=\"sk-estimator sk-toggleable\"><input class=\"sk-toggleable__control sk-hidden--visually\" id=\"sk-estimator-id-3\" type=\"checkbox\" checked><label for=\"sk-estimator-id-3\" class=\"sk-toggleable__label sk-toggleable__label-arrow\">MeanShift</label><div class=\"sk-toggleable__content\"><pre>MeanShift(bandwidth=0.6535935644674339, bin_seeding=True)</pre></div></div></div></div></div>"
      ],
      "text/plain": [
       "MeanShift(bandwidth=0.6535935644674339, bin_seeding=True)"
      ]
     },
     "execution_count": 70,
     "metadata": {},
     "output_type": "execute_result"
    }
   ],
   "source": [
    "# Cria o modelo\n",
    "\n",
    "\n",
    "bandwidth = estimate_bandwidth(amostra3, quantile = .1, n_samples = 500)\n",
    "\n",
    "# Cria o modelo\n",
    "modelo_v1 = MeanShift(bandwidth = bandwidth, bin_seeding = True)\n",
    "\n",
    "# Treina o modelo\n",
    "modelo_v1.fit(amostra3)"
   ]
  },
  {
   "cell_type": "code",
   "execution_count": 71,
   "id": "40b67966",
   "metadata": {},
   "outputs": [],
   "source": [
    "\n",
    "labels = modelo_v1.labels_\n",
    "cluster_centers = modelo_v1.cluster_centers_\n",
    "n_clusters_ = labels.max()+1"
   ]
  },
  {
   "cell_type": "code",
   "execution_count": 75,
   "id": "105415e4",
   "metadata": {},
   "outputs": [
    {
     "data": {
      "image/png": "[encoded data removed]",
      "text/plain": [
       "<Figure size 720x576 with 1 Axes>"
      ]
     },
     "metadata": {
      "needs_background": "light"
     },
     "output_type": "display_data"
    }
   ],
   "source": [
    "# Plot \n",
    "plt.figure(1)\n",
    "plt.clf()\n",
    "colors = cycle('bgrcmykbgrcmykbgrcmykbgrcmyk')\n",
    "\n",
    "for k, col in zip(range(n_clusters_), colors):\n",
    "    my_members = labels == k\n",
    "    cluster_center = cluster_centers[k]\n",
    "    plt.plot(amostra3[my_members, 0], amostra3[my_members, 1], col + '.')\n",
    "    plt.plot(cluster_center[0], cluster_center[1], 'o', markerfacecolor = col, markeredgecolor = 'k', markersize = 14)\n",
    "\n",
    "plt.show()"
   ]
  },
  {
   "cell_type": "code",
   "execution_count": 76,
   "id": "acd6fe18",
   "metadata": {},
   "outputs": [
    {
     "data": {
      "text/html": [
       "<style>#sk-container-id-5 {color: black;background-color: white;}#sk-container-id-5 pre{padding: 0;}#sk-container-id-5 div.sk-toggleable {background-color: white;}#sk-container-id-5 label.sk-toggleable__label {cursor: pointer;display: block;width: 100%;margin-bottom: 0;padding: 0.3em;box-sizing: border-box;text-align: center;}#sk-container-id-5 label.sk-toggleable__label-arrow:before {content: \"▸\";float: left;margin-right: 0.25em;color: #696969;}#sk-container-id-5 label.sk-toggleable__label-arrow:hover:before {color: black;}#sk-container-id-5 div.sk-estimator:hover label.sk-toggleable__label-arrow:before {color: black;}#sk-container-id-5 div.sk-toggleable__content {max-height: 0;max-width: 0;overflow: hidden;text-align: left;background-color: #f0f8ff;}#sk-container-id-5 div.sk-toggleable__content pre {margin: 0.2em;color: black;border-radius: 0.25em;background-color: #f0f8ff;}#sk-container-id-5 input.sk-toggleable__control:checked~div.sk-toggleable__content {max-height: 200px;max-width: 100%;overflow: auto;}#sk-container-id-5 input.sk-toggleable__control:checked~label.sk-toggleable__label-arrow:before {content: \"▾\";}#sk-container-id-5 div.sk-estimator input.sk-toggleable__control:checked~label.sk-toggleable__label {background-color: #d4ebff;}#sk-container-id-5 div.sk-label input.sk-toggleable__control:checked~label.sk-toggleable__label {background-color: #d4ebff;}#sk-container-id-5 input.sk-hidden--visually {border: 0;clip: rect(1px 1px 1px 1px);clip: rect(1px, 1px, 1px, 1px);height: 1px;margin: -1px;overflow: hidden;padding: 0;position: absolute;width: 1px;}#sk-container-id-5 div.sk-estimator {font-family: monospace;background-color: #f0f8ff;border: 1px dotted black;border-radius: 0.25em;box-sizing: border-box;margin-bottom: 0.5em;}#sk-container-id-5 div.sk-estimator:hover {background-color: #d4ebff;}#sk-container-id-5 div.sk-parallel-item::after {content: \"\";width: 100%;border-bottom: 1px solid gray;flex-grow: 1;}#sk-container-id-5 div.sk-label:hover label.sk-toggleable__label {background-color: #d4ebff;}#sk-container-id-5 div.sk-serial::before {content: \"\";position: absolute;border-left: 1px solid gray;box-sizing: border-box;top: 0;bottom: 0;left: 50%;z-index: 0;}#sk-container-id-5 div.sk-serial {display: flex;flex-direction: column;align-items: center;background-color: white;padding-right: 0.2em;padding-left: 0.2em;position: relative;}#sk-container-id-5 div.sk-item {position: relative;z-index: 1;}#sk-container-id-5 div.sk-parallel {display: flex;align-items: stretch;justify-content: center;background-color: white;position: relative;}#sk-container-id-5 div.sk-item::before, #sk-container-id-5 div.sk-parallel-item::before {content: \"\";position: absolute;border-left: 1px solid gray;box-sizing: border-box;top: 0;bottom: 0;left: 50%;z-index: -1;}#sk-container-id-5 div.sk-parallel-item {display: flex;flex-direction: column;z-index: 1;position: relative;background-color: white;}#sk-container-id-5 div.sk-parallel-item:first-child::after {align-self: flex-end;width: 50%;}#sk-container-id-5 div.sk-parallel-item:last-child::after {align-self: flex-start;width: 50%;}#sk-container-id-5 div.sk-parallel-item:only-child::after {width: 0;}#sk-container-id-5 div.sk-dashed-wrapped {border: 1px dashed gray;margin: 0 0.4em 0.5em 0.4em;box-sizing: border-box;padding-bottom: 0.4em;background-color: white;}#sk-container-id-5 div.sk-label label {font-family: monospace;font-weight: bold;display: inline-block;line-height: 1.2em;}#sk-container-id-5 div.sk-label-container {text-align: center;}#sk-container-id-5 div.sk-container {/* jupyter's `normalize.less` sets `[hidden] { display: none; }` but bootstrap.min.css set `[hidden] { display: none !important; }` so we also need the `!important` here to be able to override the default hidden behavior on the sphinx rendered scikit-learn.org. See: https://github.com/scikit-learn/scikit-learn/issues/21755 */display: inline-block !important;position: relative;}#sk-container-id-5 div.sk-text-repr-fallback {display: none;}</style><div id=\"sk-container-id-5\" class=\"sk-top-container\"><div class=\"sk-text-repr-fallback\"><pre>KMeans(n_clusters=15)</pre><b>In a Jupyter environment, please rerun this cell to show the HTML representation or trust the notebook. <br />On GitHub, the HTML representation is unable to render, please try loading this page with nbviewer.org.</b></div><div class=\"sk-container\" hidden><div class=\"sk-item\"><div class=\"sk-estimator sk-toggleable\"><input class=\"sk-toggleable__control sk-hidden--visually\" id=\"sk-estimator-id-5\" type=\"checkbox\" checked><label for=\"sk-estimator-id-5\" class=\"sk-toggleable__label sk-toggleable__label-arrow\">KMeans</label><div class=\"sk-toggleable__content\"><pre>KMeans(n_clusters=15)</pre></div></div></div></div></div>"
      ],
      "text/plain": [
       "KMeans(n_clusters=15)"
      ]
     },
     "execution_count": 76,
     "metadata": {},
     "output_type": "execute_result"
    }
   ],
   "source": [
    "# Modelo Kmeans com amostra3 com K = 15\n",
    "k15 = KMeans(n_clusters = 15)\n",
    "k15.fit(amostra3)"
   ]
  },
  {
   "cell_type": "code",
   "execution_count": 77,
   "id": "193ba5f7",
   "metadata": {},
   "outputs": [
    {
     "data": {
      "text/plain": [
       "array([ 4,  1, 11, ..., 11, 11,  6])"
      ]
     },
     "execution_count": 77,
     "metadata": {},
     "output_type": "execute_result"
    }
   ],
   "source": [
    "k15.labels_"
   ]
  },
  {
   "cell_type": "code",
   "execution_count": 78,
   "id": "80c5f2d5",
   "metadata": {},
   "outputs": [],
   "source": [
    "x_min, x_max = amostra3[:, 0].min() - 5, amostra3[:, 0].max() - 1\n",
    "y_min, y_max = amostra3[:, 1].min() + 1, amostra3[:, 1].max() + 5\n",
    "xx, yy = np.meshgrid(np.arange(x_min, x_max, .02), np.arange(y_min, y_max, .02))\n",
    "Z = k15.predict(np.c_[xx.ravel(), yy.ravel()])\n",
    "Z = Z.reshape(xx.shape)"
   ]
  },
  {
   "cell_type": "code",
   "execution_count": 79,
   "id": "5cacafb2",
   "metadata": {},
   "outputs": [
    {
     "data": {
      "image/png": "[encoded data removed]",
      "text/plain": [
       "<Figure size 720x576 with 1 Axes>"
      ]
     },
     "metadata": {},
     "output_type": "display_data"
    }
   ],
   "source": [
    "# Plot dos centróides\n",
    "plt.plot(amostra3[:, 0], amostra3[:, 1], 'k.', markersize = 3)\n",
    "centroids = k15.cluster_centers_\n",
    "inert = k15.inertia_\n",
    "plt.scatter(centroids[:, 0], centroids[:, 1], marker = 'x', s = 150, linewidths = 3, color = 'r', zorder = 8)\n",
    "plt.xlim(x_min, x_max)\n",
    "plt.ylim(y_min, y_max)\n",
    "plt.xticks(())\n",
    "plt.yticks(())\n",
    "plt.show()\n",
    "\n"
   ]
  },
  {
   "cell_type": "code",
   "execution_count": 80,
   "id": "cf6dcce1",
   "metadata": {},
   "outputs": [
    {
     "data": {
      "text/plain": [
       "0.4271994287429872"
      ]
     },
     "execution_count": 80,
     "metadata": {},
     "output_type": "execute_result"
    }
   ],
   "source": [
    "# Silhouette Score\n",
    "labels = k15.labels_\n",
    "silhouette_score(amostra3, labels, metric = 'euclidean')"
   ]
  },
  {
   "cell_type": "code",
   "execution_count": null,
   "id": "2ab90a92",
   "metadata": {},
   "outputs": [],
   "source": []
  }
 ],
 "metadata": {
  "kernelspec": {
   "display_name": "Python 3",
   "language": "python",
   "name": "python3"
  },
  "language_info": {
   "codemirror_mode": {
    "name": "ipython",
    "version": 3
   },
   "file_extension": ".py",
   "mimetype": "text/x-python",
   "name": "python",
   "nbconvert_exporter": "python",
   "pygments_lexer": "ipython3",
   "version": "3.8.8"
  }
 },
 "nbformat": 4,
 "nbformat_minor": 5
}
