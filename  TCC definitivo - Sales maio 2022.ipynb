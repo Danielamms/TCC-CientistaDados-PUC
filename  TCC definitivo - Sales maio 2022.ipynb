{
 "cells": [
  {
   "cell_type": "code",
   "execution_count": null,
   "id": "22b3fe7a",
   "metadata": {},
   "outputs": [],
   "source": [
    "   "
   ]
  },
  {
   "cell_type": "markdown",
   "id": "bddce677",
   "metadata": {},
   "source": [
    "Para esse projeto de aprendizagem maquina nao supervisionado eu vou usar metodo de clusterizacao usando o k-means para aleatoriamente ele escolher os centroides e fazer as medicoes ate os pontos...dessa forma vamos refinando e com isso escolhendo o numero de clusters ... o numero de cluster pode ser definido pela analise do negocio...aqui vou definar os cluster apartir dos enderecos dos consumidores ...assim eu consigo trabalhar futuras analises de marketing\n",
    "\n",
    "\n",
    "metodo de elbow...para definir o valor de k....\n",
    "testando varios valores de k da muito trabalho\n",
    "assim elbow eh um metodo que detecta se estamos trabalhando com o k ideal...\n",
    "espera-se que a homogeniedade aumente com mais cluster e a heterogeneidade diminua/....o valor de k eh conhecido como ponto de elbow\n",
    "\n",
    "\n",
    "\n",
    "Context\n",
    "Sales analytics is the practice of generating insights from sales data, trends, and metrics to set targets and forecast future sales performance. Sales analysis is mining your data to evaluate the performance of your sales team against its goals. It provides insights about the top performing and underperforming products/services, the problems in selling and market opportunities, sales forecasting, and sales activities that generate revenue.\n",
    "\n",
    "Content\n",
    "Order ID - An Order ID is the number system that Amazon uses exclusively to keep track of orders. Each order receives its own Order ID that will not be duplicated. This number can be useful to the seller when attempting to find out certain details about an order such as shipment date or status.\n",
    "Product - The product that have been sold.\n",
    "Quantity Ordered - Ordered Quantity is the total item quantity ordered in the initial order (without any changes).\n",
    "Price Each - The price of each products.\n",
    "Order Date - This is the date the customer is requesting the order be shipped.\n",
    "Purchase Address - The purchase order is prepared by the buyer, often through a purchasing department. The purchase order, or PO, usually includes a PO number, which is useful in matching shipments with purchases; a shipping date; billing address; shipping address; and the request items, quantities and price.\n",
    "Target\n",
    "A target market analysis is an assessment of how your product or service fits into a specific market and where it will gain the most.\n",
    "\n",
    "Task:\n",
    "Q: What was the best Year for sales? How much was earned that Year?\n",
    "\n",
    "Q: What was the best month for sales? How much was earned that month?\n",
    "\n",
    "Q: What City had the highest number of sales?\n",
    "\n",
    "Q: What time should we display adverstisement to maximize likelihood of customer's buying product?\n",
    "\n",
    "Q: What products are most often sold together?\n",
    "\n",
    "Q: What product sold the most? Why do you think it sold the most?\n",
    "\n",
    "How Much Probability?\n",
    "How much probability for next people will ordered USB-C Charging Cable?\n",
    "\n",
    "How much probability for next people will ordered iPhone?\n",
    "\n",
    "How much probability for next people will ordered Google Phone?\n",
    "\n",
    "How much probability other peoples will ordered Wired Headphones?\n",
    "\n",
    "apos fazer analise dos dados e responder as perguntas do marketing escolher o produto mais vendido em uma determinada cidade e fazer a predicao de quantas unidades sera vendida no ano seguinte....exemplo: quantos iphones vao ser vendidos na cidade X que foi a campea de vendas em 2019 (cluster)\n",
    "\n"
   ]
  },
  {
   "cell_type": "code",
   "execution_count": 1,
   "id": "a76652a9",
   "metadata": {},
   "outputs": [
    {
     "name": "stdout",
     "output_type": "stream",
     "text": [
      "Requirement already satisfied: plotly in c:\\users\\daniela\\anaconda3\\lib\\site-packages (5.4.0)\n",
      "Requirement already satisfied: tenacity>=6.2.0 in c:\\users\\daniela\\anaconda3\\lib\\site-packages (from plotly) (8.0.1)\n",
      "Requirement already satisfied: six in c:\\users\\daniela\\anaconda3\\lib\\site-packages (from plotly) (1.15.0)\n",
      "Note: you may need to restart the kernel to use updated packages.\n"
     ]
    }
   ],
   "source": [
    "pip install plotly"
   ]
  },
  {
   "cell_type": "code",
   "execution_count": null,
   "id": "251d1de3",
   "metadata": {},
   "outputs": [],
   "source": [
    "\n",
    "\n",
    "import numpy as np\n",
    "import pandas as pd\n",
    "import seaborn as sns\n",
    "import matplotlib.pyplot as plt\n",
    "import matplotlib as mpl\n",
    "from sklearn.datasets import load_boston\n",
    "from sklearn import linear_model\n",
    "from sklearn.metrics import r2_score\n",
    "from sklearn.pipeline import make_pipeline\n",
    "from sklearn.preprocessing import StandardScaler\n",
    "import statsmodels.api as sm\n",
    "import statsmodels.formula.api as smf\n",
    "from matplotlib.colors import ListedColormap\n",
    "import warnings\n",
    "warnings.filterwarnings(\"ignore\")\n",
    "%matplotlib inline\n",
    "\n",
    "from sklearn.preprocessing import LabelEncoder\n",
    "from sklearn.preprocessing import StandardScaler\n",
    "from sklearn.decomposition import PCA\n",
    "from yellowbrick.cluster import KElbowVisualizer\n",
    "from sklearn.cluster import KMeans\n",
    "import matplotlib.pyplot as plt, numpy as np\n",
    "from mpl_toolkits.mplot3d import Axes3D\n",
    "from sklearn.cluster import AgglomerativeClustering\n",
    "from matplotlib.colors import ListedColormap\n",
    "from sklearn import metrics\n",
    "import warnings\n",
    "import sys\n",
    "if not sys.warnoptions:\n",
    "    warnings.simplefilter(\"ignore\")\n",
    "np.random.seed(42)\n",
    "\n",
    "import plotly.express as px\n",
    "import plotly.graph_objects as go\n",
    "import plotly.figure_factory as ff\n",
    "from plotly.colors import n_colors\n",
    "from plotly.subplots import make_subplots\n",
    "\n",
    "\n",
    "\n"
   ]
  },
  {
   "cell_type": "markdown",
   "id": "73d07259",
   "metadata": {},
   "source": [
    "# Conhecer os dados e fazer manipulacoes necessarias"
   ]
  },
  {
   "cell_type": "code",
   "execution_count": null,
   "id": "1b9d0818",
   "metadata": {},
   "outputs": [],
   "source": [
    "VendasJan = pd.read_csv(\"Sales_January_2019.csv\")\n",
    "VendasJan.head()"
   ]
  },
  {
   "cell_type": "code",
   "execution_count": null,
   "id": "39c89fb2",
   "metadata": {},
   "outputs": [],
   "source": []
  },
  {
   "cell_type": "code",
   "execution_count": 51,
   "id": "8b42704a",
   "metadata": {},
   "outputs": [
    {
     "name": "stdout",
     "output_type": "stream",
     "text": [
      "Nº de registros: 9723\n"
     ]
    }
   ],
   "source": [
    "print(\"Nº de registros:\", len(VendasJan))"
   ]
  },
  {
   "cell_type": "markdown",
   "id": "37b4873c",
   "metadata": {},
   "source": [
    "Importar todos os files e concatenar em somente um! "
   ]
  },
  {
   "cell_type": "code",
   "execution_count": 52,
   "id": "dc1d6300",
   "metadata": {},
   "outputs": [],
   "source": [
    "VendasFev = pd.read_csv(\"Sales_February_2019.csv\")\n",
    "VendasMarc = pd.read_csv(\"Sales_March_2019.csv.zip\")\n",
    "VendasAbri = pd.read_csv(\"Sales_April_2019.csv.zip\")\n",
    "VendasMai = pd.read_csv(\"Sales_May_2019.csv.zip\")\n",
    "VendasJun = pd.read_csv(\"Sales_June_2019.csv.zip\")\n",
    "VendasJul = pd.read_csv(\"Sales_July_2019.csv.zip\")\n",
    "VendasAgo = pd.read_csv(\"Sales_August_2019.csv\")\n",
    "VendasSet = pd.read_csv(\"Sales_September_2019.csv\")\n",
    "VendasOut = pd.read_csv(\"Sales_October_2019.csv.zip\")\n",
    "VendasNov = pd.read_csv(\"Sales_November_2019.csv.zip\")\n",
    "VendasDez = pd.read_csv(\"Sales_December_2019.csv.zip\")"
   ]
  },
  {
   "cell_type": "code",
   "execution_count": null,
   "id": "3f300fd0",
   "metadata": {},
   "outputs": [],
   "source": []
  },
  {
   "cell_type": "markdown",
   "id": "ef78270c",
   "metadata": {},
   "source": [
    "Concatenar todos os dataframes em um unico - VendasTotal"
   ]
  },
  {
   "cell_type": "code",
   "execution_count": 53,
   "id": "c7092f94",
   "metadata": {},
   "outputs": [],
   "source": [
    "frames = [VendasJan, VendasFev, VendasMarc,VendasAbri,VendasMai,VendasJun, VendasJul, VendasAgo, VendasSet,VendasOut,VendasNov,VendasDez ]\n",
    "VendasConsolidado = pd.concat(frames)"
   ]
  },
  {
   "cell_type": "code",
   "execution_count": 54,
   "id": "07a9f13d",
   "metadata": {},
   "outputs": [
    {
     "name": "stdout",
     "output_type": "stream",
     "text": [
      "Nº de registros: 186850\n"
     ]
    }
   ],
   "source": [
    "print(\"Nº de registros:\", len(VendasConsolidado))"
   ]
  },
  {
   "cell_type": "code",
   "execution_count": 55,
   "id": "24af2ddf",
   "metadata": {},
   "outputs": [
    {
     "data": {
      "text/html": [
       "<div>\n",
       "<style scoped>\n",
       "    .dataframe tbody tr th:only-of-type {\n",
       "        vertical-align: middle;\n",
       "    }\n",
       "\n",
       "    .dataframe tbody tr th {\n",
       "        vertical-align: top;\n",
       "    }\n",
       "\n",
       "    .dataframe thead th {\n",
       "        text-align: right;\n",
       "    }\n",
       "</style>\n",
       "<table border=\"1\" class=\"dataframe\">\n",
       "  <thead>\n",
       "    <tr style=\"text-align: right;\">\n",
       "      <th></th>\n",
       "      <th>Order ID</th>\n",
       "      <th>Product</th>\n",
       "      <th>Quantity Ordered</th>\n",
       "      <th>Price Each</th>\n",
       "      <th>Order Date</th>\n",
       "      <th>Purchase Address</th>\n",
       "    </tr>\n",
       "  </thead>\n",
       "  <tbody>\n",
       "    <tr>\n",
       "      <th>0</th>\n",
       "      <td>141234</td>\n",
       "      <td>iPhone</td>\n",
       "      <td>1</td>\n",
       "      <td>700</td>\n",
       "      <td>01/22/19 21:25</td>\n",
       "      <td>944 Walnut St, Boston, MA 02215</td>\n",
       "    </tr>\n",
       "    <tr>\n",
       "      <th>1</th>\n",
       "      <td>141235</td>\n",
       "      <td>Lightning Charging Cable</td>\n",
       "      <td>1</td>\n",
       "      <td>14.95</td>\n",
       "      <td>01/28/19 14:15</td>\n",
       "      <td>185 Maple St, Portland, OR 97035</td>\n",
       "    </tr>\n",
       "    <tr>\n",
       "      <th>2</th>\n",
       "      <td>141236</td>\n",
       "      <td>Wired Headphones</td>\n",
       "      <td>2</td>\n",
       "      <td>11.99</td>\n",
       "      <td>01/17/19 13:33</td>\n",
       "      <td>538 Adams St, San Francisco, CA 94016</td>\n",
       "    </tr>\n",
       "    <tr>\n",
       "      <th>3</th>\n",
       "      <td>141237</td>\n",
       "      <td>27in FHD Monitor</td>\n",
       "      <td>1</td>\n",
       "      <td>149.99</td>\n",
       "      <td>01/05/19 20:33</td>\n",
       "      <td>738 10th St, Los Angeles, CA 90001</td>\n",
       "    </tr>\n",
       "    <tr>\n",
       "      <th>4</th>\n",
       "      <td>141238</td>\n",
       "      <td>Wired Headphones</td>\n",
       "      <td>1</td>\n",
       "      <td>11.99</td>\n",
       "      <td>01/25/19 11:59</td>\n",
       "      <td>387 10th St, Austin, TX 73301</td>\n",
       "    </tr>\n",
       "  </tbody>\n",
       "</table>\n",
       "</div>"
      ],
      "text/plain": [
       "  Order ID                   Product Quantity Ordered Price Each  \\\n",
       "0   141234                    iPhone                1        700   \n",
       "1   141235  Lightning Charging Cable                1      14.95   \n",
       "2   141236          Wired Headphones                2      11.99   \n",
       "3   141237          27in FHD Monitor                1     149.99   \n",
       "4   141238          Wired Headphones                1      11.99   \n",
       "\n",
       "       Order Date                       Purchase Address  \n",
       "0  01/22/19 21:25        944 Walnut St, Boston, MA 02215  \n",
       "1  01/28/19 14:15       185 Maple St, Portland, OR 97035  \n",
       "2  01/17/19 13:33  538 Adams St, San Francisco, CA 94016  \n",
       "3  01/05/19 20:33     738 10th St, Los Angeles, CA 90001  \n",
       "4  01/25/19 11:59          387 10th St, Austin, TX 73301  "
      ]
     },
     "execution_count": 55,
     "metadata": {},
     "output_type": "execute_result"
    }
   ],
   "source": [
    "VendasConsolidado.head()"
   ]
  },
  {
   "cell_type": "markdown",
   "id": "b49dd43f",
   "metadata": {},
   "source": [
    "Checar os tipos dos dados no DFrame"
   ]
  },
  {
   "cell_type": "code",
   "execution_count": 56,
   "id": "ef443bae",
   "metadata": {},
   "outputs": [
    {
     "name": "stdout",
     "output_type": "stream",
     "text": [
      "<class 'pandas.core.frame.DataFrame'>\n",
      "Int64Index: 186850 entries, 0 to 25116\n",
      "Data columns (total 6 columns):\n",
      " #   Column            Non-Null Count   Dtype \n",
      "---  ------            --------------   ----- \n",
      " 0   Order ID          186305 non-null  object\n",
      " 1   Product           186305 non-null  object\n",
      " 2   Quantity Ordered  186305 non-null  object\n",
      " 3   Price Each        186305 non-null  object\n",
      " 4   Order Date        186305 non-null  object\n",
      " 5   Purchase Address  186305 non-null  object\n",
      "dtypes: object(6)\n",
      "memory usage: 10.0+ MB\n"
     ]
    }
   ],
   "source": [
    "VendasConsolidado.info()"
   ]
  },
  {
   "cell_type": "code",
   "execution_count": 57,
   "id": "02b6e148",
   "metadata": {},
   "outputs": [
    {
     "data": {
      "text/plain": [
       "Order ID            545\n",
       "Product             545\n",
       "Quantity Ordered    545\n",
       "Price Each          545\n",
       "Order Date          545\n",
       "Purchase Address    545\n",
       "dtype: int64"
      ]
     },
     "execution_count": 57,
     "metadata": {},
     "output_type": "execute_result"
    }
   ],
   "source": [
    "ValoresMissing = VendasConsolidado.isnull().sum()\n",
    "ValoresMissing"
   ]
  },
  {
   "cell_type": "code",
   "execution_count": 58,
   "id": "b8227b32",
   "metadata": {},
   "outputs": [
    {
     "data": {
      "text/plain": [
       "Order ID            0\n",
       "Product             0\n",
       "Quantity Ordered    0\n",
       "Price Each          0\n",
       "Order Date          0\n",
       "Purchase Address    0\n",
       "dtype: int64"
      ]
     },
     "execution_count": 58,
     "metadata": {},
     "output_type": "execute_result"
    }
   ],
   "source": [
    "#Assumindo que 545 valores nulos ou NaN nao sao representativos no dataFrame (Vamos excluir)\n",
    "VendasConsolidado = VendasConsolidado.dropna(how='all')\n",
    "\n",
    "VendasConsolidado.isnull().sum()"
   ]
  },
  {
   "cell_type": "code",
   "execution_count": 59,
   "id": "794d7bab",
   "metadata": {},
   "outputs": [
    {
     "name": "stdout",
     "output_type": "stream",
     "text": [
      "<class 'pandas.core.frame.DataFrame'>\n",
      "Int64Index: 186305 entries, 0 to 25116\n",
      "Data columns (total 6 columns):\n",
      " #   Column            Non-Null Count   Dtype \n",
      "---  ------            --------------   ----- \n",
      " 0   Order ID          186305 non-null  object\n",
      " 1   Product           186305 non-null  object\n",
      " 2   Quantity Ordered  186305 non-null  object\n",
      " 3   Price Each        186305 non-null  object\n",
      " 4   Order Date        186305 non-null  object\n",
      " 5   Purchase Address  186305 non-null  object\n",
      "dtypes: object(6)\n",
      "memory usage: 9.9+ MB\n"
     ]
    }
   ],
   "source": [
    "VendasConsolidado.info()"
   ]
  },
  {
   "cell_type": "code",
   "execution_count": 60,
   "id": "bdf8d0c8",
   "metadata": {},
   "outputs": [
    {
     "name": "stdout",
     "output_type": "stream",
     "text": [
      "Order ID : 178438 valores unicos\n",
      "Product : 20 valores unicos\n",
      "Quantity Ordered : 10 valores unicos\n",
      "Price Each : 24 valores unicos\n",
      "Order Date : 142396 valores unicos\n",
      "Purchase Address : 140788 valores unicos\n"
     ]
    }
   ],
   "source": [
    "ValoresUnicos = VendasConsolidado.select_dtypes(['category', 'object']).columns\n",
    "for uniq in ValoresUnicos:\n",
    "    print('{} : {} valores unicos'.format(uniq, VendasConsolidado[uniq].nunique()))"
   ]
  },
  {
   "cell_type": "code",
   "execution_count": 61,
   "id": "3e589118",
   "metadata": {},
   "outputs": [
    {
     "data": {
      "text/html": [
       "<div>\n",
       "<style scoped>\n",
       "    .dataframe tbody tr th:only-of-type {\n",
       "        vertical-align: middle;\n",
       "    }\n",
       "\n",
       "    .dataframe tbody tr th {\n",
       "        vertical-align: top;\n",
       "    }\n",
       "\n",
       "    .dataframe thead th {\n",
       "        text-align: right;\n",
       "    }\n",
       "</style>\n",
       "<table border=\"1\" class=\"dataframe\">\n",
       "  <thead>\n",
       "    <tr style=\"text-align: right;\">\n",
       "      <th></th>\n",
       "      <th>Order ID</th>\n",
       "      <th>Product</th>\n",
       "      <th>Quantity Ordered</th>\n",
       "      <th>Price Each</th>\n",
       "      <th>Order Date</th>\n",
       "      <th>Purchase Address</th>\n",
       "    </tr>\n",
       "  </thead>\n",
       "  <tbody>\n",
       "  </tbody>\n",
       "</table>\n",
       "</div>"
      ],
      "text/plain": [
       "Empty DataFrame\n",
       "Columns: [Order ID, Product, Quantity Ordered, Price Each, Order Date, Purchase Address]\n",
       "Index: []"
      ]
     },
     "execution_count": 61,
     "metadata": {},
     "output_type": "execute_result"
    }
   ],
   "source": [
    "VendasConsolidado[VendasConsolidado.isna().any(axis=1)]"
   ]
  },
  {
   "cell_type": "code",
   "execution_count": 62,
   "id": "1880609b",
   "metadata": {},
   "outputs": [
    {
     "data": {
      "text/html": [
       "<div>\n",
       "<style scoped>\n",
       "    .dataframe tbody tr th:only-of-type {\n",
       "        vertical-align: middle;\n",
       "    }\n",
       "\n",
       "    .dataframe tbody tr th {\n",
       "        vertical-align: top;\n",
       "    }\n",
       "\n",
       "    .dataframe thead th {\n",
       "        text-align: right;\n",
       "    }\n",
       "</style>\n",
       "<table border=\"1\" class=\"dataframe\">\n",
       "  <thead>\n",
       "    <tr style=\"text-align: right;\">\n",
       "      <th></th>\n",
       "      <th>Order ID</th>\n",
       "      <th>Product</th>\n",
       "      <th>Quantity Ordered</th>\n",
       "      <th>Price Each</th>\n",
       "      <th>Order Date</th>\n",
       "      <th>Purchase Address</th>\n",
       "    </tr>\n",
       "  </thead>\n",
       "  <tbody>\n",
       "    <tr>\n",
       "      <th>0</th>\n",
       "      <td>141234</td>\n",
       "      <td>iPhone</td>\n",
       "      <td>1</td>\n",
       "      <td>700</td>\n",
       "      <td>01/22/19 21:25</td>\n",
       "      <td>944 Walnut St, Boston, MA 02215</td>\n",
       "    </tr>\n",
       "    <tr>\n",
       "      <th>1</th>\n",
       "      <td>141235</td>\n",
       "      <td>Lightning Charging Cable</td>\n",
       "      <td>1</td>\n",
       "      <td>14.95</td>\n",
       "      <td>01/28/19 14:15</td>\n",
       "      <td>185 Maple St, Portland, OR 97035</td>\n",
       "    </tr>\n",
       "    <tr>\n",
       "      <th>2</th>\n",
       "      <td>141236</td>\n",
       "      <td>Wired Headphones</td>\n",
       "      <td>2</td>\n",
       "      <td>11.99</td>\n",
       "      <td>01/17/19 13:33</td>\n",
       "      <td>538 Adams St, San Francisco, CA 94016</td>\n",
       "    </tr>\n",
       "    <tr>\n",
       "      <th>3</th>\n",
       "      <td>141237</td>\n",
       "      <td>27in FHD Monitor</td>\n",
       "      <td>1</td>\n",
       "      <td>149.99</td>\n",
       "      <td>01/05/19 20:33</td>\n",
       "      <td>738 10th St, Los Angeles, CA 90001</td>\n",
       "    </tr>\n",
       "    <tr>\n",
       "      <th>4</th>\n",
       "      <td>141238</td>\n",
       "      <td>Wired Headphones</td>\n",
       "      <td>1</td>\n",
       "      <td>11.99</td>\n",
       "      <td>01/25/19 11:59</td>\n",
       "      <td>387 10th St, Austin, TX 73301</td>\n",
       "    </tr>\n",
       "  </tbody>\n",
       "</table>\n",
       "</div>"
      ],
      "text/plain": [
       "  Order ID                   Product Quantity Ordered Price Each  \\\n",
       "0   141234                    iPhone                1        700   \n",
       "1   141235  Lightning Charging Cable                1      14.95   \n",
       "2   141236          Wired Headphones                2      11.99   \n",
       "3   141237          27in FHD Monitor                1     149.99   \n",
       "4   141238          Wired Headphones                1      11.99   \n",
       "\n",
       "       Order Date                       Purchase Address  \n",
       "0  01/22/19 21:25        944 Walnut St, Boston, MA 02215  \n",
       "1  01/28/19 14:15       185 Maple St, Portland, OR 97035  \n",
       "2  01/17/19 13:33  538 Adams St, San Francisco, CA 94016  \n",
       "3  01/05/19 20:33     738 10th St, Los Angeles, CA 90001  \n",
       "4  01/25/19 11:59          387 10th St, Austin, TX 73301  "
      ]
     },
     "execution_count": 62,
     "metadata": {},
     "output_type": "execute_result"
    }
   ],
   "source": [
    "VendasConsolidado = VendasConsolidado[VendasConsolidado['Order Date'].str[0:2] != 'Or']\n",
    "VendasConsolidado.head()"
   ]
  },
  {
   "cell_type": "code",
   "execution_count": 63,
   "id": "ab5f88d2",
   "metadata": {},
   "outputs": [
    {
     "data": {
      "text/html": [
       "<div>\n",
       "<style scoped>\n",
       "    .dataframe tbody tr th:only-of-type {\n",
       "        vertical-align: middle;\n",
       "    }\n",
       "\n",
       "    .dataframe tbody tr th {\n",
       "        vertical-align: top;\n",
       "    }\n",
       "\n",
       "    .dataframe thead th {\n",
       "        text-align: right;\n",
       "    }\n",
       "</style>\n",
       "<table border=\"1\" class=\"dataframe\">\n",
       "  <thead>\n",
       "    <tr style=\"text-align: right;\">\n",
       "      <th></th>\n",
       "      <th>Order ID</th>\n",
       "      <th>Product</th>\n",
       "      <th>Quantity Ordered</th>\n",
       "      <th>Price Each</th>\n",
       "      <th>Order Date</th>\n",
       "      <th>Purchase Address</th>\n",
       "    </tr>\n",
       "  </thead>\n",
       "  <tbody>\n",
       "    <tr>\n",
       "      <th>0</th>\n",
       "      <td>141234</td>\n",
       "      <td>iPhone</td>\n",
       "      <td>1</td>\n",
       "      <td>700</td>\n",
       "      <td>2019-01-22 21:25:00</td>\n",
       "      <td>944 Walnut St, Boston, MA 02215</td>\n",
       "    </tr>\n",
       "    <tr>\n",
       "      <th>1</th>\n",
       "      <td>141235</td>\n",
       "      <td>Lightning Charging Cable</td>\n",
       "      <td>1</td>\n",
       "      <td>14.95</td>\n",
       "      <td>2019-01-28 14:15:00</td>\n",
       "      <td>185 Maple St, Portland, OR 97035</td>\n",
       "    </tr>\n",
       "    <tr>\n",
       "      <th>2</th>\n",
       "      <td>141236</td>\n",
       "      <td>Wired Headphones</td>\n",
       "      <td>2</td>\n",
       "      <td>11.99</td>\n",
       "      <td>2019-01-17 13:33:00</td>\n",
       "      <td>538 Adams St, San Francisco, CA 94016</td>\n",
       "    </tr>\n",
       "    <tr>\n",
       "      <th>3</th>\n",
       "      <td>141237</td>\n",
       "      <td>27in FHD Monitor</td>\n",
       "      <td>1</td>\n",
       "      <td>149.99</td>\n",
       "      <td>2019-01-05 20:33:00</td>\n",
       "      <td>738 10th St, Los Angeles, CA 90001</td>\n",
       "    </tr>\n",
       "    <tr>\n",
       "      <th>4</th>\n",
       "      <td>141238</td>\n",
       "      <td>Wired Headphones</td>\n",
       "      <td>1</td>\n",
       "      <td>11.99</td>\n",
       "      <td>2019-01-25 11:59:00</td>\n",
       "      <td>387 10th St, Austin, TX 73301</td>\n",
       "    </tr>\n",
       "  </tbody>\n",
       "</table>\n",
       "</div>"
      ],
      "text/plain": [
       "  Order ID                   Product Quantity Ordered Price Each  \\\n",
       "0   141234                    iPhone                1        700   \n",
       "1   141235  Lightning Charging Cable                1      14.95   \n",
       "2   141236          Wired Headphones                2      11.99   \n",
       "3   141237          27in FHD Monitor                1     149.99   \n",
       "4   141238          Wired Headphones                1      11.99   \n",
       "\n",
       "           Order Date                       Purchase Address  \n",
       "0 2019-01-22 21:25:00        944 Walnut St, Boston, MA 02215  \n",
       "1 2019-01-28 14:15:00       185 Maple St, Portland, OR 97035  \n",
       "2 2019-01-17 13:33:00  538 Adams St, San Francisco, CA 94016  \n",
       "3 2019-01-05 20:33:00     738 10th St, Los Angeles, CA 90001  \n",
       "4 2019-01-25 11:59:00          387 10th St, Austin, TX 73301  "
      ]
     },
     "execution_count": 63,
     "metadata": {},
     "output_type": "execute_result"
    }
   ],
   "source": [
    "# converter Order Date de object para datetime\n",
    "VendasConsolidado['Order Date'] = pd.to_datetime(VendasConsolidado['Order Date'])\n",
    "VendasConsolidado.head()"
   ]
  },
  {
   "cell_type": "markdown",
   "id": "6c0314bc",
   "metadata": {},
   "source": [
    "Abrir a data para dia, mes e ano para fazer analise de produtos vendidos mes a mes;"
   ]
  },
  {
   "cell_type": "code",
   "execution_count": null,
   "id": "5a5dbc88",
   "metadata": {},
   "outputs": [],
   "source": [
    "VendasConsolidado2['Ano'] =  VendasConsolidado['Order Date'].dt.year\n",
    "\n",
    "VendasConsolidado2['Mes'] = VendasConsolidado['Order Date'].dt.month\n",
    "\n"
   ]
  },
  {
   "cell_type": "markdown",
   "id": "c9ed2dd4",
   "metadata": {},
   "source": [
    "Transformar os tipos das colunas Quantity Ordered para Inteiro e Price Each para float"
   ]
  },
  {
   "cell_type": "code",
   "execution_count": 65,
   "id": "38e648d6",
   "metadata": {},
   "outputs": [
    {
     "name": "stdout",
     "output_type": "stream",
     "text": [
      "<class 'pandas.core.frame.DataFrame'>\n",
      "Int64Index: 185950 entries, 0 to 25116\n",
      "Data columns (total 8 columns):\n",
      " #   Column            Non-Null Count   Dtype         \n",
      "---  ------            --------------   -----         \n",
      " 0   Order ID          185950 non-null  object        \n",
      " 1   Product           185950 non-null  object        \n",
      " 2   Quantity Ordered  185950 non-null  int32         \n",
      " 3   Price Each        185950 non-null  float64       \n",
      " 4   Order Date        185950 non-null  datetime64[ns]\n",
      " 5   Purchase Address  185950 non-null  object        \n",
      " 6   Ano               185950 non-null  int64         \n",
      " 7   Mes               185950 non-null  int64         \n",
      "dtypes: datetime64[ns](1), float64(1), int32(1), int64(2), object(3)\n",
      "memory usage: 12.1+ MB\n"
     ]
    }
   ],
   "source": [
    "VendasConsolidado['Quantity Ordered'] = VendasConsolidado['Quantity Ordered'].astype(str).astype(int)\n",
    "VendasConsolidado['Price Each'] = VendasConsolidado['Price Each'].astype(float, errors = 'raise')\n",
    "VendasConsolidado.info()\n",
    "\n"
   ]
  },
  {
   "cell_type": "code",
   "execution_count": 67,
   "id": "50d66633",
   "metadata": {
    "scrolled": true
   },
   "outputs": [
    {
     "data": {
      "text/html": [
       "<div>\n",
       "<style scoped>\n",
       "    .dataframe tbody tr th:only-of-type {\n",
       "        vertical-align: middle;\n",
       "    }\n",
       "\n",
       "    .dataframe tbody tr th {\n",
       "        vertical-align: top;\n",
       "    }\n",
       "\n",
       "    .dataframe thead th {\n",
       "        text-align: right;\n",
       "    }\n",
       "</style>\n",
       "<table border=\"1\" class=\"dataframe\">\n",
       "  <thead>\n",
       "    <tr style=\"text-align: right;\">\n",
       "      <th></th>\n",
       "      <th>Order ID</th>\n",
       "      <th>Product</th>\n",
       "      <th>Quantity Ordered</th>\n",
       "      <th>Price Each</th>\n",
       "      <th>Order Date</th>\n",
       "      <th>Purchase Address</th>\n",
       "      <th>Ano</th>\n",
       "      <th>Mes</th>\n",
       "      <th>Total</th>\n",
       "    </tr>\n",
       "  </thead>\n",
       "  <tbody>\n",
       "    <tr>\n",
       "      <th>0</th>\n",
       "      <td>141234</td>\n",
       "      <td>iPhone</td>\n",
       "      <td>1</td>\n",
       "      <td>700.00</td>\n",
       "      <td>2019-01-22 21:25:00</td>\n",
       "      <td>944 Walnut St, Boston, MA 02215</td>\n",
       "      <td>2019</td>\n",
       "      <td>1</td>\n",
       "      <td>700.00</td>\n",
       "    </tr>\n",
       "    <tr>\n",
       "      <th>1</th>\n",
       "      <td>141235</td>\n",
       "      <td>Lightning Charging Cable</td>\n",
       "      <td>1</td>\n",
       "      <td>14.95</td>\n",
       "      <td>2019-01-28 14:15:00</td>\n",
       "      <td>185 Maple St, Portland, OR 97035</td>\n",
       "      <td>2019</td>\n",
       "      <td>1</td>\n",
       "      <td>14.95</td>\n",
       "    </tr>\n",
       "    <tr>\n",
       "      <th>2</th>\n",
       "      <td>141236</td>\n",
       "      <td>Wired Headphones</td>\n",
       "      <td>2</td>\n",
       "      <td>11.99</td>\n",
       "      <td>2019-01-17 13:33:00</td>\n",
       "      <td>538 Adams St, San Francisco, CA 94016</td>\n",
       "      <td>2019</td>\n",
       "      <td>1</td>\n",
       "      <td>23.98</td>\n",
       "    </tr>\n",
       "    <tr>\n",
       "      <th>3</th>\n",
       "      <td>141237</td>\n",
       "      <td>27in FHD Monitor</td>\n",
       "      <td>1</td>\n",
       "      <td>149.99</td>\n",
       "      <td>2019-01-05 20:33:00</td>\n",
       "      <td>738 10th St, Los Angeles, CA 90001</td>\n",
       "      <td>2019</td>\n",
       "      <td>1</td>\n",
       "      <td>149.99</td>\n",
       "    </tr>\n",
       "    <tr>\n",
       "      <th>4</th>\n",
       "      <td>141238</td>\n",
       "      <td>Wired Headphones</td>\n",
       "      <td>1</td>\n",
       "      <td>11.99</td>\n",
       "      <td>2019-01-25 11:59:00</td>\n",
       "      <td>387 10th St, Austin, TX 73301</td>\n",
       "      <td>2019</td>\n",
       "      <td>1</td>\n",
       "      <td>11.99</td>\n",
       "    </tr>\n",
       "  </tbody>\n",
       "</table>\n",
       "</div>"
      ],
      "text/plain": [
       "  Order ID                   Product  Quantity Ordered  Price Each  \\\n",
       "0   141234                    iPhone                 1      700.00   \n",
       "1   141235  Lightning Charging Cable                 1       14.95   \n",
       "2   141236          Wired Headphones                 2       11.99   \n",
       "3   141237          27in FHD Monitor                 1      149.99   \n",
       "4   141238          Wired Headphones                 1       11.99   \n",
       "\n",
       "           Order Date                       Purchase Address   Ano  Mes  \\\n",
       "0 2019-01-22 21:25:00        944 Walnut St, Boston, MA 02215  2019    1   \n",
       "1 2019-01-28 14:15:00       185 Maple St, Portland, OR 97035  2019    1   \n",
       "2 2019-01-17 13:33:00  538 Adams St, San Francisco, CA 94016  2019    1   \n",
       "3 2019-01-05 20:33:00     738 10th St, Los Angeles, CA 90001  2019    1   \n",
       "4 2019-01-25 11:59:00          387 10th St, Austin, TX 73301  2019    1   \n",
       "\n",
       "    Total  \n",
       "0  700.00  \n",
       "1   14.95  \n",
       "2   23.98  \n",
       "3  149.99  \n",
       "4   11.99  "
      ]
     },
     "execution_count": 67,
     "metadata": {},
     "output_type": "execute_result"
    }
   ],
   "source": [
    "# Criar uma nova coluna com o total (dinheiro) \n",
    "\n",
    "VendasConsolidado['Total'] = VendasConsolidado['Quantity Ordered'] * VendasConsolidado['Price Each']\n",
    "VendasConsolidado['Total'].round(decimals=2)\n",
    "\n",
    "\n",
    "VendasConsolidado.head()\n",
    "\n",
    "\n"
   ]
  },
  {
   "cell_type": "code",
   "execution_count": 68,
   "id": "b3c340ee",
   "metadata": {},
   "outputs": [],
   "source": [
    "#Agora vamos abrir o endereco para analisar futuramente os seus dados relacionados as compras"
   ]
  },
  {
   "cell_type": "code",
   "execution_count": null,
   "id": "f5c5eec8",
   "metadata": {},
   "outputs": [],
   "source": [
    "VendasConsolidado2['Cidade'] = VendasConsolidado['Purchase Address'].apply(lambda x: x.split(',')[1])\n",
    "VendasConsolidado2['Estado'] = VendasConsolidado['Purchase Address'].apply(lambda x: x.split()[-2])\n",
    "VendasConsolidado2['Postal Code'] = VendasConsolidado['Purchase Address'].apply(lambda x: x.split()[-1])\n",
    "\n",
    "VendasConsolidado2.head()"
   ]
  },
  {
   "cell_type": "code",
   "execution_count": 78,
   "id": "b1b1efde",
   "metadata": {},
   "outputs": [
    {
     "name": "stdout",
     "output_type": "stream",
     "text": [
      "Product : 19 valores unicos\n",
      "Purchase Address : 140787 valores unicos\n",
      "Cidade : 9 valores unicos\n",
      "Estado : 8 valores unicos\n",
      "Postal Code : 10 valores unicos\n"
     ]
    }
   ],
   "source": [
    "ValoresUnicos = VendasConsolidado.select_dtypes(['category', 'object']).columns\n",
    "for uniq in ValoresUnicos:\n",
    "    print('{} : {} valores unicos'.format(uniq, VendasConsolidado[uniq].nunique()))"
   ]
  },
  {
   "cell_type": "code",
   "execution_count": 81,
   "id": "9fdc4714",
   "metadata": {},
   "outputs": [],
   "source": [
    "VendasConsolidado = VendasConsolidado.drop(columns=[\"Order Date\"])\n"
   ]
  },
  {
   "cell_type": "code",
   "execution_count": 82,
   "id": "655484b8",
   "metadata": {},
   "outputs": [
    {
     "data": {
      "text/html": [
       "<div>\n",
       "<style scoped>\n",
       "    .dataframe tbody tr th:only-of-type {\n",
       "        vertical-align: middle;\n",
       "    }\n",
       "\n",
       "    .dataframe tbody tr th {\n",
       "        vertical-align: top;\n",
       "    }\n",
       "\n",
       "    .dataframe thead th {\n",
       "        text-align: right;\n",
       "    }\n",
       "</style>\n",
       "<table border=\"1\" class=\"dataframe\">\n",
       "  <thead>\n",
       "    <tr style=\"text-align: right;\">\n",
       "      <th></th>\n",
       "      <th>Product</th>\n",
       "      <th>Quantity Ordered</th>\n",
       "      <th>Price Each</th>\n",
       "      <th>Purchase Address</th>\n",
       "      <th>Ano</th>\n",
       "      <th>Mes</th>\n",
       "      <th>Total</th>\n",
       "      <th>Cidade</th>\n",
       "      <th>Estado</th>\n",
       "      <th>Postal Code</th>\n",
       "    </tr>\n",
       "  </thead>\n",
       "  <tbody>\n",
       "    <tr>\n",
       "      <th>0</th>\n",
       "      <td>iPhone</td>\n",
       "      <td>1</td>\n",
       "      <td>700.00</td>\n",
       "      <td>944 Walnut St, Boston, MA 02215</td>\n",
       "      <td>2019</td>\n",
       "      <td>1</td>\n",
       "      <td>700.00</td>\n",
       "      <td>Boston</td>\n",
       "      <td>MA</td>\n",
       "      <td>02215</td>\n",
       "    </tr>\n",
       "    <tr>\n",
       "      <th>1</th>\n",
       "      <td>Lightning Charging Cable</td>\n",
       "      <td>1</td>\n",
       "      <td>14.95</td>\n",
       "      <td>185 Maple St, Portland, OR 97035</td>\n",
       "      <td>2019</td>\n",
       "      <td>1</td>\n",
       "      <td>14.95</td>\n",
       "      <td>Portland</td>\n",
       "      <td>OR</td>\n",
       "      <td>97035</td>\n",
       "    </tr>\n",
       "    <tr>\n",
       "      <th>2</th>\n",
       "      <td>Wired Headphones</td>\n",
       "      <td>2</td>\n",
       "      <td>11.99</td>\n",
       "      <td>538 Adams St, San Francisco, CA 94016</td>\n",
       "      <td>2019</td>\n",
       "      <td>1</td>\n",
       "      <td>23.98</td>\n",
       "      <td>San Francisco</td>\n",
       "      <td>CA</td>\n",
       "      <td>94016</td>\n",
       "    </tr>\n",
       "    <tr>\n",
       "      <th>3</th>\n",
       "      <td>27in FHD Monitor</td>\n",
       "      <td>1</td>\n",
       "      <td>149.99</td>\n",
       "      <td>738 10th St, Los Angeles, CA 90001</td>\n",
       "      <td>2019</td>\n",
       "      <td>1</td>\n",
       "      <td>149.99</td>\n",
       "      <td>Los Angeles</td>\n",
       "      <td>CA</td>\n",
       "      <td>90001</td>\n",
       "    </tr>\n",
       "    <tr>\n",
       "      <th>4</th>\n",
       "      <td>Wired Headphones</td>\n",
       "      <td>1</td>\n",
       "      <td>11.99</td>\n",
       "      <td>387 10th St, Austin, TX 73301</td>\n",
       "      <td>2019</td>\n",
       "      <td>1</td>\n",
       "      <td>11.99</td>\n",
       "      <td>Austin</td>\n",
       "      <td>TX</td>\n",
       "      <td>73301</td>\n",
       "    </tr>\n",
       "  </tbody>\n",
       "</table>\n",
       "</div>"
      ],
      "text/plain": [
       "                    Product  Quantity Ordered  Price Each  \\\n",
       "0                    iPhone                 1      700.00   \n",
       "1  Lightning Charging Cable                 1       14.95   \n",
       "2          Wired Headphones                 2       11.99   \n",
       "3          27in FHD Monitor                 1      149.99   \n",
       "4          Wired Headphones                 1       11.99   \n",
       "\n",
       "                        Purchase Address   Ano  Mes   Total          Cidade  \\\n",
       "0        944 Walnut St, Boston, MA 02215  2019    1  700.00          Boston   \n",
       "1       185 Maple St, Portland, OR 97035  2019    1   14.95        Portland   \n",
       "2  538 Adams St, San Francisco, CA 94016  2019    1   23.98   San Francisco   \n",
       "3     738 10th St, Los Angeles, CA 90001  2019    1  149.99     Los Angeles   \n",
       "4          387 10th St, Austin, TX 73301  2019    1   11.99          Austin   \n",
       "\n",
       "  Estado Postal Code  \n",
       "0     MA       02215  \n",
       "1     OR       97035  \n",
       "2     CA       94016  \n",
       "3     CA       90001  \n",
       "4     TX       73301  "
      ]
     },
     "execution_count": 82,
     "metadata": {},
     "output_type": "execute_result"
    }
   ],
   "source": [
    "VendasConsolidado.head()"
   ]
  },
  {
   "cell_type": "code",
   "execution_count": 83,
   "id": "bdd75b9b",
   "metadata": {},
   "outputs": [
    {
     "data": {
      "text/html": [
       "<div>\n",
       "<style scoped>\n",
       "    .dataframe tbody tr th:only-of-type {\n",
       "        vertical-align: middle;\n",
       "    }\n",
       "\n",
       "    .dataframe tbody tr th {\n",
       "        vertical-align: top;\n",
       "    }\n",
       "\n",
       "    .dataframe thead th {\n",
       "        text-align: right;\n",
       "    }\n",
       "</style>\n",
       "<table border=\"1\" class=\"dataframe\">\n",
       "  <thead>\n",
       "    <tr style=\"text-align: right;\">\n",
       "      <th></th>\n",
       "      <th>Quantity Ordered</th>\n",
       "      <th>Price Each</th>\n",
       "      <th>Ano</th>\n",
       "      <th>Mes</th>\n",
       "      <th>Total</th>\n",
       "    </tr>\n",
       "  </thead>\n",
       "  <tbody>\n",
       "    <tr>\n",
       "      <th>count</th>\n",
       "      <td>185950.000000</td>\n",
       "      <td>185950.000000</td>\n",
       "      <td>185950.000000</td>\n",
       "      <td>185950.000000</td>\n",
       "      <td>185950.000000</td>\n",
       "    </tr>\n",
       "    <tr>\n",
       "      <th>mean</th>\n",
       "      <td>1.124383</td>\n",
       "      <td>184.399735</td>\n",
       "      <td>2019.000183</td>\n",
       "      <td>7.059140</td>\n",
       "      <td>185.490917</td>\n",
       "    </tr>\n",
       "    <tr>\n",
       "      <th>std</th>\n",
       "      <td>0.442793</td>\n",
       "      <td>332.731330</td>\n",
       "      <td>0.013521</td>\n",
       "      <td>3.502996</td>\n",
       "      <td>332.919771</td>\n",
       "    </tr>\n",
       "    <tr>\n",
       "      <th>min</th>\n",
       "      <td>1.000000</td>\n",
       "      <td>2.990000</td>\n",
       "      <td>2019.000000</td>\n",
       "      <td>1.000000</td>\n",
       "      <td>2.990000</td>\n",
       "    </tr>\n",
       "    <tr>\n",
       "      <th>25%</th>\n",
       "      <td>1.000000</td>\n",
       "      <td>11.950000</td>\n",
       "      <td>2019.000000</td>\n",
       "      <td>4.000000</td>\n",
       "      <td>11.950000</td>\n",
       "    </tr>\n",
       "    <tr>\n",
       "      <th>50%</th>\n",
       "      <td>1.000000</td>\n",
       "      <td>14.950000</td>\n",
       "      <td>2019.000000</td>\n",
       "      <td>7.000000</td>\n",
       "      <td>14.950000</td>\n",
       "    </tr>\n",
       "    <tr>\n",
       "      <th>75%</th>\n",
       "      <td>1.000000</td>\n",
       "      <td>150.000000</td>\n",
       "      <td>2019.000000</td>\n",
       "      <td>10.000000</td>\n",
       "      <td>150.000000</td>\n",
       "    </tr>\n",
       "    <tr>\n",
       "      <th>max</th>\n",
       "      <td>9.000000</td>\n",
       "      <td>1700.000000</td>\n",
       "      <td>2020.000000</td>\n",
       "      <td>12.000000</td>\n",
       "      <td>3400.000000</td>\n",
       "    </tr>\n",
       "  </tbody>\n",
       "</table>\n",
       "</div>"
      ],
      "text/plain": [
       "       Quantity Ordered     Price Each            Ano            Mes  \\\n",
       "count     185950.000000  185950.000000  185950.000000  185950.000000   \n",
       "mean           1.124383     184.399735    2019.000183       7.059140   \n",
       "std            0.442793     332.731330       0.013521       3.502996   \n",
       "min            1.000000       2.990000    2019.000000       1.000000   \n",
       "25%            1.000000      11.950000    2019.000000       4.000000   \n",
       "50%            1.000000      14.950000    2019.000000       7.000000   \n",
       "75%            1.000000     150.000000    2019.000000      10.000000   \n",
       "max            9.000000    1700.000000    2020.000000      12.000000   \n",
       "\n",
       "               Total  \n",
       "count  185950.000000  \n",
       "mean      185.490917  \n",
       "std       332.919771  \n",
       "min         2.990000  \n",
       "25%        11.950000  \n",
       "50%        14.950000  \n",
       "75%       150.000000  \n",
       "max      3400.000000  "
      ]
     },
     "execution_count": 83,
     "metadata": {},
     "output_type": "execute_result"
    }
   ],
   "source": [
    "VendasConsolidado.describe()"
   ]
  },
  {
   "cell_type": "code",
   "execution_count": null,
   "id": "0ee99f0e",
   "metadata": {},
   "outputs": [],
   "source": []
  },
  {
   "cell_type": "markdown",
   "id": "0e889b39",
   "metadata": {},
   "source": [
    "# Qual melhor ano em vendas ? Qual total em vendas para o melhor ano?\n"
   ]
  },
  {
   "cell_type": "code",
   "execution_count": 24,
   "id": "9b56d148",
   "metadata": {},
   "outputs": [
    {
     "data": {
      "text/html": [
       "<div>\n",
       "<style scoped>\n",
       "    .dataframe tbody tr th:only-of-type {\n",
       "        vertical-align: middle;\n",
       "    }\n",
       "\n",
       "    .dataframe tbody tr th {\n",
       "        vertical-align: top;\n",
       "    }\n",
       "\n",
       "    .dataframe thead th {\n",
       "        text-align: right;\n",
       "    }\n",
       "</style>\n",
       "<table border=\"1\" class=\"dataframe\">\n",
       "  <thead>\n",
       "    <tr style=\"text-align: right;\">\n",
       "      <th></th>\n",
       "      <th>Total</th>\n",
       "    </tr>\n",
       "    <tr>\n",
       "      <th>Ano</th>\n",
       "      <th></th>\n",
       "    </tr>\n",
       "  </thead>\n",
       "  <tbody>\n",
       "    <tr>\n",
       "      <th>2019</th>\n",
       "      <td>3.448337e+07</td>\n",
       "    </tr>\n",
       "    <tr>\n",
       "      <th>2020</th>\n",
       "      <td>8.670290e+03</td>\n",
       "    </tr>\n",
       "  </tbody>\n",
       "</table>\n",
       "</div>"
      ],
      "text/plain": [
       "             Total\n",
       "Ano               \n",
       "2019  3.448337e+07\n",
       "2020  8.670290e+03"
      ]
     },
     "execution_count": 24,
     "metadata": {},
     "output_type": "execute_result"
    }
   ],
   "source": [
    "QtdVendidaAno = VendasConsolidado[['Ano','Total']]\n",
    "QtdVendidaAno.groupby(['Ano']).sum()\n",
    "\n",
    "\n"
   ]
  },
  {
   "cell_type": "markdown",
   "id": "83561552",
   "metadata": {},
   "source": [
    "# Qual foi o melhor mes em vendas em 2019?analisar para quantidade de produtos vendidos e para melhor total em vendas - avaliacao geral"
   ]
  },
  {
   "cell_type": "code",
   "execution_count": 25,
   "id": "ed544274",
   "metadata": {},
   "outputs": [
    {
     "data": {
      "text/html": [
       "<div>\n",
       "<style scoped>\n",
       "    .dataframe tbody tr th:only-of-type {\n",
       "        vertical-align: middle;\n",
       "    }\n",
       "\n",
       "    .dataframe tbody tr th {\n",
       "        vertical-align: top;\n",
       "    }\n",
       "\n",
       "    .dataframe thead th {\n",
       "        text-align: right;\n",
       "    }\n",
       "</style>\n",
       "<table border=\"1\" class=\"dataframe\">\n",
       "  <thead>\n",
       "    <tr style=\"text-align: right;\">\n",
       "      <th></th>\n",
       "      <th>Order ID</th>\n",
       "      <th>Product</th>\n",
       "      <th>Quantity Ordered</th>\n",
       "      <th>Price Each</th>\n",
       "      <th>Purchase Address</th>\n",
       "      <th>Ano</th>\n",
       "      <th>Mes</th>\n",
       "      <th>Total</th>\n",
       "      <th>Cidade</th>\n",
       "      <th>Estado</th>\n",
       "      <th>Postal Code</th>\n",
       "    </tr>\n",
       "  </thead>\n",
       "  <tbody>\n",
       "    <tr>\n",
       "      <th>0</th>\n",
       "      <td>141234</td>\n",
       "      <td>iPhone</td>\n",
       "      <td>1</td>\n",
       "      <td>700.00</td>\n",
       "      <td>944 Walnut St, Boston, MA 02215</td>\n",
       "      <td>2019</td>\n",
       "      <td>1</td>\n",
       "      <td>700.00</td>\n",
       "      <td>Boston</td>\n",
       "      <td>MA</td>\n",
       "      <td>02215</td>\n",
       "    </tr>\n",
       "    <tr>\n",
       "      <th>1</th>\n",
       "      <td>141235</td>\n",
       "      <td>Lightning Charging Cable</td>\n",
       "      <td>1</td>\n",
       "      <td>14.95</td>\n",
       "      <td>185 Maple St, Portland, OR 97035</td>\n",
       "      <td>2019</td>\n",
       "      <td>1</td>\n",
       "      <td>14.95</td>\n",
       "      <td>Portland</td>\n",
       "      <td>OR</td>\n",
       "      <td>97035</td>\n",
       "    </tr>\n",
       "    <tr>\n",
       "      <th>2</th>\n",
       "      <td>141236</td>\n",
       "      <td>Wired Headphones</td>\n",
       "      <td>2</td>\n",
       "      <td>11.99</td>\n",
       "      <td>538 Adams St, San Francisco, CA 94016</td>\n",
       "      <td>2019</td>\n",
       "      <td>1</td>\n",
       "      <td>23.98</td>\n",
       "      <td>San Francisco</td>\n",
       "      <td>CA</td>\n",
       "      <td>94016</td>\n",
       "    </tr>\n",
       "    <tr>\n",
       "      <th>3</th>\n",
       "      <td>141237</td>\n",
       "      <td>27in FHD Monitor</td>\n",
       "      <td>1</td>\n",
       "      <td>149.99</td>\n",
       "      <td>738 10th St, Los Angeles, CA 90001</td>\n",
       "      <td>2019</td>\n",
       "      <td>1</td>\n",
       "      <td>149.99</td>\n",
       "      <td>Los Angeles</td>\n",
       "      <td>CA</td>\n",
       "      <td>90001</td>\n",
       "    </tr>\n",
       "    <tr>\n",
       "      <th>4</th>\n",
       "      <td>141238</td>\n",
       "      <td>Wired Headphones</td>\n",
       "      <td>1</td>\n",
       "      <td>11.99</td>\n",
       "      <td>387 10th St, Austin, TX 73301</td>\n",
       "      <td>2019</td>\n",
       "      <td>1</td>\n",
       "      <td>11.99</td>\n",
       "      <td>Austin</td>\n",
       "      <td>TX</td>\n",
       "      <td>73301</td>\n",
       "    </tr>\n",
       "  </tbody>\n",
       "</table>\n",
       "</div>"
      ],
      "text/plain": [
       "  Order ID                   Product  Quantity Ordered  Price Each  \\\n",
       "0   141234                    iPhone                 1      700.00   \n",
       "1   141235  Lightning Charging Cable                 1       14.95   \n",
       "2   141236          Wired Headphones                 2       11.99   \n",
       "3   141237          27in FHD Monitor                 1      149.99   \n",
       "4   141238          Wired Headphones                 1       11.99   \n",
       "\n",
       "                        Purchase Address   Ano  Mes   Total          Cidade  \\\n",
       "0        944 Walnut St, Boston, MA 02215  2019    1  700.00          Boston   \n",
       "1       185 Maple St, Portland, OR 97035  2019    1   14.95        Portland   \n",
       "2  538 Adams St, San Francisco, CA 94016  2019    1   23.98   San Francisco   \n",
       "3     738 10th St, Los Angeles, CA 90001  2019    1  149.99     Los Angeles   \n",
       "4          387 10th St, Austin, TX 73301  2019    1   11.99          Austin   \n",
       "\n",
       "  Estado Postal Code  \n",
       "0     MA       02215  \n",
       "1     OR       97035  \n",
       "2     CA       94016  \n",
       "3     CA       90001  \n",
       "4     TX       73301  "
      ]
     },
     "execution_count": 25,
     "metadata": {},
     "output_type": "execute_result"
    }
   ],
   "source": [
    "VendasConsolidado.head()"
   ]
  },
  {
   "cell_type": "code",
   "execution_count": null,
   "id": "e010bde9",
   "metadata": {},
   "outputs": [],
   "source": [
    "\n",
    "\n"
   ]
  },
  {
   "cell_type": "code",
   "execution_count": null,
   "id": "eab17b43",
   "metadata": {},
   "outputs": [],
   "source": []
  },
  {
   "cell_type": "code",
   "execution_count": 26,
   "id": "38ecccd6",
   "metadata": {},
   "outputs": [
    {
     "data": {
      "text/html": [
       "<div>\n",
       "<style scoped>\n",
       "    .dataframe tbody tr th:only-of-type {\n",
       "        vertical-align: middle;\n",
       "    }\n",
       "\n",
       "    .dataframe tbody tr th {\n",
       "        vertical-align: top;\n",
       "    }\n",
       "\n",
       "    .dataframe thead th {\n",
       "        text-align: right;\n",
       "    }\n",
       "</style>\n",
       "<table border=\"1\" class=\"dataframe\">\n",
       "  <thead>\n",
       "    <tr style=\"text-align: right;\">\n",
       "      <th></th>\n",
       "      <th>Mes</th>\n",
       "      <th>Quantity Ordered</th>\n",
       "      <th>Price Each</th>\n",
       "      <th>Ano</th>\n",
       "      <th>Total</th>\n",
       "    </tr>\n",
       "  </thead>\n",
       "  <tbody>\n",
       "    <tr>\n",
       "      <th>0</th>\n",
       "      <td>1</td>\n",
       "      <td>10903</td>\n",
       "      <td>1.811768e+06</td>\n",
       "      <td>19602505</td>\n",
       "      <td>1.822257e+06</td>\n",
       "    </tr>\n",
       "    <tr>\n",
       "      <th>1</th>\n",
       "      <td>2</td>\n",
       "      <td>13449</td>\n",
       "      <td>2.188885e+06</td>\n",
       "      <td>24177525</td>\n",
       "      <td>2.202022e+06</td>\n",
       "    </tr>\n",
       "    <tr>\n",
       "      <th>2</th>\n",
       "      <td>3</td>\n",
       "      <td>17005</td>\n",
       "      <td>2.791208e+06</td>\n",
       "      <td>30593907</td>\n",
       "      <td>2.807100e+06</td>\n",
       "    </tr>\n",
       "    <tr>\n",
       "      <th>3</th>\n",
       "      <td>4</td>\n",
       "      <td>20558</td>\n",
       "      <td>3.367671e+06</td>\n",
       "      <td>36905301</td>\n",
       "      <td>3.390670e+06</td>\n",
       "    </tr>\n",
       "    <tr>\n",
       "      <th>4</th>\n",
       "      <td>5</td>\n",
       "      <td>18667</td>\n",
       "      <td>3.135125e+06</td>\n",
       "      <td>33446754</td>\n",
       "      <td>3.152607e+06</td>\n",
       "    </tr>\n",
       "    <tr>\n",
       "      <th>5</th>\n",
       "      <td>6</td>\n",
       "      <td>15253</td>\n",
       "      <td>2.562026e+06</td>\n",
       "      <td>27365526</td>\n",
       "      <td>2.577802e+06</td>\n",
       "    </tr>\n",
       "    <tr>\n",
       "      <th>6</th>\n",
       "      <td>7</td>\n",
       "      <td>16072</td>\n",
       "      <td>2.632540e+06</td>\n",
       "      <td>28857567</td>\n",
       "      <td>2.647776e+06</td>\n",
       "    </tr>\n",
       "    <tr>\n",
       "      <th>7</th>\n",
       "      <td>8</td>\n",
       "      <td>13448</td>\n",
       "      <td>2.230345e+06</td>\n",
       "      <td>24149259</td>\n",
       "      <td>2.244468e+06</td>\n",
       "    </tr>\n",
       "    <tr>\n",
       "      <th>8</th>\n",
       "      <td>9</td>\n",
       "      <td>13109</td>\n",
       "      <td>2.084992e+06</td>\n",
       "      <td>23462799</td>\n",
       "      <td>2.097560e+06</td>\n",
       "    </tr>\n",
       "    <tr>\n",
       "      <th>9</th>\n",
       "      <td>10</td>\n",
       "      <td>22703</td>\n",
       "      <td>3.715555e+06</td>\n",
       "      <td>40949358</td>\n",
       "      <td>3.736727e+06</td>\n",
       "    </tr>\n",
       "    <tr>\n",
       "      <th>10</th>\n",
       "      <td>11</td>\n",
       "      <td>19798</td>\n",
       "      <td>3.180601e+06</td>\n",
       "      <td>35479887</td>\n",
       "      <td>3.199603e+06</td>\n",
       "    </tr>\n",
       "    <tr>\n",
       "      <th>11</th>\n",
       "      <td>12</td>\n",
       "      <td>28114</td>\n",
       "      <td>4.588415e+06</td>\n",
       "      <td>50442696</td>\n",
       "      <td>4.613443e+06</td>\n",
       "    </tr>\n",
       "  </tbody>\n",
       "</table>\n",
       "</div>"
      ],
      "text/plain": [
       "    Mes  Quantity Ordered    Price Each       Ano         Total\n",
       "0     1             10903  1.811768e+06  19602505  1.822257e+06\n",
       "1     2             13449  2.188885e+06  24177525  2.202022e+06\n",
       "2     3             17005  2.791208e+06  30593907  2.807100e+06\n",
       "3     4             20558  3.367671e+06  36905301  3.390670e+06\n",
       "4     5             18667  3.135125e+06  33446754  3.152607e+06\n",
       "5     6             15253  2.562026e+06  27365526  2.577802e+06\n",
       "6     7             16072  2.632540e+06  28857567  2.647776e+06\n",
       "7     8             13448  2.230345e+06  24149259  2.244468e+06\n",
       "8     9             13109  2.084992e+06  23462799  2.097560e+06\n",
       "9    10             22703  3.715555e+06  40949358  3.736727e+06\n",
       "10   11             19798  3.180601e+06  35479887  3.199603e+06\n",
       "11   12             28114  4.588415e+06  50442696  4.613443e+06"
      ]
     },
     "execution_count": 26,
     "metadata": {},
     "output_type": "execute_result"
    }
   ],
   "source": [
    "MelhorMes = VendasConsolidado.groupby(['Mes']).sum().reset_index()\n",
    "MelhorMes"
   ]
  },
  {
   "cell_type": "code",
   "execution_count": 27,
   "id": "10772315",
   "metadata": {},
   "outputs": [
    {
     "data": {
      "text/plain": [
       "Text(0.5, 1.0, 'Quantidade produtos vendidos no mes')"
      ]
     },
     "execution_count": 27,
     "metadata": {},
     "output_type": "execute_result"
    },
    {
     "data": {
      "image/png": "[encoded data removed]",
      "text/plain": [
       "<Figure size 2880x1800 with 2 Axes>"
      ]
     },
     "metadata": {
      "needs_background": "light"
     },
     "output_type": "display_data"
    }
   ],
   "source": [
    "fig, axes = plt.subplots(2, 1, figsize = (40,25))\n",
    "fig.subplots_adjust(hspace=.3)\n",
    "\n",
    "sns.barplot(x='Mes', y='Total', data=MelhorMes, ax=axes[0])\n",
    "axes[0].set_xlabel(axes[0].get_xlabel(), size=30)\n",
    "axes[0].set_ylabel(axes[0].get_ylabel(), size=30)\n",
    "axes[0].set_xticklabels(axes[0].get_xticklabels(), size=30)\n",
    "\n",
    "axes[0].set_title('Total Vendas no  mes', size= 40)\n",
    "\n",
    "\n",
    "\n",
    "sns.barplot(x='Mes', y='Quantity Ordered', data=MelhorMes, ax=axes[1])\n",
    "axes[1].set_xlabel(axes[1].get_xlabel(), size=30)\n",
    "axes[1].set_ylabel(axes[1].get_ylabel(), size=30)\n",
    "axes[1].set_xticklabels(axes[1].get_xticklabels(), size=30)\n",
    "\n",
    "axes[1].set_title('Quantidade produtos vendidos no mes', size= 40)\n"
   ]
  },
  {
   "cell_type": "markdown",
   "id": "9932d914",
   "metadata": {},
   "source": [
    "# Quais os produtos mais vendidos no ano de 2019 ( em quantidades) - avaliacao geral"
   ]
  },
  {
   "cell_type": "code",
   "execution_count": 28,
   "id": "e649d32c",
   "metadata": {},
   "outputs": [
    {
     "data": {
      "text/plain": [
       "Product\n",
       "AAA Batteries (4-pack)      31017\n",
       "AA Batteries (4-pack)       27635\n",
       "USB-C Charging Cable        23975\n",
       "Lightning Charging Cable    23217\n",
       "Wired Headphones            20557\n",
       "Name: Quantity Ordered, dtype: int32"
      ]
     },
     "execution_count": 28,
     "metadata": {},
     "output_type": "execute_result"
    }
   ],
   "source": [
    "Produtos = VendasConsolidado.groupby('Product')\n",
    "QuantidadesProdutos = Produtos.sum()['Quantity Ordered']\n",
    "QuantidadesProdutos.nlargest(5)\n",
    "\n",
    "\n",
    "\n"
   ]
  },
  {
   "cell_type": "code",
   "execution_count": 29,
   "id": "3fcb1017",
   "metadata": {},
   "outputs": [],
   "source": [
    "#analisar para os produto top5 as quantidades vendidas e o valor de cada item...vendeu muito pq eh mais barato?"
   ]
  },
  {
   "cell_type": "code",
   "execution_count": 30,
   "id": "74b4cee9",
   "metadata": {},
   "outputs": [
    {
     "data": {
      "image/png": "[encoded data removed]",
      "text/plain": [
       "<Figure size 1728x576 with 2 Axes>"
      ]
     },
     "metadata": {
      "needs_background": "light"
     },
     "output_type": "display_data"
    }
   ],
   "source": [
    "\n",
    "Produtos = VendasConsolidado.groupby('Product')\n",
    "QuantidadesProdutos = Produtos.sum()['Quantity Ordered']\n",
    "\n",
    "\n",
    "precos = VendasConsolidado.groupby('Product').mean()['Price Each']\n",
    "\n",
    "produtos = [product for product, df in Produtos]\n",
    "\n",
    "\n",
    "fig, ax1 = plt.subplots(figsize=(24, 8))\n",
    "ax2 = ax1.twinx()\n",
    "\n",
    "ax1.bar(produtos, QuantidadesProdutos)\n",
    "ax1.set_xlabel('Product Name')\n",
    "ax1.set_ylabel('Quantidade vendida', color='b')\n",
    "ax1.set_xticklabels(produtos, rotation='vertical')\n",
    "\n",
    "ax2.plot(produtos, precos, 'r-')\n",
    "ax2.set_ylabel('Preco ($)', color='r');"
   ]
  },
  {
   "cell_type": "code",
   "execution_count": 31,
   "id": "4fc97ce8",
   "metadata": {},
   "outputs": [],
   "source": [
    "#responder se a maioria do montante vendido sao dos produtos mais caros ou dos produtos mais baratos "
   ]
  },
  {
   "cell_type": "markdown",
   "id": "60663264",
   "metadata": {},
   "source": [
    " \n",
    "#quais os top5 mais caros?"
   ]
  },
  {
   "cell_type": "code",
   "execution_count": 32,
   "id": "a56d3017",
   "metadata": {},
   "outputs": [
    {
     "data": {
      "text/plain": [
       "Product\n",
       "Macbook Pro Laptop    1700.00\n",
       "ThinkPad Laptop        999.99\n",
       "iPhone                 700.00\n",
       "Google Phone           600.00\n",
       "LG Dryer               600.00\n",
       "Name: Price Each, dtype: float64"
      ]
     },
     "execution_count": 32,
     "metadata": {},
     "output_type": "execute_result"
    }
   ],
   "source": [
    "\n",
    "Produtos = VendasConsolidado.groupby('Product')\n",
    "PrecosProdutos = Produtos.mean()['Price Each']\n",
    "PrecosProdutos.nlargest(5)\n",
    "\n"
   ]
  },
  {
   "cell_type": "code",
   "execution_count": 33,
   "id": "65f0030e",
   "metadata": {},
   "outputs": [
    {
     "data": {
      "text/html": [
       "<div>\n",
       "<style scoped>\n",
       "    .dataframe tbody tr th:only-of-type {\n",
       "        vertical-align: middle;\n",
       "    }\n",
       "\n",
       "    .dataframe tbody tr th {\n",
       "        vertical-align: top;\n",
       "    }\n",
       "\n",
       "    .dataframe thead th {\n",
       "        text-align: right;\n",
       "    }\n",
       "</style>\n",
       "<table border=\"1\" class=\"dataframe\">\n",
       "  <thead>\n",
       "    <tr style=\"text-align: right;\">\n",
       "      <th></th>\n",
       "      <th>Order ID</th>\n",
       "      <th>Product</th>\n",
       "      <th>Quantity Ordered</th>\n",
       "      <th>Price Each</th>\n",
       "      <th>Purchase Address</th>\n",
       "      <th>Ano</th>\n",
       "      <th>Mes</th>\n",
       "      <th>Total</th>\n",
       "      <th>Cidade</th>\n",
       "      <th>Estado</th>\n",
       "      <th>Postal Code</th>\n",
       "    </tr>\n",
       "  </thead>\n",
       "  <tbody>\n",
       "    <tr>\n",
       "      <th>0</th>\n",
       "      <td>141234</td>\n",
       "      <td>iPhone</td>\n",
       "      <td>1</td>\n",
       "      <td>700.00</td>\n",
       "      <td>944 Walnut St, Boston, MA 02215</td>\n",
       "      <td>2019</td>\n",
       "      <td>1</td>\n",
       "      <td>700.00</td>\n",
       "      <td>Boston</td>\n",
       "      <td>MA</td>\n",
       "      <td>02215</td>\n",
       "    </tr>\n",
       "    <tr>\n",
       "      <th>1</th>\n",
       "      <td>141235</td>\n",
       "      <td>Lightning Charging Cable</td>\n",
       "      <td>1</td>\n",
       "      <td>14.95</td>\n",
       "      <td>185 Maple St, Portland, OR 97035</td>\n",
       "      <td>2019</td>\n",
       "      <td>1</td>\n",
       "      <td>14.95</td>\n",
       "      <td>Portland</td>\n",
       "      <td>OR</td>\n",
       "      <td>97035</td>\n",
       "    </tr>\n",
       "    <tr>\n",
       "      <th>2</th>\n",
       "      <td>141236</td>\n",
       "      <td>Wired Headphones</td>\n",
       "      <td>2</td>\n",
       "      <td>11.99</td>\n",
       "      <td>538 Adams St, San Francisco, CA 94016</td>\n",
       "      <td>2019</td>\n",
       "      <td>1</td>\n",
       "      <td>23.98</td>\n",
       "      <td>San Francisco</td>\n",
       "      <td>CA</td>\n",
       "      <td>94016</td>\n",
       "    </tr>\n",
       "    <tr>\n",
       "      <th>3</th>\n",
       "      <td>141237</td>\n",
       "      <td>27in FHD Monitor</td>\n",
       "      <td>1</td>\n",
       "      <td>149.99</td>\n",
       "      <td>738 10th St, Los Angeles, CA 90001</td>\n",
       "      <td>2019</td>\n",
       "      <td>1</td>\n",
       "      <td>149.99</td>\n",
       "      <td>Los Angeles</td>\n",
       "      <td>CA</td>\n",
       "      <td>90001</td>\n",
       "    </tr>\n",
       "    <tr>\n",
       "      <th>4</th>\n",
       "      <td>141238</td>\n",
       "      <td>Wired Headphones</td>\n",
       "      <td>1</td>\n",
       "      <td>11.99</td>\n",
       "      <td>387 10th St, Austin, TX 73301</td>\n",
       "      <td>2019</td>\n",
       "      <td>1</td>\n",
       "      <td>11.99</td>\n",
       "      <td>Austin</td>\n",
       "      <td>TX</td>\n",
       "      <td>73301</td>\n",
       "    </tr>\n",
       "  </tbody>\n",
       "</table>\n",
       "</div>"
      ],
      "text/plain": [
       "  Order ID                   Product  Quantity Ordered  Price Each  \\\n",
       "0   141234                    iPhone                 1      700.00   \n",
       "1   141235  Lightning Charging Cable                 1       14.95   \n",
       "2   141236          Wired Headphones                 2       11.99   \n",
       "3   141237          27in FHD Monitor                 1      149.99   \n",
       "4   141238          Wired Headphones                 1       11.99   \n",
       "\n",
       "                        Purchase Address   Ano  Mes   Total          Cidade  \\\n",
       "0        944 Walnut St, Boston, MA 02215  2019    1  700.00          Boston   \n",
       "1       185 Maple St, Portland, OR 97035  2019    1   14.95        Portland   \n",
       "2  538 Adams St, San Francisco, CA 94016  2019    1   23.98   San Francisco   \n",
       "3     738 10th St, Los Angeles, CA 90001  2019    1  149.99     Los Angeles   \n",
       "4          387 10th St, Austin, TX 73301  2019    1   11.99          Austin   \n",
       "\n",
       "  Estado Postal Code  \n",
       "0     MA       02215  \n",
       "1     OR       97035  \n",
       "2     CA       94016  \n",
       "3     CA       90001  \n",
       "4     TX       73301  "
      ]
     },
     "execution_count": 33,
     "metadata": {},
     "output_type": "execute_result"
    }
   ],
   "source": [
    "VendasConsolidado.head()\n",
    "\n"
   ]
  },
  {
   "cell_type": "code",
   "execution_count": null,
   "id": "a4f9364f",
   "metadata": {},
   "outputs": [],
   "source": [
    "\n"
   ]
  },
  {
   "cell_type": "code",
   "execution_count": null,
   "id": "32040c24",
   "metadata": {},
   "outputs": [],
   "source": []
  },
  {
   "cell_type": "markdown",
   "id": "45c722ff",
   "metadata": {},
   "source": [
    "\n"
   ]
  },
  {
   "cell_type": "markdown",
   "id": "1d0741d2",
   "metadata": {},
   "source": [
    "# Cidade que teve maior valor em vendas "
   ]
  },
  {
   "cell_type": "code",
   "execution_count": null,
   "id": "13cee819",
   "metadata": {},
   "outputs": [],
   "source": []
  },
  {
   "cell_type": "code",
   "execution_count": 34,
   "id": "66e87028",
   "metadata": {},
   "outputs": [
    {
     "data": {
      "text/html": [
       "<div>\n",
       "<style scoped>\n",
       "    .dataframe tbody tr th:only-of-type {\n",
       "        vertical-align: middle;\n",
       "    }\n",
       "\n",
       "    .dataframe tbody tr th {\n",
       "        vertical-align: top;\n",
       "    }\n",
       "\n",
       "    .dataframe thead th {\n",
       "        text-align: right;\n",
       "    }\n",
       "</style>\n",
       "<table border=\"1\" class=\"dataframe\">\n",
       "  <thead>\n",
       "    <tr style=\"text-align: right;\">\n",
       "      <th></th>\n",
       "      <th>Cidade</th>\n",
       "      <th>Quantity Ordered</th>\n",
       "      <th>Price Each</th>\n",
       "      <th>Ano</th>\n",
       "      <th>Mes</th>\n",
       "      <th>Total</th>\n",
       "    </tr>\n",
       "  </thead>\n",
       "  <tbody>\n",
       "    <tr>\n",
       "      <th>0</th>\n",
       "      <td>Atlanta</td>\n",
       "      <td>16602</td>\n",
       "      <td>2.779908e+06</td>\n",
       "      <td>30044739</td>\n",
       "      <td>104794</td>\n",
       "      <td>2.795499e+06</td>\n",
       "    </tr>\n",
       "    <tr>\n",
       "      <th>1</th>\n",
       "      <td>Austin</td>\n",
       "      <td>11153</td>\n",
       "      <td>1.809874e+06</td>\n",
       "      <td>19998197</td>\n",
       "      <td>69829</td>\n",
       "      <td>1.819582e+06</td>\n",
       "    </tr>\n",
       "    <tr>\n",
       "      <th>2</th>\n",
       "      <td>Boston</td>\n",
       "      <td>22528</td>\n",
       "      <td>3.637410e+06</td>\n",
       "      <td>40246750</td>\n",
       "      <td>141112</td>\n",
       "      <td>3.661642e+06</td>\n",
       "    </tr>\n",
       "    <tr>\n",
       "      <th>3</th>\n",
       "      <td>Dallas</td>\n",
       "      <td>16730</td>\n",
       "      <td>2.752628e+06</td>\n",
       "      <td>29921582</td>\n",
       "      <td>104620</td>\n",
       "      <td>2.767975e+06</td>\n",
       "    </tr>\n",
       "    <tr>\n",
       "      <th>4</th>\n",
       "      <td>Los Angeles</td>\n",
       "      <td>33289</td>\n",
       "      <td>5.421435e+06</td>\n",
       "      <td>59772496</td>\n",
       "      <td>208325</td>\n",
       "      <td>5.452571e+06</td>\n",
       "    </tr>\n",
       "    <tr>\n",
       "      <th>5</th>\n",
       "      <td>New York City</td>\n",
       "      <td>27932</td>\n",
       "      <td>4.635371e+06</td>\n",
       "      <td>50224654</td>\n",
       "      <td>175741</td>\n",
       "      <td>4.664317e+06</td>\n",
       "    </tr>\n",
       "    <tr>\n",
       "      <th>6</th>\n",
       "      <td>Portland</td>\n",
       "      <td>14053</td>\n",
       "      <td>2.307747e+06</td>\n",
       "      <td>25166837</td>\n",
       "      <td>87765</td>\n",
       "      <td>2.320491e+06</td>\n",
       "    </tr>\n",
       "    <tr>\n",
       "      <th>7</th>\n",
       "      <td>San Francisco</td>\n",
       "      <td>50239</td>\n",
       "      <td>8.211462e+06</td>\n",
       "      <td>90313920</td>\n",
       "      <td>315520</td>\n",
       "      <td>8.262204e+06</td>\n",
       "    </tr>\n",
       "    <tr>\n",
       "      <th>8</th>\n",
       "      <td>Seattle</td>\n",
       "      <td>16553</td>\n",
       "      <td>2.733296e+06</td>\n",
       "      <td>29743909</td>\n",
       "      <td>104941</td>\n",
       "      <td>2.747755e+06</td>\n",
       "    </tr>\n",
       "  </tbody>\n",
       "</table>\n",
       "</div>"
      ],
      "text/plain": [
       "           Cidade  Quantity Ordered    Price Each       Ano     Mes  \\\n",
       "0         Atlanta             16602  2.779908e+06  30044739  104794   \n",
       "1          Austin             11153  1.809874e+06  19998197   69829   \n",
       "2          Boston             22528  3.637410e+06  40246750  141112   \n",
       "3          Dallas             16730  2.752628e+06  29921582  104620   \n",
       "4     Los Angeles             33289  5.421435e+06  59772496  208325   \n",
       "5   New York City             27932  4.635371e+06  50224654  175741   \n",
       "6        Portland             14053  2.307747e+06  25166837   87765   \n",
       "7   San Francisco             50239  8.211462e+06  90313920  315520   \n",
       "8         Seattle             16553  2.733296e+06  29743909  104941   \n",
       "\n",
       "          Total  \n",
       "0  2.795499e+06  \n",
       "1  1.819582e+06  \n",
       "2  3.661642e+06  \n",
       "3  2.767975e+06  \n",
       "4  5.452571e+06  \n",
       "5  4.664317e+06  \n",
       "6  2.320491e+06  \n",
       "7  8.262204e+06  \n",
       "8  2.747755e+06  "
      ]
     },
     "execution_count": 34,
     "metadata": {},
     "output_type": "execute_result"
    }
   ],
   "source": [
    "\n",
    "\n",
    "CidadeMaisvendas = VendasConsolidado.groupby('Cidade').sum().reset_index()\n",
    "CidadeMaisvendas\n",
    "\n",
    "\n"
   ]
  },
  {
   "cell_type": "code",
   "execution_count": null,
   "id": "fc4df435",
   "metadata": {},
   "outputs": [],
   "source": [
    "\n",
    "\n"
   ]
  },
  {
   "cell_type": "code",
   "execution_count": 35,
   "id": "dca21e19",
   "metadata": {},
   "outputs": [
    {
     "data": {
      "image/png": "[encoded data removed]",
      "text/plain": [
       "<Figure size 1728x432 with 1 Axes>"
      ]
     },
     "metadata": {
      "needs_background": "light"
     },
     "output_type": "display_data"
    }
   ],
   "source": [
    "\n",
    "CidadesMaiorVendas = VendasConsolidado.groupby('Cidade').sum().astype('int')\n",
    "\n",
    "plt.figure(figsize=(24, 6)) \n",
    "\n",
    "sns.barplot(\n",
    "    x=CidadesMaiorVendas.index, \n",
    "    y=CidadesMaiorVendas['Total'], \n",
    "    data=CidadesMaiorVendas, palette='deep'\n",
    ")\n",
    "\n",
    "plt.title(\n",
    "    'Cidades com maior volume em vendas - Total', \n",
    "    fontname='monospace', weight='bold'\n",
    ")\n",
    "\n",
    "plt.xlabel('Cidades')\n",
    "\n",
    "plt.ylabel('Total vendas ($)');"
   ]
  },
  {
   "cell_type": "code",
   "execution_count": 36,
   "id": "95d7ab57",
   "metadata": {},
   "outputs": [],
   "source": [
    "# Sao francisco teve maior valor em Sales poq adiquiriu os produtos mais caros ou os produtos mais baratos ? analisar "
   ]
  },
  {
   "cell_type": "code",
   "execution_count": 37,
   "id": "cf3d776f",
   "metadata": {},
   "outputs": [],
   "source": [
    "#analisar os produtos mais order em cada cidade e os produtos mais caros que sairam"
   ]
  },
  {
   "cell_type": "code",
   "execution_count": 38,
   "id": "a5cea689",
   "metadata": {},
   "outputs": [
    {
     "data": {
      "image/png": "[encoded data removed]",
      "text/plain": [
       "<Figure size 1728x432 with 1 Axes>"
      ]
     },
     "metadata": {
      "needs_background": "light"
     },
     "output_type": "display_data"
    }
   ],
   "source": [
    "CidadesMaisPedidos = VendasConsolidado.groupby('Cidade').sum().astype('int')\n",
    "\n",
    "plt.figure(figsize=(24, 6)) \n",
    "\n",
    "sns.barplot(\n",
    "    x=CidadesMaisPedidos.index, \n",
    "    y=CidadesMaisPedidos['Quantity Ordered'], \n",
    "    data=CidadesMaisPedidos, palette='deep'\n",
    ")\n",
    "\n",
    "plt.title(\n",
    "    'Cidades maior numero de pedidos ', \n",
    "    fontname='monospace', weight='bold'\n",
    ")\n",
    "\n",
    "plt.xlabel('Cidades')\n",
    "\n",
    "plt.ylabel('Total pedidos (unidades)');"
   ]
  },
  {
   "cell_type": "markdown",
   "id": "617356b7",
   "metadata": {},
   "source": [
    "Para direcionar melhor as atividadesde marketing , vou clusterizar segmentos de consumidores para tracar melhores campanhas"
   ]
  },
  {
   "cell_type": "code",
   "execution_count": null,
   "id": "c2c8b21d",
   "metadata": {},
   "outputs": [],
   "source": []
  },
  {
   "cell_type": "markdown",
   "id": "0c1d8628",
   "metadata": {},
   "source": [
    "\n"
   ]
  },
  {
   "cell_type": "code",
   "execution_count": 90,
   "id": "4c1e2636",
   "metadata": {},
   "outputs": [
    {
     "data": {
      "text/html": [
       "<div>\n",
       "<style scoped>\n",
       "    .dataframe tbody tr th:only-of-type {\n",
       "        vertical-align: middle;\n",
       "    }\n",
       "\n",
       "    .dataframe tbody tr th {\n",
       "        vertical-align: top;\n",
       "    }\n",
       "\n",
       "    .dataframe thead th {\n",
       "        text-align: right;\n",
       "    }\n",
       "</style>\n",
       "<table border=\"1\" class=\"dataframe\">\n",
       "  <thead>\n",
       "    <tr style=\"text-align: right;\">\n",
       "      <th></th>\n",
       "      <th>Product</th>\n",
       "      <th>Quantity Ordered</th>\n",
       "      <th>Price Each</th>\n",
       "      <th>Purchase Address</th>\n",
       "      <th>Ano</th>\n",
       "      <th>Mes</th>\n",
       "      <th>Total</th>\n",
       "      <th>Cidade</th>\n",
       "      <th>Estado</th>\n",
       "      <th>Postal Code</th>\n",
       "    </tr>\n",
       "  </thead>\n",
       "  <tbody>\n",
       "    <tr>\n",
       "      <th>0</th>\n",
       "      <td>iPhone</td>\n",
       "      <td>1</td>\n",
       "      <td>700.00</td>\n",
       "      <td>944 Walnut St, Boston, MA 02215</td>\n",
       "      <td>2019</td>\n",
       "      <td>1</td>\n",
       "      <td>700.00</td>\n",
       "      <td>Boston</td>\n",
       "      <td>MA</td>\n",
       "      <td>02215</td>\n",
       "    </tr>\n",
       "    <tr>\n",
       "      <th>1</th>\n",
       "      <td>Lightning Charging Cable</td>\n",
       "      <td>1</td>\n",
       "      <td>14.95</td>\n",
       "      <td>185 Maple St, Portland, OR 97035</td>\n",
       "      <td>2019</td>\n",
       "      <td>1</td>\n",
       "      <td>14.95</td>\n",
       "      <td>Portland</td>\n",
       "      <td>OR</td>\n",
       "      <td>97035</td>\n",
       "    </tr>\n",
       "    <tr>\n",
       "      <th>2</th>\n",
       "      <td>Wired Headphones</td>\n",
       "      <td>2</td>\n",
       "      <td>11.99</td>\n",
       "      <td>538 Adams St, San Francisco, CA 94016</td>\n",
       "      <td>2019</td>\n",
       "      <td>1</td>\n",
       "      <td>23.98</td>\n",
       "      <td>San Francisco</td>\n",
       "      <td>CA</td>\n",
       "      <td>94016</td>\n",
       "    </tr>\n",
       "    <tr>\n",
       "      <th>3</th>\n",
       "      <td>27in FHD Monitor</td>\n",
       "      <td>1</td>\n",
       "      <td>149.99</td>\n",
       "      <td>738 10th St, Los Angeles, CA 90001</td>\n",
       "      <td>2019</td>\n",
       "      <td>1</td>\n",
       "      <td>149.99</td>\n",
       "      <td>Los Angeles</td>\n",
       "      <td>CA</td>\n",
       "      <td>90001</td>\n",
       "    </tr>\n",
       "    <tr>\n",
       "      <th>4</th>\n",
       "      <td>Wired Headphones</td>\n",
       "      <td>1</td>\n",
       "      <td>11.99</td>\n",
       "      <td>387 10th St, Austin, TX 73301</td>\n",
       "      <td>2019</td>\n",
       "      <td>1</td>\n",
       "      <td>11.99</td>\n",
       "      <td>Austin</td>\n",
       "      <td>TX</td>\n",
       "      <td>73301</td>\n",
       "    </tr>\n",
       "  </tbody>\n",
       "</table>\n",
       "</div>"
      ],
      "text/plain": [
       "                    Product  Quantity Ordered  Price Each  \\\n",
       "0                    iPhone                 1      700.00   \n",
       "1  Lightning Charging Cable                 1       14.95   \n",
       "2          Wired Headphones                 2       11.99   \n",
       "3          27in FHD Monitor                 1      149.99   \n",
       "4          Wired Headphones                 1       11.99   \n",
       "\n",
       "                        Purchase Address   Ano  Mes   Total          Cidade  \\\n",
       "0        944 Walnut St, Boston, MA 02215  2019    1  700.00          Boston   \n",
       "1       185 Maple St, Portland, OR 97035  2019    1   14.95        Portland   \n",
       "2  538 Adams St, San Francisco, CA 94016  2019    1   23.98   San Francisco   \n",
       "3     738 10th St, Los Angeles, CA 90001  2019    1  149.99     Los Angeles   \n",
       "4          387 10th St, Austin, TX 73301  2019    1   11.99          Austin   \n",
       "\n",
       "  Estado Postal Code  \n",
       "0     MA       02215  \n",
       "1     OR       97035  \n",
       "2     CA       94016  \n",
       "3     CA       90001  \n",
       "4     TX       73301  "
      ]
     },
     "execution_count": 90,
     "metadata": {},
     "output_type": "execute_result"
    }
   ],
   "source": [
    "VendasConsolidado.head()"
   ]
  },
  {
   "cell_type": "markdown",
   "id": "695d1e90",
   "metadata": {},
   "source": [
    "\n"
   ]
  },
  {
   "cell_type": "markdown",
   "id": "de518158",
   "metadata": {},
   "source": []
  },
  {
   "cell_type": "code",
   "execution_count": null,
   "id": "16c98e73",
   "metadata": {},
   "outputs": [],
   "source": [
    "The following steps are applied to preprocess the data:\n",
    "\n",
    "Label encoding the categorical features\n",
    "Scaling the features using the standard scaler\n",
    "Creating a subset dataframe for dimensionality reduction"
   ]
  },
  {
   "cell_type": "code",
   "execution_count": 91,
   "id": "dfc57a9b",
   "metadata": {},
   "outputs": [
    {
     "name": "stdout",
     "output_type": "stream",
     "text": [
      "Categorical variables in the dataset: ['Product', 'Purchase Address', 'Cidade', 'Estado', 'Postal Code']\n"
     ]
    }
   ],
   "source": [
    "#Get list of categorical variables\n",
    "s = (VendasConsolidado.dtypes == 'object')\n",
    "object_cols = list(s[s].index)\n",
    "\n",
    "print(\"Categorical variables in the dataset:\", object_cols)"
   ]
  },
  {
   "cell_type": "markdown",
   "id": "e7430ab2",
   "metadata": {},
   "source": []
  },
  {
   "cell_type": "code",
   "execution_count": 95,
   "id": "af89e1bb",
   "metadata": {},
   "outputs": [
    {
     "name": "stdout",
     "output_type": "stream",
     "text": [
      "All features are now numerical\n"
     ]
    }
   ],
   "source": [
    "#Label Encoding the object dtypes.\n",
    "LE=LabelEncoder()\n",
    "for i in object_cols:\n",
    "    VendasConsolidado[i]=VendasConsolidado[[i]].apply(LE.fit_transform)\n",
    "    \n",
    "print(\"All features are now numerical\")"
   ]
  },
  {
   "cell_type": "code",
   "execution_count": 96,
   "id": "7cceb3df",
   "metadata": {},
   "outputs": [
    {
     "data": {
      "text/html": [
       "<div>\n",
       "<style scoped>\n",
       "    .dataframe tbody tr th:only-of-type {\n",
       "        vertical-align: middle;\n",
       "    }\n",
       "\n",
       "    .dataframe tbody tr th {\n",
       "        vertical-align: top;\n",
       "    }\n",
       "\n",
       "    .dataframe thead th {\n",
       "        text-align: right;\n",
       "    }\n",
       "</style>\n",
       "<table border=\"1\" class=\"dataframe\">\n",
       "  <thead>\n",
       "    <tr style=\"text-align: right;\">\n",
       "      <th></th>\n",
       "      <th>Product</th>\n",
       "      <th>Quantity Ordered</th>\n",
       "      <th>Price Each</th>\n",
       "      <th>Purchase Address</th>\n",
       "      <th>Ano</th>\n",
       "      <th>Mes</th>\n",
       "      <th>Total</th>\n",
       "      <th>Cidade</th>\n",
       "      <th>Estado</th>\n",
       "      <th>Postal Code</th>\n",
       "    </tr>\n",
       "  </thead>\n",
       "  <tbody>\n",
       "    <tr>\n",
       "      <th>0</th>\n",
       "      <td>18</td>\n",
       "      <td>1</td>\n",
       "      <td>700.00</td>\n",
       "      <td>132266</td>\n",
       "      <td>2019</td>\n",
       "      <td>1</td>\n",
       "      <td>700.00</td>\n",
       "      <td>2</td>\n",
       "      <td>2</td>\n",
       "      <td>0</td>\n",
       "    </tr>\n",
       "    <tr>\n",
       "      <th>1</th>\n",
       "      <td>12</td>\n",
       "      <td>1</td>\n",
       "      <td>14.95</td>\n",
       "      <td>13519</td>\n",
       "      <td>2019</td>\n",
       "      <td>1</td>\n",
       "      <td>14.95</td>\n",
       "      <td>6</td>\n",
       "      <td>5</td>\n",
       "      <td>8</td>\n",
       "    </tr>\n",
       "    <tr>\n",
       "      <th>2</th>\n",
       "      <td>17</td>\n",
       "      <td>2</td>\n",
       "      <td>11.99</td>\n",
       "      <td>68669</td>\n",
       "      <td>2019</td>\n",
       "      <td>1</td>\n",
       "      <td>23.98</td>\n",
       "      <td>7</td>\n",
       "      <td>0</td>\n",
       "      <td>7</td>\n",
       "    </tr>\n",
       "    <tr>\n",
       "      <th>3</th>\n",
       "      <td>2</td>\n",
       "      <td>1</td>\n",
       "      <td>149.99</td>\n",
       "      <td>99824</td>\n",
       "      <td>2019</td>\n",
       "      <td>1</td>\n",
       "      <td>149.99</td>\n",
       "      <td>4</td>\n",
       "      <td>0</td>\n",
       "      <td>6</td>\n",
       "    </tr>\n",
       "    <tr>\n",
       "      <th>4</th>\n",
       "      <td>17</td>\n",
       "      <td>1</td>\n",
       "      <td>11.99</td>\n",
       "      <td>44894</td>\n",
       "      <td>2019</td>\n",
       "      <td>1</td>\n",
       "      <td>11.99</td>\n",
       "      <td>1</td>\n",
       "      <td>6</td>\n",
       "      <td>4</td>\n",
       "    </tr>\n",
       "  </tbody>\n",
       "</table>\n",
       "</div>"
      ],
      "text/plain": [
       "   Product  Quantity Ordered  Price Each  Purchase Address   Ano  Mes   Total  \\\n",
       "0       18                 1      700.00            132266  2019    1  700.00   \n",
       "1       12                 1       14.95             13519  2019    1   14.95   \n",
       "2       17                 2       11.99             68669  2019    1   23.98   \n",
       "3        2                 1      149.99             99824  2019    1  149.99   \n",
       "4       17                 1       11.99             44894  2019    1   11.99   \n",
       "\n",
       "   Cidade  Estado  Postal Code  \n",
       "0       2       2            0  \n",
       "1       6       5            8  \n",
       "2       7       0            7  \n",
       "3       4       0            6  \n",
       "4       1       6            4  "
      ]
     },
     "execution_count": 96,
     "metadata": {},
     "output_type": "execute_result"
    }
   ],
   "source": [
    "VendasConsolidado.head()\n"
   ]
  },
  {
   "cell_type": "code",
   "execution_count": 102,
   "id": "f9466f1c",
   "metadata": {},
   "outputs": [
    {
     "data": {
      "text/html": [
       "<div>\n",
       "<style scoped>\n",
       "    .dataframe tbody tr th:only-of-type {\n",
       "        vertical-align: middle;\n",
       "    }\n",
       "\n",
       "    .dataframe tbody tr th {\n",
       "        vertical-align: top;\n",
       "    }\n",
       "\n",
       "    .dataframe thead th {\n",
       "        text-align: right;\n",
       "    }\n",
       "</style>\n",
       "<table border=\"1\" class=\"dataframe\">\n",
       "  <thead>\n",
       "    <tr style=\"text-align: right;\">\n",
       "      <th></th>\n",
       "      <th>Product</th>\n",
       "      <th>Quantity Ordered</th>\n",
       "      <th>Price Each</th>\n",
       "      <th>Purchase Address</th>\n",
       "      <th>Total</th>\n",
       "      <th>Cidade</th>\n",
       "    </tr>\n",
       "  </thead>\n",
       "  <tbody>\n",
       "    <tr>\n",
       "      <th>0</th>\n",
       "      <td>18</td>\n",
       "      <td>1</td>\n",
       "      <td>700.00</td>\n",
       "      <td>132266</td>\n",
       "      <td>700.00</td>\n",
       "      <td>2</td>\n",
       "    </tr>\n",
       "    <tr>\n",
       "      <th>1</th>\n",
       "      <td>12</td>\n",
       "      <td>1</td>\n",
       "      <td>14.95</td>\n",
       "      <td>13519</td>\n",
       "      <td>14.95</td>\n",
       "      <td>6</td>\n",
       "    </tr>\n",
       "    <tr>\n",
       "      <th>2</th>\n",
       "      <td>17</td>\n",
       "      <td>2</td>\n",
       "      <td>11.99</td>\n",
       "      <td>68669</td>\n",
       "      <td>23.98</td>\n",
       "      <td>7</td>\n",
       "    </tr>\n",
       "    <tr>\n",
       "      <th>3</th>\n",
       "      <td>2</td>\n",
       "      <td>1</td>\n",
       "      <td>149.99</td>\n",
       "      <td>99824</td>\n",
       "      <td>149.99</td>\n",
       "      <td>4</td>\n",
       "    </tr>\n",
       "    <tr>\n",
       "      <th>4</th>\n",
       "      <td>17</td>\n",
       "      <td>1</td>\n",
       "      <td>11.99</td>\n",
       "      <td>44894</td>\n",
       "      <td>11.99</td>\n",
       "      <td>1</td>\n",
       "    </tr>\n",
       "  </tbody>\n",
       "</table>\n",
       "</div>"
      ],
      "text/plain": [
       "   Product  Quantity Ordered  Price Each  Purchase Address   Total  Cidade\n",
       "0       18                 1      700.00            132266  700.00       2\n",
       "1       12                 1       14.95             13519   14.95       6\n",
       "2       17                 2       11.99             68669   23.98       7\n",
       "3        2                 1      149.99             99824  149.99       4\n",
       "4       17                 1       11.99             44894   11.99       1"
      ]
     },
     "execution_count": 102,
     "metadata": {},
     "output_type": "execute_result"
    }
   ],
   "source": [
    "\n",
    "#Creating a copy of data\n",
    "VendasConsolidadoCopy = VendasConsolidado.copy()\n",
    "\n",
    "#Drop colunas que nao sao necessarias no modelo\n",
    "VendasConsolidadoCopy = VendasConsolidadoCopy.drop(VendasConsolidadoCopy.columns[[4,5, 8, 9]], axis=1) \n",
    "\n",
    "VendasConsolidadoCopy.head()\n"
   ]
  },
  {
   "cell_type": "code",
   "execution_count": 103,
   "id": "c2aa117a",
   "metadata": {},
   "outputs": [
    {
     "name": "stdout",
     "output_type": "stream",
     "text": [
      "All features are now scaled\n"
     ]
    }
   ],
   "source": [
    "\n",
    "#Scaling\n",
    "scaler = StandardScaler()\n",
    "scaler.fit(VendasConsolidadoCopy)\n",
    "scaled_VendasConsolidadoCopy = pd.DataFrame(scaler.transform(VendasConsolidadoCopy),columns= VendasConsolidadoCopy.columns )\n",
    "print(\"All features are now scaled\")"
   ]
  },
  {
   "cell_type": "markdown",
   "id": "e1b85486",
   "metadata": {},
   "source": []
  },
  {
   "cell_type": "code",
   "execution_count": 104,
   "id": "d189246e",
   "metadata": {},
   "outputs": [
    {
     "name": "stdout",
     "output_type": "stream",
     "text": [
      "Dataframe to be used for further modelling:\n"
     ]
    },
    {
     "data": {
      "text/html": [
       "<div>\n",
       "<style scoped>\n",
       "    .dataframe tbody tr th:only-of-type {\n",
       "        vertical-align: middle;\n",
       "    }\n",
       "\n",
       "    .dataframe tbody tr th {\n",
       "        vertical-align: top;\n",
       "    }\n",
       "\n",
       "    .dataframe thead th {\n",
       "        text-align: right;\n",
       "    }\n",
       "</style>\n",
       "<table border=\"1\" class=\"dataframe\">\n",
       "  <thead>\n",
       "    <tr style=\"text-align: right;\">\n",
       "      <th></th>\n",
       "      <th>Product</th>\n",
       "      <th>Quantity Ordered</th>\n",
       "      <th>Price Each</th>\n",
       "      <th>Purchase Address</th>\n",
       "      <th>Total</th>\n",
       "      <th>Cidade</th>\n",
       "    </tr>\n",
       "  </thead>\n",
       "  <tbody>\n",
       "    <tr>\n",
       "      <th>0</th>\n",
       "      <td>1.646622</td>\n",
       "      <td>-0.280906</td>\n",
       "      <td>1.549604</td>\n",
       "      <td>1.521943</td>\n",
       "      <td>1.545449</td>\n",
       "      <td>-1.049773</td>\n",
       "    </tr>\n",
       "    <tr>\n",
       "      <th>1</th>\n",
       "      <td>0.532183</td>\n",
       "      <td>-0.280906</td>\n",
       "      <td>-0.509270</td>\n",
       "      <td>-1.399334</td>\n",
       "      <td>-0.512260</td>\n",
       "      <td>0.608363</td>\n",
       "    </tr>\n",
       "    <tr>\n",
       "      <th>2</th>\n",
       "      <td>1.460883</td>\n",
       "      <td>1.977493</td>\n",
       "      <td>-0.518166</td>\n",
       "      <td>-0.042597</td>\n",
       "      <td>-0.485136</td>\n",
       "      <td>1.022896</td>\n",
       "    </tr>\n",
       "    <tr>\n",
       "      <th>3</th>\n",
       "      <td>-1.325216</td>\n",
       "      <td>-0.280906</td>\n",
       "      <td>-0.103416</td>\n",
       "      <td>0.723842</td>\n",
       "      <td>-0.106635</td>\n",
       "      <td>-0.220705</td>\n",
       "    </tr>\n",
       "    <tr>\n",
       "      <th>4</th>\n",
       "      <td>1.460883</td>\n",
       "      <td>-0.280906</td>\n",
       "      <td>-0.518166</td>\n",
       "      <td>-0.627483</td>\n",
       "      <td>-0.521151</td>\n",
       "      <td>-1.464306</td>\n",
       "    </tr>\n",
       "  </tbody>\n",
       "</table>\n",
       "</div>"
      ],
      "text/plain": [
       "    Product  Quantity Ordered  Price Each  Purchase Address     Total  \\\n",
       "0  1.646622         -0.280906    1.549604          1.521943  1.545449   \n",
       "1  0.532183         -0.280906   -0.509270         -1.399334 -0.512260   \n",
       "2  1.460883          1.977493   -0.518166         -0.042597 -0.485136   \n",
       "3 -1.325216         -0.280906   -0.103416          0.723842 -0.106635   \n",
       "4  1.460883         -0.280906   -0.518166         -0.627483 -0.521151   \n",
       "\n",
       "     Cidade  \n",
       "0 -1.049773  \n",
       "1  0.608363  \n",
       "2  1.022896  \n",
       "3 -0.220705  \n",
       "4 -1.464306  "
      ]
     },
     "execution_count": 104,
     "metadata": {},
     "output_type": "execute_result"
    }
   ],
   "source": [
    "#Scaled data to be used for reducing the dimensionality\n",
    "print(\"Dataframe to be used for further modelling:\")\n",
    "scaled_VendasConsolidadoCopy.head()\n"
   ]
  },
  {
   "cell_type": "markdown",
   "id": "b5304d9b",
   "metadata": {},
   "source": [
    ".In this problem, there are many factors on the basis of which the final classification will be done. These factors are basically attributes or features. The higher the number of features, the harder it is to work with it. Many of these features are correlated, and hence redundant. This is why I will be performing dimensionality reduction on the selected features before putting them through a classifier.\n",
    "Dimensionality reduction is the process of reducing the number of random variables under consideration, by obtaining a set of principal variables.\n",
    "\n",
    "Principal component analysis (PCA) is a technique for reducing the dimensionality of such datasets, increasing interpretability but at the same time minimizing information loss.\n",
    "\n",
    "Steps in this section:\n",
    "\n",
    "Dimensionality reduction with PCA\n",
    "Plotting the reduced dataframe\n",
    "Dimensionality reduction with PCA\n",
    "\n",
    "For this project, I will be reducing the dimensions to 3."
   ]
  },
  {
   "cell_type": "code",
   "execution_count": 105,
   "id": "b4a4784d",
   "metadata": {},
   "outputs": [
    {
     "data": {
      "text/html": [
       "<div>\n",
       "<style scoped>\n",
       "    .dataframe tbody tr th:only-of-type {\n",
       "        vertical-align: middle;\n",
       "    }\n",
       "\n",
       "    .dataframe tbody tr th {\n",
       "        vertical-align: top;\n",
       "    }\n",
       "\n",
       "    .dataframe thead th {\n",
       "        text-align: right;\n",
       "    }\n",
       "</style>\n",
       "<table border=\"1\" class=\"dataframe\">\n",
       "  <thead>\n",
       "    <tr style=\"text-align: right;\">\n",
       "      <th></th>\n",
       "      <th>count</th>\n",
       "      <th>mean</th>\n",
       "      <th>std</th>\n",
       "      <th>min</th>\n",
       "      <th>25%</th>\n",
       "      <th>50%</th>\n",
       "      <th>75%</th>\n",
       "      <th>max</th>\n",
       "    </tr>\n",
       "  </thead>\n",
       "  <tbody>\n",
       "    <tr>\n",
       "      <th>col1</th>\n",
       "      <td>185950.0</td>\n",
       "      <td>-6.167484e-17</td>\n",
       "      <td>1.442356</td>\n",
       "      <td>-4.425039</td>\n",
       "      <td>-0.585040</td>\n",
       "      <td>-0.376370</td>\n",
       "      <td>-0.193887</td>\n",
       "      <td>9.398339</td>\n",
       "    </tr>\n",
       "    <tr>\n",
       "      <th>col2</th>\n",
       "      <td>185950.0</td>\n",
       "      <td>-6.232291e-17</td>\n",
       "      <td>1.016596</td>\n",
       "      <td>-1.553114</td>\n",
       "      <td>-0.793993</td>\n",
       "      <td>0.103106</td>\n",
       "      <td>0.365753</td>\n",
       "      <td>12.301574</td>\n",
       "    </tr>\n",
       "    <tr>\n",
       "      <th>col3</th>\n",
       "      <td>185950.0</td>\n",
       "      <td>5.143058e-17</td>\n",
       "      <td>1.001678</td>\n",
       "      <td>-2.322136</td>\n",
       "      <td>-0.734554</td>\n",
       "      <td>-0.012784</td>\n",
       "      <td>0.695579</td>\n",
       "      <td>3.023689</td>\n",
       "    </tr>\n",
       "  </tbody>\n",
       "</table>\n",
       "</div>"
      ],
      "text/plain": [
       "         count          mean       std       min       25%       50%  \\\n",
       "col1  185950.0 -6.167484e-17  1.442356 -4.425039 -0.585040 -0.376370   \n",
       "col2  185950.0 -6.232291e-17  1.016596 -1.553114 -0.793993  0.103106   \n",
       "col3  185950.0  5.143058e-17  1.001678 -2.322136 -0.734554 -0.012784   \n",
       "\n",
       "           75%        max  \n",
       "col1 -0.193887   9.398339  \n",
       "col2  0.365753  12.301574  \n",
       "col3  0.695579   3.023689  "
      ]
     },
     "execution_count": 105,
     "metadata": {},
     "output_type": "execute_result"
    }
   ],
   "source": [
    "#Initiating PCA to reduce dimentions aka features to 3\n",
    "pca = PCA(n_components=3)\n",
    "pca.fit(scaled_VendasConsolidadoCopy)\n",
    "PCA_VendasConsolidadoCopy = pd.DataFrame(pca.transform(scaled_VendasConsolidadoCopy), columns=([\"col1\",\"col2\", \"col3\"]))\n",
    "PCA_VendasConsolidadoCopy.describe().T"
   ]
  },
  {
   "cell_type": "code",
   "execution_count": 100,
   "id": "0afe87f1",
   "metadata": {},
   "outputs": [
    {
     "data": {
      "image/png": "[encoded data removed]",
      "text/plain": [
       "<Figure size 720x576 with 1 Axes>"
      ]
     },
     "metadata": {
      "needs_background": "light"
     },
     "output_type": "display_data"
    }
   ],
   "source": [
    "#A 3D Projection Of Data In The Reduced Dimension\n",
    "x =PCA_VendasConsolidadoCopy[\"col1\"]\n",
    "y =PCA_VendasConsolidadoCopy[\"col2\"]\n",
    "z =PCA_VendasConsolidadoCopy[\"col3\"]\n",
    "#To plot\n",
    "fig = plt.figure(figsize=(10,8))\n",
    "ax = fig.add_subplot(111, projection=\"3d\")\n",
    "ax.scatter(x,y,z, c=\"maroon\", marker=\"o\" )\n",
    "ax.set_title(\"A 3D Projection Of Data In The Reduced Dimension\")\n",
    "plt.show()"
   ]
  },
  {
   "cell_type": "code",
   "execution_count": null,
   "id": "eaa3d69b",
   "metadata": {},
   "outputs": [],
   "source": []
  },
  {
   "cell_type": "code",
   "execution_count": null,
   "id": "70a269d1",
   "metadata": {},
   "outputs": [],
   "source": []
  },
  {
   "cell_type": "markdown",
   "id": "6be64e22",
   "metadata": {},
   "source": []
  },
  {
   "cell_type": "markdown",
   "id": "1e551d63",
   "metadata": {},
   "source": []
  },
  {
   "cell_type": "code",
   "execution_count": null,
   "id": "998a60e3",
   "metadata": {},
   "outputs": [],
   "source": []
  },
  {
   "cell_type": "code",
   "execution_count": null,
   "id": "088a096d",
   "metadata": {},
   "outputs": [],
   "source": []
  },
  {
   "cell_type": "code",
   "execution_count": null,
   "id": "ac182a56",
   "metadata": {},
   "outputs": [],
   "source": []
  },
  {
   "cell_type": "markdown",
   "id": "e637694e",
   "metadata": {},
   "source": []
  },
  {
   "cell_type": "code",
   "execution_count": null,
   "id": "17849e77",
   "metadata": {},
   "outputs": [],
   "source": []
  },
  {
   "cell_type": "code",
   "execution_count": null,
   "id": "3e9c6b45",
   "metadata": {},
   "outputs": [],
   "source": []
  },
  {
   "cell_type": "markdown",
   "id": "77b533ea",
   "metadata": {},
   "source": [
    "\n"
   ]
  },
  {
   "cell_type": "markdown",
   "id": "3e5a533c",
   "metadata": {},
   "source": []
  },
  {
   "cell_type": "code",
   "execution_count": null,
   "id": "f870893f",
   "metadata": {},
   "outputs": [],
   "source": []
  }
 ],
 "metadata": {
  "kernelspec": {
   "display_name": "Python 3",
   "language": "python",
   "name": "python3"
  },
  "language_info": {
   "codemirror_mode": {
    "name": "ipython",
    "version": 3
   },
   "file_extension": ".py",
   "mimetype": "text/x-python",
   "name": "python",
   "nbconvert_exporter": "python",
   "pygments_lexer": "ipython3",
   "version": "3.8.8"
  }
 },
 "nbformat": 4,
 "nbformat_minor": 5
}
